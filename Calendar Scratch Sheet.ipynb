{
 "cells": [
  {
   "cell_type": "code",
   "id": "initial_id",
   "metadata": {
    "collapsed": true
   },
   "source": [
    "# Collect desired calendar properties from initial input\n",
    "# 1- access data source\n",
    "# 2- creat calendar structure for each calendar\n",
    "# 3- Fill structure with calendar properties and calendar data\n",
    "# 4- Process calendar data"
   ],
   "outputs": [],
   "execution_count": null
  },
  {
   "cell_type": "code",
   "source": [
    "import pandas as pd\n",
    "pd.set_option('display.max_columns', None)\n",
    "pd.set_option('display.max_rows', None)"
   ],
   "metadata": {
    "collapsed": false
   },
   "id": "79cdfbd997fe0777",
   "outputs": [],
   "execution_count": null
  },
  {
   "cell_type": "code",
   "source": [
    "# specify the file path, you might need to adjust this\n",
    "file_path = \"TST00-Baseline.xlsx\"\n",
    "# Load the calendar data into a DataFrame\n",
    "calendar_df = pd.read_excel(file_path, sheet_name='CALENDAR')\n",
    "# Load a sheet into a dataframe by its name\n",
    "project_df = pd.read_excel(file_path, sheet_name='PROJECT')"
   ],
   "metadata": {
    "collapsed": false
   },
   "id": "c741cfe4ab85eb27",
   "outputs": [],
   "execution_count": null
  },
  {
   "cell_type": "code",
   "source": [
    "calendar_df"
   ],
   "metadata": {
    "collapsed": false
   },
   "id": "fa8e3a47aa3a4750",
   "outputs": [],
   "execution_count": null
  },
  {
   "cell_type": "code",
   "source": [
    "calendar_struct = calendar_df.iloc[0].to_dict()\n",
    "# get first key\n",
    "first_key = next(iter(calendar_struct))\n",
    "\n",
    "# delete first key-value pair\n",
    "calendar_struct.pop(first_key)"
   ],
   "metadata": {
    "collapsed": false
   },
   "id": "90f5c7f189e6d5a0",
   "outputs": [],
   "execution_count": null
  },
  {
   "cell_type": "code",
   "source": [
    "calendar_struct"
   ],
   "metadata": {
    "collapsed": false
   },
   "id": "7620269130cabc08",
   "outputs": [],
   "execution_count": null
  },
  {
   "cell_type": "code",
   "source": [
    "# Assuming 'clndr_data' is a column in 'calendar_df'\n",
    "clndr_data_split = calendar_df['clndr_data'].str.split('\\\\(0\\\\|\\\\|', expand=True).stack()\n",
    "\n",
    "# Create new dataframe with each output of split operation as a new row\n",
    "cal_data_df = pd.DataFrame(clndr_data_split, columns=['Data'])\n",
    "\n",
    "# Reset the index\n",
    "cal_data_df = cal_data_df.reset_index(drop=True)"
   ],
   "metadata": {
    "collapsed": false
   },
   "id": "a1dc62ca3de6c20d",
   "outputs": [],
   "execution_count": null
  },
  {
   "cell_type": "code",
   "source": [
    "cal_data_df"
   ],
   "metadata": {
    "collapsed": false
   },
   "id": "7c0b2b5b263c2631",
   "outputs": [],
   "execution_count": null
  },
  {
   "cell_type": "code",
   "source": [
    "start_index = cal_data_df[cal_data_df['Data'].str.contains('DaysOfWeek')].index[0]\n",
    "end_index = cal_data_df[cal_data_df['Data'].str.contains('VIEW')].index[0]\n",
    "\n",
    "# Create a new DataFrame by selecting rows between \"DaysOfWeek\" and \"VIEW\"\n",
    "DaysOfWeek_df = cal_data_df.loc[start_index + 1: end_index - 1]"
   ],
   "metadata": {
    "collapsed": false
   },
   "id": "348781a4ac99fcdc",
   "outputs": [],
   "execution_count": null
  },
  {
   "cell_type": "code",
   "source": [
    "# Initialize a list to hold the data\n",
    "WeekDays_data = []\n",
    "\n",
    "# Iterate over rows in DaysOfWeek_df\n",
    "for i in range(len(DaysOfWeek_df['Data'])):\n",
    "\n",
    "    if DaysOfWeek_df['Data'].iloc[i][0] != '0':\n",
    "        # Add new entry and mark it as the current entry\n",
    "        current_entry = [DaysOfWeek_df['Data'].iloc[i][0], '0', '0']\n",
    "        WeekDays_data.append(current_entry)\n",
    "\n",
    "    elif 's' in DaysOfWeek_df['Data'].iloc[i] and 'f' in DaysOfWeek_df['Data'].iloc[i]:\n",
    "        # Modify 'StartingHour' and 'EndingHour' of current entry\n",
    "        start_s = DaysOfWeek_df['Data'].iloc[i].index('s') + 2\n",
    "        start_f = DaysOfWeek_df['Data'].iloc[i].index('f') + 2\n",
    "        current_entry[1] = DaysOfWeek_df['Data'].iloc[i][start_s: start_s + 5]\n",
    "        current_entry[2] = DaysOfWeek_df['Data'].iloc[i][start_f: start_f + 5]\n",
    "\n",
    "# Create DataFrame\n",
    "WeekDays = pd.DataFrame(WeekDays_data, columns=['DayNumber', 'StartingHour', 'EndingHour'])"
   ],
   "metadata": {
    "collapsed": false
   },
   "id": "b2bfa2e4a5d9e2c5",
   "outputs": [],
   "execution_count": null
  },
  {
   "cell_type": "code",
   "source": [
    "WeekDays"
   ],
   "metadata": {
    "collapsed": false
   },
   "id": "9de91167e359bcb",
   "outputs": [],
   "execution_count": null
  },
  {
   "cell_type": "code",
   "source": [
    "# Get index of row containing 'Exceptions' in 'Data' column\n",
    "exceptions_index = cal_data_df[cal_data_df['Data'].str.contains('Exceptions')].index[0]\n",
    "\n",
    "# Select all rows after that index\n",
    "exceptions_df = cal_data_df.iloc[exceptions_index + 1:]"
   ],
   "metadata": {
    "collapsed": false
   },
   "id": "5bc654700de1598",
   "outputs": [],
   "execution_count": null
  },
  {
   "cell_type": "code",
   "source": [
    "# Initialize a list to hold the data\n",
    "Exceptions_data = []\n",
    "\n",
    "# Iterate over rows in exceptions_df\n",
    "for i in range(len(exceptions_df['Data'])):\n",
    "\n",
    "    if 'd' in exceptions_df['Data'].iloc[i]:\n",
    "        # Add new entry and mark it as the current entry\n",
    "        idx = exceptions_df['Data'].iloc[i].index('d')\n",
    "        current_entry = [exceptions_df['Data'].iloc[i][idx + 2:idx + 7], '0', '0']\n",
    "        Exceptions_data.append(current_entry)\n",
    "\n",
    "        # If next row contains 's' and 'f', modify 'StartingHour' and 'EndingHour' of current entry\n",
    "        if i < len(exceptions_df['Data']) - 1 and 's' in exceptions_df['Data'].iloc[i + 1] and 'f' in \\\n",
    "                exceptions_df['Data'].iloc[i + 1]:\n",
    "            start_s = exceptions_df['Data'].iloc[i + 1].index('s') + 2\n",
    "            start_f = exceptions_df['Data'].iloc[i + 1].index('f') + 2\n",
    "            current_entry[1] = exceptions_df['Data'].iloc[i + 1][start_s: start_s + 5]\n",
    "            current_entry[2] = exceptions_df['Data'].iloc[i + 1][start_f: start_f + 5]\n",
    "\n",
    "# Create DataFrame\n",
    "Exceptions = pd.DataFrame(Exceptions_data, columns=['DayNumber', 'StartingHour', 'EndingHour'])"
   ],
   "metadata": {
    "collapsed": false
   },
   "id": "99b050f0d6ec349",
   "outputs": [],
   "execution_count": null
  },
  {
   "cell_type": "code",
   "source": [
    "Exceptions"
   ],
   "metadata": {
    "collapsed": false
   },
   "id": "e8a5554d3acef632",
   "outputs": [],
   "execution_count": null
  },
  {
   "cell_type": "code",
   "source": [
    "project_df"
   ],
   "metadata": {
    "collapsed": false
   },
   "id": "25c1ee6811b396e8",
   "outputs": [],
   "execution_count": null
  },
  {
   "cell_type": "code",
   "source": [
    "import pandas as pd\n",
    "from datetime import datetime, timedelta\n",
    "\n",
    "# This function converts Excel's date serial number to python datetime\n",
    "def excel_date_to_dt(date):\n",
    "    return (pd.to_datetime('1900-01-01') + pd.to_timedelta(date - 2, unit='d')).date()\n",
    "\n",
    "# Find the maximum DayNumber in the Exceptions dataframe \n",
    "max_daynumber = Exceptions['DayNumber'].max()\n",
    "\n",
    "# Convert max_daynumber to integer if it's not already\n",
    "max_daynumber = int(max_daynumber)\n",
    "\n",
    "# Convert the max day number to a date\n",
    "max_daynumber_date = excel_date_to_dt(max_daynumber)\n",
    "\n",
    "# Get the first scd_end_date from the project_df dataframe\n",
    "scd_end_date = project_df['scd_end_date'].iloc[0]\n",
    "\n",
    "# Make sure scd_end_date is in a date format\n",
    "scd_end_date = pd.to_datetime(scd_end_date).date()\n",
    "\n",
    "# Compare the date from max_daynumber_date and scd_end_date, take the later one\n",
    "if max_daynumber_date > scd_end_date:\n",
    "    project_finish_date = max_daynumber_date\n",
    "else:\n",
    "    project_finish_date = scd_end_date"
   ],
   "metadata": {
    "collapsed": false
   },
   "id": "8a01808f39a6b140",
   "outputs": [],
   "execution_count": null
  },
  {
   "cell_type": "code",
   "source": [
    "project_start_date = pd.to_datetime(project_df['plan_start_date']).iloc[0]\n",
    "#project_finish_date = pd.to_datetime(project_df['scd_end_date']).iloc[0]"
   ],
   "metadata": {
    "collapsed": false
   },
   "id": "35008380e65b4888",
   "outputs": [],
   "execution_count": null
  },
  {
   "cell_type": "code",
   "source": [
    "project_start_date"
   ],
   "metadata": {
    "collapsed": false
   },
   "id": "78abc150884330a6",
   "outputs": [],
   "execution_count": null
  },
  {
   "cell_type": "code",
   "source": [
    "project_finish_date"
   ],
   "metadata": {
    "collapsed": false
   },
   "id": "437b55691be4dee6",
   "outputs": [],
   "execution_count": null
  },
  {
   "cell_type": "code",
   "source": [
    "start_date = project_start_date.date()"
   ],
   "metadata": {
    "collapsed": false
   },
   "id": "43fbde166195b900",
   "outputs": [],
   "execution_count": null
  },
  {
   "cell_type": "code",
   "source": [
    "start_date"
   ],
   "metadata": {
    "collapsed": false
   },
   "id": "260bea675b39a57e",
   "outputs": [],
   "execution_count": null
  },
  {
   "cell_type": "code",
   "source": [
    "WeekDays"
   ],
   "metadata": {
    "collapsed": false
   },
   "id": "2bfc37ae066860e1",
   "outputs": [],
   "execution_count": null
  },
  {
   "cell_type": "code",
   "source": [
    "# Reindexing DayNumber in WeekDays to match Python's date convention Monday=0, Sunday=6\n",
    "mapping = {1:6, 2:0, 3:1, 4:2, 5:3, 6:4, 7:5}\n",
    "WeekDays['DayNumber'] = WeekDays['DayNumber'].astype(int)\n",
    "WeekDays['DayNumber'] = WeekDays['DayNumber'].map(mapping)"
   ],
   "metadata": {
    "collapsed": false
   },
   "id": "6e751f8457b54768",
   "outputs": [],
   "execution_count": null
  },
  {
   "cell_type": "code",
   "source": [
    "WeekDays"
   ],
   "metadata": {
    "collapsed": false
   },
   "id": "c044c3c097a1e6f8",
   "outputs": [],
   "execution_count": null
  },
  {
   "cell_type": "code",
   "source": [
    "# creating date range\n",
    "Calendar_df = pd.DataFrame({'Date': pd.date_range(start=project_start_date, end=project_finish_date)})\n",
    "\n",
    "# formatting date to dd-mm-yyyy format\n",
    "Calendar_df['Date'] = Calendar_df['Date'].dt.strftime('%d-%m-%Y')\n",
    "\n",
    "# getting the weekday number where Monday=0, Sunday=6\n",
    "Calendar_df['DayNumber'] = pd.to_datetime(Calendar_df['Date'], format='%d-%m-%Y').dt.dayofweek\n",
    "\n",
    "# merging Calendar_df with WeekDays on 'DayNumber' to get 'StartingHour' and 'EndingHour'\n",
    "Calendar_df = pd.merge(Calendar_df, WeekDays, on='DayNumber', how='left')\n",
    "\n",
    "# removing the 'DayNumber' column as it's no longer needed\n",
    "Calendar_df = Calendar_df.drop(columns='DayNumber')"
   ],
   "metadata": {
    "collapsed": false
   },
   "id": "83d2ac8dfde2b679",
   "outputs": [],
   "execution_count": null
  },
  {
   "cell_type": "code",
   "source": [
    "Calendar_df"
   ],
   "metadata": {
    "collapsed": false
   },
   "id": "1fe17591e24b8bd6",
   "outputs": [],
   "execution_count": null
  },
  {
   "cell_type": "code",
   "source": [
    "print(Calendar_df.dtypes)"
   ],
   "metadata": {
    "collapsed": false
   },
   "id": "2c11eca723340d51",
   "outputs": [],
   "execution_count": null
  },
  {
   "cell_type": "code",
   "source": [
    "# Fixing the \"0\" in hours column\n",
    "Calendar_df['StartingHour'] = Calendar_df['StartingHour'].replace({\"0\": \"00:00\"})\n",
    "Calendar_df['EndingHour'] = Calendar_df['EndingHour'].replace({\"0\": \"00:00\"})\n",
    "\n",
    "# Converting columns to desired datatypes\n",
    "Calendar_df['Date'] = pd.to_datetime(Calendar_df['Date'], dayfirst=True)\n",
    "Calendar_df['StartingHour'] = pd.to_datetime(Calendar_df['StartingHour'], format='%H:%M').dt.time\n",
    "Calendar_df['EndingHour'] = pd.to_datetime(Calendar_df['EndingHour'], format='%H:%M').dt.time"
   ],
   "metadata": {
    "collapsed": false
   },
   "id": "44182b4445d83d0a",
   "outputs": [],
   "execution_count": null
  },
  {
   "cell_type": "code",
   "source": [
    "Calendar_df"
   ],
   "metadata": {
    "collapsed": false
   },
   "id": "3c19161415dcdbcd",
   "outputs": [],
   "execution_count": null
  },
  {
   "cell_type": "code",
   "source": [
    "import pandas as pd\n",
    "from datetime import datetime\n",
    "\n",
    "# Converting 'StartingHour' and 'EndingHour' to AM/PM string format\n",
    "Calendar_df['StartingHour'] = Calendar_df['StartingHour'].apply(lambda x: x.strftime('%I:%M %p'))\n",
    "Calendar_df['EndingHour'] = Calendar_df['EndingHour'].apply(lambda x: x.strftime('%I:%M %p'))\n",
    "\n",
    "# Create temporary datetime objects for 'StartingHour' and 'EndingHour' to calculate 'WorkingHours'\n",
    "Calendar_df['TempStart'] = pd.to_datetime(Calendar_df['StartingHour'], format='%I:%M %p')\n",
    "Calendar_df['TempEnd'] = pd.to_datetime(Calendar_df['EndingHour'], format='%I:%M %p')\n",
    "\n",
    "# Calculate WorkingHours and convert to total hours as numeric\n",
    "Calendar_df['WorkingHours'] = ((Calendar_df['TempEnd'] - Calendar_df['TempStart']).dt.seconds) / 3600\n",
    "\n",
    "# Drop the temporary columns\n",
    "Calendar_df = Calendar_df.drop(columns=['TempStart', 'TempEnd'])"
   ],
   "metadata": {
    "collapsed": false
   },
   "id": "d196286a9b00c0bf",
   "outputs": [],
   "execution_count": null
  },
  {
   "cell_type": "code",
   "source": [
    "Calendar_df"
   ],
   "metadata": {
    "collapsed": false
   },
   "id": "9c4af62857ac97c",
   "outputs": [],
   "execution_count": null
  },
  {
   "cell_type": "code",
   "source": [
    "import numpy as np\n",
    "\n",
    "Calendar_df['Type'] = np.where(Calendar_df['WorkingHours'] == 0, 'Non work', 'Standard')"
   ],
   "metadata": {
    "collapsed": false
   },
   "id": "257e35f5f8ae5537",
   "outputs": [],
   "execution_count": null
  },
  {
   "cell_type": "code",
   "source": [
    "Calendar_df"
   ],
   "metadata": {
    "collapsed": false
   },
   "id": "fd4a772f3865bc8f",
   "outputs": [],
   "execution_count": null
  },
  {
   "cell_type": "code",
   "source": [
    "def excel_date_to_dt(date):\n",
    "    return (pd.to_datetime('1900-01-01') + pd.to_timedelta(date - 2, unit='d')).date()\n",
    "\n",
    "# Ensure 'DayNumber' column is numeric\n",
    "Exceptions['DayNumber'] = pd.to_numeric(Exceptions['DayNumber'])\n",
    "\n",
    "# Apply the function to 'DayNumber' column\n",
    "Exceptions['Date'] = Exceptions['DayNumber'].apply(excel_date_to_dt)\n",
    "\n",
    "# Convert 'Date' in Exceptions dataframe to datetime\n",
    "Exceptions['Date'] = pd.to_datetime(Exceptions['Date'])"
   ],
   "metadata": {
    "collapsed": false
   },
   "id": "b6e808b1c83f2f8",
   "outputs": [],
   "execution_count": null
  },
  {
   "cell_type": "code",
   "source": [
    "Exceptions"
   ],
   "metadata": {
    "collapsed": false
   },
   "id": "57daee85d47b82ba",
   "outputs": [],
   "execution_count": null
  },
  {
   "cell_type": "code",
   "source": [
    "# Merge Calendar_df and Exceptions_df on Date:\n",
    "df = pd.merge(Calendar_df, Exceptions, on='Date', how='left')\n",
    "\n",
    "# Function to apply modifications\n",
    "def modify_rows(row):\n",
    "    if row['StartingHour_y'] == 0 and row['EndingHour_y'] == 0:\n",
    "        row['StartingHour_x'] = '12:00 AM'\n",
    "        row['EndingHour_x'] = '12:00 AM'\n",
    "        row['WorkingHours'] = 0\n",
    "        row['Type'] = 'Non work'\n",
    "    return row\n",
    "\n",
    "# Apply modifications\n",
    "df = df.apply(modify_rows, axis=1)\n",
    "\n",
    "# Drop unnecessary columns and rename columns\n",
    "df = df.drop(columns=['StartingHour_y', 'EndingHour_y', 'DayNumber'])\n",
    "df = df.rename(columns={'StartingHour_x':'StartingHour',\n",
    "                        'EndingHour_x':'EndingHour'})\n",
    "\n",
    "# The DataFrame 'df' now holds the data with all the required modifications"
   ],
   "metadata": {
    "collapsed": false
   },
   "id": "b71f4782fd40a6fa",
   "outputs": [],
   "execution_count": null
  },
  {
   "cell_type": "code",
   "source": [
    "df"
   ],
   "metadata": {
    "collapsed": false
   },
   "id": "38c323bd50b8712f",
   "outputs": [],
   "execution_count": null
  },
  {
   "cell_type": "code",
   "source": [
    "# Replace '0' with '00:00' and assign it back to the DataFrame\n",
    "Exceptions['StartingHour'] = Exceptions['StartingHour'].replace('0', '00:00')\n",
    "Exceptions['EndingHour'] = Exceptions['EndingHour'].replace('0', '00:00')"
   ],
   "metadata": {
    "collapsed": false
   },
   "id": "6abcb60cc33e8bd9",
   "outputs": [],
   "execution_count": null
  },
  {
   "cell_type": "code",
   "source": [
    "Exceptions"
   ],
   "metadata": {
    "collapsed": false
   },
   "id": "2038e424f42540d7",
   "outputs": [],
   "execution_count": null
  },
  {
   "cell_type": "code",
   "source": [
    "# Convert 'StartingHour' and 'EndingHour' columns to datetime\n",
    "Exceptions['StartingHour'] = pd.to_datetime(Exceptions['StartingHour'], format='%H:%M').dt.strftime('%I:%M %p')\n",
    "Exceptions['EndingHour'] = pd.to_datetime(Exceptions['EndingHour'], format='%H:%M').dt.strftime('%I:%M %p')"
   ],
   "metadata": {
    "collapsed": false
   },
   "id": "4f3b5b939c6badbe",
   "outputs": [],
   "execution_count": null
  },
  {
   "cell_type": "code",
   "source": [
    "Exceptions"
   ],
   "metadata": {
    "collapsed": false
   },
   "id": "f22acf2506650678",
   "outputs": [],
   "execution_count": null
  },
  {
   "cell_type": "code",
   "source": [
    "# Create temporary DataFrames which parses the time columns to datetime\n",
    "temp_start = pd.to_datetime(Exceptions['StartingHour'].astype(str), format='%I:%M %p')\n",
    "temp_end = pd.to_datetime(Exceptions['EndingHour'].astype(str), format='%I:%M %p')\n",
    "\n",
    "# Perform the subtraction Operation and convert it to seconds, then divide by 3600 to get hours\n",
    "Exceptions['WorkingHours'] = (temp_end - temp_start).dt.total_seconds() / 3600"
   ],
   "metadata": {
    "collapsed": false
   },
   "id": "7527056741537768",
   "outputs": [],
   "execution_count": null
  },
  {
   "cell_type": "code",
   "source": [
    "Exceptions"
   ],
   "metadata": {
    "collapsed": false
   },
   "id": "283f51751b4c72ab",
   "outputs": [],
   "execution_count": null
  },
  {
   "cell_type": "code",
   "source": [
    "Exceptions_zero_hours = Exceptions[Exceptions['WorkingHours'] == 0]\n",
    "for idx, row in Exceptions_zero_hours.iterrows():\n",
    "    date = row['Date']\n",
    "    if date in Calendar_df['Date'].values:\n",
    "        Calendar_df.loc[Calendar_df['Date'] == date, 'StartingHour'] = row['StartingHour']\n",
    "        Calendar_df.loc[Calendar_df['Date'] == date, 'EndingHour'] = row['EndingHour']\n",
    "        Calendar_df.loc[Calendar_df['Date'] == date, 'WorkingHours'] = row['WorkingHours']\n",
    "        Calendar_df.loc[Calendar_df['Date'] == date, 'Type'] = \"Non work\""
   ],
   "metadata": {
    "collapsed": false
   },
   "id": "6010d95e6195476a",
   "outputs": [],
   "execution_count": null
  },
  {
   "cell_type": "code",
   "source": [
    "Calendar_df"
   ],
   "metadata": {
    "collapsed": false
   },
   "id": "de6cfd437b2bd55d",
   "outputs": [],
   "execution_count": null
  },
  {
   "cell_type": "code",
   "source": [
    "# Filter rows in 'Exceptions' where 'WorkingHours' is not equal to 0\n",
    "exceptions_nonzero_hours = Exceptions[Exceptions['WorkingHours'] != 0]\n",
    "\n",
    "# Find corresponding rows in 'Calendar_df'\n",
    "for index, row in exceptions_nonzero_hours.iterrows():\n",
    "    date = row['Date']\n",
    "\n",
    "    # If 'Calendar_df' contains the date\n",
    "    if date in Calendar_df['Date'].values:\n",
    "        # Update corresponding 'StartingHour', 'EndingHour', 'WorkingHours and 'Type' in 'Calendar_df'\n",
    "        Calendar_df.loc[Calendar_df['Date'] == date, 'StartingHour'] = row['StartingHour']\n",
    "        Calendar_df.loc[Calendar_df['Date'] == date, 'EndingHour'] = row['EndingHour']\n",
    "        Calendar_df.loc[Calendar_df['Date'] == date, 'WorkingHours'] = row['WorkingHours']\n",
    "        Calendar_df.loc[Calendar_df['Date'] == date, 'Type'] = \"Exception\""
   ],
   "metadata": {
    "collapsed": false
   },
   "id": "393c89d4c725e02a",
   "outputs": [],
   "execution_count": null
  },
  {
   "cell_type": "code",
   "source": [
    "Calendar_df"
   ],
   "metadata": {
    "collapsed": false
   },
   "id": "7fdeec286eb49102",
   "outputs": [],
   "execution_count": null
  },
  {
   "cell_type": "code",
   "source": [
    "# Assuming Calendar_df is your DataFrame\n",
    "calendar_file_path = 'Calendar.xlsx'  # you may want to include full path here\n",
    "with pd.ExcelWriter(calendar_file_path, engine='openpyxl') as writer:\n",
    "    Calendar_df.to_excel(writer, sheet_name='Calendar', index=False)"
   ],
   "metadata": {
    "collapsed": false
   },
   "id": "4d114f24c800d3fa",
   "outputs": [],
   "execution_count": null
  },
  {
   "metadata": {},
   "cell_type": "code",
   "source": "",
   "id": "c6f91ce24f629664",
   "outputs": [],
   "execution_count": null
  }
 ],
 "metadata": {
  "kernelspec": {
   "display_name": "Python 3",
   "language": "python",
   "name": "python3"
  },
  "language_info": {
   "codemirror_mode": {
    "name": "ipython",
    "version": 2
   },
   "file_extension": ".py",
   "mimetype": "text/x-python",
   "name": "python",
   "nbconvert_exporter": "python",
   "pygments_lexer": "ipython2",
   "version": "2.7.6"
  }
 },
 "nbformat": 4,
 "nbformat_minor": 5
}
