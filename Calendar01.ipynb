{
 "cells": [
  {
   "cell_type": "code",
   "id": "initial_id",
   "metadata": {
    "collapsed": true
   },
   "source": [
    "import pandas as pd\n",
    "import numpy as np\n",
    "from datetime import datetime"
   ],
   "outputs": [],
   "execution_count": null
  },
  {
   "metadata": {},
   "cell_type": "code",
   "source": [
    "def load_calendar_data(file_path, sheet_name):\n",
    "    return pd.read_excel(file_path, sheet_name=sheet_name)\n"
   ],
   "id": "f4867f72f4ec8a40",
   "outputs": [],
   "execution_count": null
  },
  {
   "metadata": {},
   "cell_type": "code",
   "source": [
    "def split_data(calendar_df, clndr_data_col):\n",
    "    cal_data_columns = [\"clndr_id\", \"Data\", \"type\", \"Date\", \"Hours\", \"Key\"]\n",
    "    cal_data_df = pd.DataFrame(columns=cal_data_columns)\n",
    "\n",
    "    for i in range(len(calendar_df)):\n",
    "        split_string = calendar_df.iloc[i, clndr_data_col]\n",
    "        split_target = split_string.split('(0||')\n",
    "        \n",
    "        new_rows = pd.DataFrame({\n",
    "            \"clndr_id\": [calendar_df.iloc[i, 1]] * len(split_target),  # Note the change to column index 1\n",
    "            \"Data\": split_target\n",
    "        })\n",
    "        \n",
    "        cal_data_df = pd.concat([cal_data_df, new_rows], ignore_index=True)\n",
    "\n",
    "    cal_data_df.reset_index(drop=True, inplace=True)\n",
    "    return cal_data_df\n"
   ],
   "id": "d50e691c4495bdac",
   "outputs": [],
   "execution_count": null
  },
  {
   "metadata": {},
   "cell_type": "code",
   "source": [
    "def classify_data(cal_data_df):\n",
    "    def classify(data):\n",
    "        if \"DaysOfWeek\" in data:\n",
    "            return \"DaysOfWeek\"\n",
    "        elif \"Exceptions\" in data:\n",
    "            return \"Exceptions\"\n",
    "        else:\n",
    "            return np.nan\n",
    "\n",
    "    cal_data_df['type'] = cal_data_df['Data'].apply(classify)\n",
    "    return cal_data_df\n"
   ],
   "id": "873181a5fe869be1",
   "outputs": [],
   "execution_count": null
  },
  {
   "metadata": {
    "ExecuteTime": {
     "end_time": "2024-06-14T08:53:30.317998Z",
     "start_time": "2024-06-14T08:53:30.303958Z"
    }
   },
   "cell_type": "code",
   "source": [
    "def extract_date_and_hours(row):\n",
    "    data = row['Data']\n",
    "    row_type = row['type']\n",
    "    \n",
    "    date = np.nan\n",
    "    hours = np.nan\n",
    "\n",
    "    if row_type == \"DaysOfWeek\" and data.startswith(\"()\"):\n",
    "        date = data[1]\n",
    "    elif row_type == \"Exceptions\" and \"(d|)\" in data:\n",
    "        date = data.split(\"(d|\")[1][:5]\n",
    "\n",
    "    if \"s|\" in data and \"f|\" in data:\n",
    "        s_index = data.index(\"s|\") + 2\n",
    "        f_index = data.index(\"f|\") + 2\n",
    "        start_time_str = data[s_index:s_index + 5].replace(\":\", \"\").zfill(4)\n",
    "        end_time_str = data[f_index:f_index + 5].replace(\":\", \"\").zfill(4)\n",
    "\n",
    "        # Ensure the extracted strings are valid time formats\n",
    "        if len(start_time_str) == 4 and len(end_time_str) == 4:\n",
    "            try:\n",
    "                start_time = datetime.strptime(start_time_str, '%H%M')\n",
    "                end_time = datetime.strptime(end_time_str, '%H%M')\n",
    "                if start_time == end_time:\n",
    "                    hours = 24\n",
    "                else:\n",
    "                    hours = (end_time - start_time).seconds / 3600  # Convert to hours\n",
    "                    if start_time > end_time:\n",
    "                        hours = 24 - hours\n",
    "            except ValueError:\n",
    "                # Handle the case where time conversion fails\n",
    "                pass\n",
    "\n",
    "    return pd.Series([date, hours])\n"
   ],
   "id": "9e59a71da6578395",
   "outputs": [],
   "execution_count": 93
  },
  {
   "metadata": {},
   "cell_type": "code",
   "source": [
    "def populate_date_and_hours(cal_data_df):\n",
    "    cal_data_df[['Date', 'Hours']] = cal_data_df.apply(extract_date_and_hours, axis=1)\n",
    "\n",
    "    cal_data_df['type'].fillna(method='ffill', inplace=True)\n",
    "\n",
    "    for i in range(1, len(cal_data_df)):\n",
    "        if pd.isna(cal_data_df.at[i, 'Date']) and cal_data_df.at[i, 'type'] == cal_data_df.at[i-1, 'type'] and \\\n",
    "           cal_data_df.at[i, 'clndr_id'] == cal_data_df.at[i-1, 'clndr_id'] and \"VIEW(ShowTotal|Y)\" not in cal_data_df.at[i, 'Data']:\n",
    "            cal_data_df.at[i, 'Date'] = cal_data_df.at[i-1, 'Date']\n",
    "\n",
    "    return cal_data_df\n"
   ],
   "id": "c5aa495ff0caa935",
   "outputs": [],
   "execution_count": null
  },
  {
   "metadata": {
    "ExecuteTime": {
     "end_time": "2024-06-14T09:02:27.486776Z",
     "start_time": "2024-06-14T09:02:27.441605Z"
    }
   },
   "cell_type": "code",
   "source": [
    "def main():\n",
    "    file_path = 'TST00.xlsx'\n",
    "    sheet_name = 'CALENDAR'\n",
    "    \n",
    "    calendar_df = load_calendar_data(file_path, sheet_name)\n",
    "    clndr_data_col = calendar_df.columns.get_loc('clndr_data')\n",
    "    \n",
    "    cal_data_df = split_data(calendar_df, clndr_data_col)\n",
    "    cal_data_df = classify_data(cal_data_df)\n",
    "    cal_data_df = populate_date_and_hours(cal_data_df)\n",
    "\n",
    "\n",
    "    pd.set_option('display.max_rows', None)\n",
    "    pd.set_option('display.max_columns', None)\n",
    "    pd.set_option('display.width', None)\n",
    "    pd.set_option('display.max_colwidth', None)\n",
    "    \n",
    "    \n",
    "    print(cal_data_df)\n",
    "\n",
    "if __name__ == \"__main__\":\n",
    "    main()\n"
   ],
   "id": "9dd926d86e268a97",
   "outputs": [
    {
     "name": "stdout",
     "output_type": "stream",
     "text": [
      "   clndr_id                           Data        type  Date  Hours  Key\n",
      "0       993                                        NaN   NaN    NaN  NaN\n",
      "1       993            CalendarData()(           NaN   NaN    NaN  NaN\n",
      "2       993            DaysOfWeek()(      DaysOfWeek   NaN    NaN  NaN\n",
      "3       993                   1()(        DaysOfWeek   NaN    NaN  NaN\n",
      "4       993  0(s|07:00|f|17:00)())))      DaysOfWeek   NaN   10.0  NaN\n",
      "5       993                   2()(        DaysOfWeek   NaN    NaN  NaN\n",
      "6       993  0(s|07:00|f|17:00)())))      DaysOfWeek   NaN   10.0  NaN\n",
      "7       993                   3()(        DaysOfWeek   NaN    NaN  NaN\n",
      "8       993  0(s|07:00|f|17:00)())))      DaysOfWeek   NaN   10.0  NaN\n",
      "9       993                   4()(        DaysOfWeek   NaN    NaN  NaN\n",
      "10      993  0(s|07:00|f|17:00)())))      DaysOfWeek   NaN   10.0  NaN\n",
      "11      993                   5()(        DaysOfWeek   NaN    NaN  NaN\n",
      "12      993  0(s|07:00|f|17:00)())))      DaysOfWeek   NaN   10.0  NaN\n",
      "13      993                   6()())      DaysOfWeek   NaN    NaN  NaN\n",
      "14      993                   7()(        DaysOfWeek   NaN    NaN  NaN\n",
      "15      993  0(s|07:00|f|17:00)())))))    DaysOfWeek   NaN   10.0  NaN\n",
      "16      993       VIEW(ShowTotal|Y)())    DaysOfWeek   NaN    NaN  NaN\n",
      "17      993            Exceptions()(      Exceptions   NaN    NaN  NaN\n",
      "18      993            0(d|44197)(        Exceptions   NaN    NaN  NaN\n",
      "19      993  0(s|08:00|f|16:00)())))      Exceptions   NaN    8.0  NaN\n",
      "20      993            1(d|44979)())      Exceptions   NaN    NaN  NaN\n",
      "21      993            2(d|45038)())      Exceptions   NaN    NaN  NaN\n",
      "22      993            3(d|45039)())      Exceptions   NaN    NaN  NaN\n",
      "23      993            4(d|45040)())      Exceptions   NaN    NaN  NaN\n",
      "24      993            5(d|45041)())      Exceptions   NaN    NaN  NaN\n",
      "25      993            6(d|45104)())      Exceptions   NaN    NaN  NaN\n",
      "26      993            7(d|45105)())      Exceptions   NaN    NaN  NaN\n",
      "27      993            8(d|45106)())      Exceptions   NaN    NaN  NaN\n",
      "28      993            9(d|45108)())      Exceptions   NaN    NaN  NaN\n",
      "29      993           10(d|45192)())      Exceptions   NaN    NaN  NaN\n",
      "30      993           11(d|45344)())      Exceptions   NaN    NaN  NaN\n",
      "31      993           12(d|45391)())      Exceptions   NaN    NaN  NaN\n",
      "32      993           13(d|45392)())      Exceptions   NaN    NaN  NaN\n",
      "33      993           14(d|45393)())      Exceptions   NaN    NaN  NaN\n",
      "34      993           15(d|45395)())      Exceptions   NaN    NaN  NaN\n",
      "35      993           16(d|45458)())      Exceptions   NaN    NaN  NaN\n",
      "36      993           17(d|45459)())      Exceptions   NaN    NaN  NaN\n",
      "37      993           18(d|45460)())      Exceptions   NaN    NaN  NaN\n",
      "38      993           19(d|45461)())      Exceptions   NaN    NaN  NaN\n",
      "39      993           20(d|45558)())      Exceptions   NaN    NaN  NaN\n",
      "40      993           21(d|45679)())      Exceptions   NaN    NaN  NaN\n",
      "41      993           22(d|45710)())      Exceptions   NaN    NaN  NaN\n",
      "42      993           23(d|45746)())      Exceptions   NaN    NaN  NaN\n",
      "43      993           24(d|45747)())      Exceptions   NaN    NaN  NaN\n",
      "44      993           25(d|45748)())      Exceptions   NaN    NaN  NaN\n",
      "45      993           26(d|45749)())      Exceptions   NaN    NaN  NaN\n",
      "46      993           27(d|45813)())      Exceptions   NaN    NaN  NaN\n",
      "47      993           28(d|45815)())      Exceptions   NaN    NaN  NaN\n",
      "48      993           29(d|45816)())      Exceptions   NaN    NaN  NaN\n",
      "49      993           30(d|45817)())      Exceptions   NaN    NaN  NaN\n",
      "50      993           31(d|45923)())      Exceptions   NaN    NaN  NaN\n",
      "51      993           32(d|46075)())      Exceptions   NaN    NaN  NaN\n",
      "52      993           33(d|46100)())      Exceptions   NaN    NaN  NaN\n",
      "53      993           34(d|46102)())      Exceptions   NaN    NaN  NaN\n",
      "54      993           35(d|46103)())      Exceptions   NaN    NaN  NaN\n",
      "55      993           36(d|46104)())      Exceptions   NaN    NaN  NaN\n",
      "56      993           37(d|46168)())      Exceptions   NaN    NaN  NaN\n",
      "57      993           38(d|46169)())      Exceptions   NaN    NaN  NaN\n",
      "58      993           39(d|46170)())      Exceptions   NaN    NaN  NaN\n",
      "59      993           40(d|46172)())      Exceptions   NaN    NaN  NaN\n",
      "60      993           41(d|46173)())      Exceptions   NaN    NaN  NaN\n",
      "61      993           42(d|46213)(        Exceptions   NaN    NaN  NaN\n",
      "62      993  0(s|07:00|f|17:00)())))      Exceptions   NaN   10.0  NaN\n",
      "63      993           43(d|46288)())      Exceptions   NaN    NaN  NaN\n",
      "64      993           44(d|46440)())      Exceptions   NaN    NaN  NaN\n",
      "65      993           45(d|46456)())      Exceptions   NaN    NaN  NaN\n",
      "66      993           46(d|46457)())      Exceptions   NaN    NaN  NaN\n",
      "67      993           47(d|46459)())      Exceptions   NaN    NaN  NaN\n",
      "68      993           48(d|46460)())      Exceptions   NaN    NaN  NaN\n",
      "69      993           49(d|46524)())      Exceptions   NaN    NaN  NaN\n",
      "70      993           50(d|46525)())      Exceptions   NaN    NaN  NaN\n",
      "71      993           51(d|46526)())      Exceptions   NaN    NaN  NaN\n",
      "72      993           52(d|46527)())      Exceptions   NaN    NaN  NaN\n",
      "73      993             53(d|46653)())))))  Exceptions   NaN    NaN  NaN\n"
     ]
    },
    {
     "name": "stderr",
     "output_type": "stream",
     "text": [
      "C:\\Users\\abdra\\AppData\\Local\\Temp\\ipykernel_4388\\2312993389.py:4: FutureWarning: A value is trying to be set on a copy of a DataFrame or Series through chained assignment using an inplace method.\n",
      "The behavior will change in pandas 3.0. This inplace method will never work because the intermediate object on which we are setting values always behaves as a copy.\n",
      "\n",
      "For example, when doing 'df[col].method(value, inplace=True)', try using 'df.method({col: value}, inplace=True)' or df[col] = df[col].method(value) instead, to perform the operation inplace on the original object.\n",
      "\n",
      "\n",
      "  cal_data_df['type'].fillna(method='ffill', inplace=True)\n",
      "C:\\Users\\abdra\\AppData\\Local\\Temp\\ipykernel_4388\\2312993389.py:4: FutureWarning: Series.fillna with 'method' is deprecated and will raise in a future version. Use obj.ffill() or obj.bfill() instead.\n",
      "  cal_data_df['type'].fillna(method='ffill', inplace=True)\n"
     ]
    }
   ],
   "execution_count": 100
  },
  {
   "metadata": {
    "ExecuteTime": {
     "end_time": "2024-06-14T08:57:12.634750Z",
     "start_time": "2024-06-14T08:57:12.620785Z"
    }
   },
   "cell_type": "code",
   "source": "cal_data_df",
   "id": "67b8d608cc9a9745",
   "outputs": [
    {
     "ename": "NameError",
     "evalue": "name 'cal_data_df' is not defined",
     "output_type": "error",
     "traceback": [
      "\u001B[1;31m---------------------------------------------------------------------------\u001B[0m",
      "\u001B[1;31mNameError\u001B[0m                                 Traceback (most recent call last)",
      "Cell \u001B[1;32mIn[96], line 1\u001B[0m\n\u001B[1;32m----> 1\u001B[0m \u001B[43mcal_data_df\u001B[49m\n",
      "\u001B[1;31mNameError\u001B[0m: name 'cal_data_df' is not defined"
     ]
    }
   ],
   "execution_count": 96
  },
  {
   "metadata": {},
   "cell_type": "code",
   "source": "",
   "id": "374f9a4f303668cf",
   "outputs": [],
   "execution_count": null
  }
 ],
 "metadata": {
  "kernelspec": {
   "display_name": "Python 3",
   "language": "python",
   "name": "python3"
  },
  "language_info": {
   "codemirror_mode": {
    "name": "ipython",
    "version": 2
   },
   "file_extension": ".py",
   "mimetype": "text/x-python",
   "name": "python",
   "nbconvert_exporter": "python",
   "pygments_lexer": "ipython2",
   "version": "2.7.6"
  }
 },
 "nbformat": 4,
 "nbformat_minor": 5
}
