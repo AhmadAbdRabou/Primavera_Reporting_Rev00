{
 "cells": [
  {
   "metadata": {},
   "cell_type": "markdown",
   "source": [
    "Earned Value Cost\n",
    "The portion of the project baseline total cost of an activity or all activities in the project that are actually completed as of the project data date.\n",
    "\n",
    "Budget at completion is calculated from the project baseline.\n",
    "\n",
    "Calculated as Budget At Completion multiplied by Performance Percent Complete. The method for computing performance percent complete depends on the Earned Value technique selected for the activity's WBS.\n",
    "\n",
    "Budget At Completion\n",
    "The planned total cost through activity or project completion.\n",
    "\n",
    "Calculated as Planned Labor Cost plus Planned Nonlabor Cost plus Planned Expense Cost plus Planned Material Cost.\n",
    "\n",
    "Planned Labor Cost (Activities)\n",
    "The planned costs for all labor resources assigned to the activity.\n",
    "\n",
    "If no resources are assigned, calculated as Activity Planned Labor Units multiplied by Project Default Price divided by Time.\n",
    "\n",
    "Planned Material Cost\n",
    "The planned cost for all material resources assigned to the activity, project, or EPS.\n",
    "\n",
    "Planned Nonlabor Cost\n",
    "The planned costs for all nonlabor resources assigned to the activity.\n",
    "\n",
    "If no resources are assigned, calculated as Activity Planned Nonlabor Units multiplied by Project Default Price divided by Time.\n",
    "\n",
    "Planned Expense Cost\n",
    "The planned total cost of all expenses associated with the activity, project, or EPS."
   ],
   "id": "7cc08705a9f35915"
  },
  {
   "metadata": {
    "ExecuteTime": {
     "end_time": "2024-10-25T19:40:59.893974Z",
     "start_time": "2024-10-25T19:40:59.886555Z"
    }
   },
   "cell_type": "code",
   "source": [
    "import pandas as pd\n",
    "pd.set_option('display.max_columns', None)\n",
    "pd.set_option('display.max_rows', None)"
   ],
   "id": "65e52f337d1bfcca",
   "outputs": [],
   "execution_count": 11
  },
  {
   "metadata": {
    "ExecuteTime": {
     "end_time": "2024-10-25T19:40:59.953141Z",
     "start_time": "2024-10-25T19:40:59.932376Z"
    }
   },
   "cell_type": "code",
   "source": [
    "# specify the file path, you might need to adjust this\n",
    "file_path = \"Task_Calculation.xlsx\"\n",
    "# Load the Task data into a DataFrame\n",
    "task_calculation_df = pd.read_excel(file_path, sheet_name='Task_Calculation')"
   ],
   "id": "26a9e588f6c07b6c",
   "outputs": [],
   "execution_count": 12
  },
  {
   "metadata": {
    "ExecuteTime": {
     "end_time": "2024-10-25T19:41:00.001800Z",
     "start_time": "2024-10-25T19:40:59.975766Z"
    }
   },
   "cell_type": "code",
   "source": [
    "# specify the file path, you might need to adjust this\n",
    "file_path = \"TST00-Update06.xlsx\"\n",
    "# Load the Task data into a DataFrame\n",
    "wbs_df = pd.read_excel(file_path, sheet_name='PROJWBS')"
   ],
   "id": "c8558659d2e64bea",
   "outputs": [],
   "execution_count": 13
  },
  {
   "metadata": {
    "ExecuteTime": {
     "end_time": "2024-10-25T19:41:00.014787Z",
     "start_time": "2024-10-25T19:41:00.007295Z"
    }
   },
   "cell_type": "code",
   "source": [
    "# Add a new column 'Earned_Value_Cost' to the dataframe\n",
    "task_calculation_df['Earned_Value_Cost'] = task_calculation_df['Budget_Total_Cost'] * (\n",
    "        task_calculation_df['Performance_%_Complete'] / 100)"
   ],
   "id": "6936536b26d04192",
   "outputs": [],
   "execution_count": 14
  },
  {
   "metadata": {
    "ExecuteTime": {
     "end_time": "2024-10-25T19:41:00.040311Z",
     "start_time": "2024-10-25T19:41:00.034739Z"
    }
   },
   "cell_type": "code",
   "source": [
    "# Add a new column 'Actual_Cost' to the dataframe\n",
    "task_calculation_df['Actual_Cost'] = task_calculation_df['Actual_Total_Cost']"
   ],
   "id": "761002050a56743",
   "outputs": [],
   "execution_count": 15
  },
  {
   "metadata": {
    "ExecuteTime": {
     "end_time": "2024-10-25T19:41:00.052252Z",
     "start_time": "2024-10-25T19:41:00.041817Z"
    }
   },
   "cell_type": "code",
   "source": [
    "# Assume both task_calculation_df and wbs_df are your dataframes\n",
    "\n",
    "# First create the new column in task_calculation_df\n",
    "task_calculation_df['Estimate_To_Complete'] = 0\n",
    "\n",
    "# Iterate over each row in task_calculation_df\n",
    "for index, row in task_calculation_df.iterrows():\n",
    "    wbs_id = row['wbs_id']\n",
    "\n",
    "    # find the related row in wbs_df\n",
    "    related_row_wbs_df = wbs_df.loc[wbs_df['wbs_id'] == wbs_id]\n",
    "\n",
    "    # check for the value ev_compute_type\n",
    "    if not related_row_wbs_df.empty and related_row_wbs_df['ev_etc_compute_type'].values[0] == 'EE_Rem_hr':\n",
    "        task_calculation_df.loc[index, 'Estimate_To_Complete'] = row['Remaining_Total_Cost']"
   ],
   "id": "e5cadbc95550d055",
   "outputs": [],
   "execution_count": 16
  },
  {
   "metadata": {
    "ExecuteTime": {
     "end_time": "2024-10-25T19:41:00.063996Z",
     "start_time": "2024-10-25T19:41:00.059898Z"
    }
   },
   "cell_type": "code",
   "source": [
    "# Add a new column 'Actual_Cost' to the dataframe\n",
    "task_calculation_df['Budget_At_Completion'] = task_calculation_df['Budget_Total_Cost']"
   ],
   "id": "95fbcd2d98a51d6a",
   "outputs": [],
   "execution_count": 17
  },
  {
   "metadata": {
    "ExecuteTime": {
     "end_time": "2024-10-25T19:41:00.084045Z",
     "start_time": "2024-10-25T19:41:00.078505Z"
    }
   },
   "cell_type": "code",
   "source": [
    "# Add a new column 'Actual_Cost' to the dataframe\n",
    "task_calculation_df['Estimate_At_Completion_Cost'] = task_calculation_df['At_Completion_Total_Cost']"
   ],
   "id": "30572d05ce7eacce",
   "outputs": [],
   "execution_count": 18
  },
  {
   "metadata": {
    "ExecuteTime": {
     "end_time": "2024-10-25T19:41:00.112523Z",
     "start_time": "2024-10-25T19:41:00.095033Z"
    }
   },
   "cell_type": "code",
   "source": "task_calculation_df",
   "id": "a57d8b9885455a87",
   "outputs": [
    {
     "data": {
      "text/plain": [
       "   task_id  proj_id  wbs_id  Activity_%_Complete  Performance_%_Complete  \\\n",
       "0   316508     1481   85132                   27                      27   \n",
       "1   316509     1481   85132                   23                      23   \n",
       "2   316510     1481   85132                   25                      25   \n",
       "\n",
       "   Budgeted_Labor_Cost  Budgeted_Nonlabor_Cost  Budgeted_Material_Cost  \\\n",
       "0                    0                       0                       0   \n",
       "1                    0                       0                       0   \n",
       "2                  250                     250                     250   \n",
       "\n",
       "   Budgeted_Expenses_Cost  Budget_Total_Cost  Remaining_Labor_Cost  \\\n",
       "0                    1000               1000                     0   \n",
       "1                    1000               1000                     0   \n",
       "2                     250               1000                   150   \n",
       "\n",
       "   Remaining_Nonlabor_Cost  Remaining_Material_Cost  Remaining_Expenses_Cost  \\\n",
       "0                        0                        0                      800   \n",
       "1                        0                        0                      780   \n",
       "2                      175                      250                      175   \n",
       "\n",
       "   Remaining_Total_Cost  Actual_Labor_Cost  Actual_Nonlabor_Cost  \\\n",
       "0                   800                  0                     0   \n",
       "1                   780                  0                     0   \n",
       "2                   750                150                    75   \n",
       "\n",
       "   Actual_Material_Cost  Actual_Expenses_Cost  Actual_Total_Cost  \\\n",
       "0                     0                   200                200   \n",
       "1                     0                   520                520   \n",
       "2                   200                    75                500   \n",
       "\n",
       "   At_Completion_Labor_Cost  At_Completion_Nonlabor_Cost  \\\n",
       "0                         0                            0   \n",
       "1                         0                            0   \n",
       "2                       300                          250   \n",
       "\n",
       "   At_Completion_Material_Cost  At_Completion_Expenses_Cost  \\\n",
       "0                            0                         1000   \n",
       "1                            0                         1300   \n",
       "2                          450                          250   \n",
       "\n",
       "   At_Completion_Total_Cost  Earned_Value_Cost  Actual_Cost  \\\n",
       "0                      1000              270.0          200   \n",
       "1                      1300              230.0          520   \n",
       "2                      1250              250.0          500   \n",
       "\n",
       "   Estimate_To_Complete  Budget_At_Completion  Estimate_At_Completion_Cost  \n",
       "0                   800                  1000                         1000  \n",
       "1                   780                  1000                         1300  \n",
       "2                   750                  1000                         1250  "
      ],
      "text/html": [
       "<div>\n",
       "<style scoped>\n",
       "    .dataframe tbody tr th:only-of-type {\n",
       "        vertical-align: middle;\n",
       "    }\n",
       "\n",
       "    .dataframe tbody tr th {\n",
       "        vertical-align: top;\n",
       "    }\n",
       "\n",
       "    .dataframe thead th {\n",
       "        text-align: right;\n",
       "    }\n",
       "</style>\n",
       "<table border=\"1\" class=\"dataframe\">\n",
       "  <thead>\n",
       "    <tr style=\"text-align: right;\">\n",
       "      <th></th>\n",
       "      <th>task_id</th>\n",
       "      <th>proj_id</th>\n",
       "      <th>wbs_id</th>\n",
       "      <th>Activity_%_Complete</th>\n",
       "      <th>Performance_%_Complete</th>\n",
       "      <th>Budgeted_Labor_Cost</th>\n",
       "      <th>Budgeted_Nonlabor_Cost</th>\n",
       "      <th>Budgeted_Material_Cost</th>\n",
       "      <th>Budgeted_Expenses_Cost</th>\n",
       "      <th>Budget_Total_Cost</th>\n",
       "      <th>Remaining_Labor_Cost</th>\n",
       "      <th>Remaining_Nonlabor_Cost</th>\n",
       "      <th>Remaining_Material_Cost</th>\n",
       "      <th>Remaining_Expenses_Cost</th>\n",
       "      <th>Remaining_Total_Cost</th>\n",
       "      <th>Actual_Labor_Cost</th>\n",
       "      <th>Actual_Nonlabor_Cost</th>\n",
       "      <th>Actual_Material_Cost</th>\n",
       "      <th>Actual_Expenses_Cost</th>\n",
       "      <th>Actual_Total_Cost</th>\n",
       "      <th>At_Completion_Labor_Cost</th>\n",
       "      <th>At_Completion_Nonlabor_Cost</th>\n",
       "      <th>At_Completion_Material_Cost</th>\n",
       "      <th>At_Completion_Expenses_Cost</th>\n",
       "      <th>At_Completion_Total_Cost</th>\n",
       "      <th>Earned_Value_Cost</th>\n",
       "      <th>Actual_Cost</th>\n",
       "      <th>Estimate_To_Complete</th>\n",
       "      <th>Budget_At_Completion</th>\n",
       "      <th>Estimate_At_Completion_Cost</th>\n",
       "    </tr>\n",
       "  </thead>\n",
       "  <tbody>\n",
       "    <tr>\n",
       "      <th>0</th>\n",
       "      <td>316508</td>\n",
       "      <td>1481</td>\n",
       "      <td>85132</td>\n",
       "      <td>27</td>\n",
       "      <td>27</td>\n",
       "      <td>0</td>\n",
       "      <td>0</td>\n",
       "      <td>0</td>\n",
       "      <td>1000</td>\n",
       "      <td>1000</td>\n",
       "      <td>0</td>\n",
       "      <td>0</td>\n",
       "      <td>0</td>\n",
       "      <td>800</td>\n",
       "      <td>800</td>\n",
       "      <td>0</td>\n",
       "      <td>0</td>\n",
       "      <td>0</td>\n",
       "      <td>200</td>\n",
       "      <td>200</td>\n",
       "      <td>0</td>\n",
       "      <td>0</td>\n",
       "      <td>0</td>\n",
       "      <td>1000</td>\n",
       "      <td>1000</td>\n",
       "      <td>270.0</td>\n",
       "      <td>200</td>\n",
       "      <td>800</td>\n",
       "      <td>1000</td>\n",
       "      <td>1000</td>\n",
       "    </tr>\n",
       "    <tr>\n",
       "      <th>1</th>\n",
       "      <td>316509</td>\n",
       "      <td>1481</td>\n",
       "      <td>85132</td>\n",
       "      <td>23</td>\n",
       "      <td>23</td>\n",
       "      <td>0</td>\n",
       "      <td>0</td>\n",
       "      <td>0</td>\n",
       "      <td>1000</td>\n",
       "      <td>1000</td>\n",
       "      <td>0</td>\n",
       "      <td>0</td>\n",
       "      <td>0</td>\n",
       "      <td>780</td>\n",
       "      <td>780</td>\n",
       "      <td>0</td>\n",
       "      <td>0</td>\n",
       "      <td>0</td>\n",
       "      <td>520</td>\n",
       "      <td>520</td>\n",
       "      <td>0</td>\n",
       "      <td>0</td>\n",
       "      <td>0</td>\n",
       "      <td>1300</td>\n",
       "      <td>1300</td>\n",
       "      <td>230.0</td>\n",
       "      <td>520</td>\n",
       "      <td>780</td>\n",
       "      <td>1000</td>\n",
       "      <td>1300</td>\n",
       "    </tr>\n",
       "    <tr>\n",
       "      <th>2</th>\n",
       "      <td>316510</td>\n",
       "      <td>1481</td>\n",
       "      <td>85132</td>\n",
       "      <td>25</td>\n",
       "      <td>25</td>\n",
       "      <td>250</td>\n",
       "      <td>250</td>\n",
       "      <td>250</td>\n",
       "      <td>250</td>\n",
       "      <td>1000</td>\n",
       "      <td>150</td>\n",
       "      <td>175</td>\n",
       "      <td>250</td>\n",
       "      <td>175</td>\n",
       "      <td>750</td>\n",
       "      <td>150</td>\n",
       "      <td>75</td>\n",
       "      <td>200</td>\n",
       "      <td>75</td>\n",
       "      <td>500</td>\n",
       "      <td>300</td>\n",
       "      <td>250</td>\n",
       "      <td>450</td>\n",
       "      <td>250</td>\n",
       "      <td>1250</td>\n",
       "      <td>250.0</td>\n",
       "      <td>500</td>\n",
       "      <td>750</td>\n",
       "      <td>1000</td>\n",
       "      <td>1250</td>\n",
       "    </tr>\n",
       "  </tbody>\n",
       "</table>\n",
       "</div>"
      ]
     },
     "execution_count": 19,
     "metadata": {},
     "output_type": "execute_result"
    }
   ],
   "execution_count": 19
  },
  {
   "metadata": {
    "ExecuteTime": {
     "end_time": "2024-10-25T19:41:00.136376Z",
     "start_time": "2024-10-25T19:41:00.114520Z"
    }
   },
   "cell_type": "code",
   "source": [
    "# Assuming Task_Calculation_df is your DataFrame\n",
    "task_calculation_path = 'Task_Calculation.xlsx'  # you may want to include full path here\n",
    "with pd.ExcelWriter(task_calculation_path, engine='openpyxl') as writer:\n",
    "    task_calculation_df.to_excel(writer, sheet_name='Task_Calculation', index=False)"
   ],
   "id": "9108697bf3a39f8e",
   "outputs": [],
   "execution_count": 20
  }
 ],
 "metadata": {
  "kernelspec": {
   "display_name": "Python 3",
   "language": "python",
   "name": "python3"
  },
  "language_info": {
   "codemirror_mode": {
    "name": "ipython",
    "version": 2
   },
   "file_extension": ".py",
   "mimetype": "text/x-python",
   "name": "python",
   "nbconvert_exporter": "python",
   "pygments_lexer": "ipython2",
   "version": "2.7.6"
  }
 },
 "nbformat": 4,
 "nbformat_minor": 5
}
