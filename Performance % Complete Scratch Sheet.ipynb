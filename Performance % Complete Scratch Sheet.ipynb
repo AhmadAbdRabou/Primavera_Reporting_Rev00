{
 "cells": [
  {
   "metadata": {},
   "cell_type": "markdown",
   "source": [
    "Performance % Complete\n",
    "The percentage of the activity or project planned work that is currently complete.\n",
    "\n",
    "Performance % Complete is used to calculate earned value. It can be based on the activity percent complete, on the 0/100 rule, on the 50/50 rule, depending on the technique for computing earned-value percent complete for the activity's WBS."
   ],
   "id": "7cc08705a9f35915"
  },
  {
   "metadata": {
    "ExecuteTime": {
     "end_time": "2024-10-25T19:39:44.115415Z",
     "start_time": "2024-10-25T19:39:44.108400Z"
    }
   },
   "cell_type": "code",
   "source": [
    "import pandas as pd\n",
    "pd.set_option('display.max_columns', None)\n",
    "pd.set_option('display.max_rows', None)"
   ],
   "id": "65e52f337d1bfcca",
   "outputs": [],
   "execution_count": 7
  },
  {
   "metadata": {
    "ExecuteTime": {
     "end_time": "2024-10-25T19:39:44.159126Z",
     "start_time": "2024-10-25T19:39:44.134947Z"
    }
   },
   "cell_type": "code",
   "source": [
    "# specify the file path, you might need to adjust this\n",
    "file_path = \"Task_Calculation.xlsx\"\n",
    "# Load the Task data into a DataFrame\n",
    "task_calculation_df = pd.read_excel(file_path, sheet_name='Task_Calculation')"
   ],
   "id": "d09bfdee7e6d90e2",
   "outputs": [],
   "execution_count": 8
  },
  {
   "metadata": {
    "ExecuteTime": {
     "end_time": "2024-10-25T19:39:44.187086Z",
     "start_time": "2024-10-25T19:39:44.161629Z"
    }
   },
   "cell_type": "code",
   "source": [
    "# specify the file path, you might need to adjust this\n",
    "file_path = \"TST00-Update06.xlsx\"\n",
    "# Load the Task data into a DataFrame\n",
    "wbs_df = pd.read_excel(file_path, sheet_name='PROJWBS')"
   ],
   "id": "3ae96fd75cdf9e5d",
   "outputs": [],
   "execution_count": 9
  },
  {
   "metadata": {
    "ExecuteTime": {
     "end_time": "2024-10-25T19:39:44.196407Z",
     "start_time": "2024-10-25T19:39:44.187615Z"
    }
   },
   "cell_type": "code",
   "source": [
    "# Assume both task_calculation_df and wbs_df are your dataframes\n",
    "\n",
    "# First create the new column in task_calculation_df\n",
    "task_calculation_df['Performance_%_Complete'] = 0\n",
    "\n",
    "# Iterate over each row in task_calculation_df\n",
    "for index, row in task_calculation_df.iterrows():\n",
    "    wbs_id = row['wbs_id']\n",
    "\n",
    "    # find the related row in wbs_df\n",
    "    related_row_wbs_df = wbs_df.loc[wbs_df['wbs_id'] == wbs_id]\n",
    "\n",
    "    # check for the value ev_compute_type\n",
    "    if not related_row_wbs_df.empty and related_row_wbs_df['ev_compute_type'].values[0] == 'EC_Cmp_pct':\n",
    "        task_calculation_df.loc[index, 'Performance_%_Complete'] = row['Activity_%_Complete']"
   ],
   "id": "a849a7ddc2505ca4",
   "outputs": [],
   "execution_count": 10
  },
  {
   "metadata": {
    "ExecuteTime": {
     "end_time": "2024-10-25T19:39:44.207249Z",
     "start_time": "2024-10-25T19:39:44.197912Z"
    }
   },
   "cell_type": "code",
   "source": "task_calculation_df",
   "id": "6eb741a4b007aad9",
   "outputs": [
    {
     "data": {
      "text/plain": [
       "   task_id  proj_id  wbs_id  Activity_%_Complete  Performance_%_Complete\n",
       "0   316508     1481   85132                   27                      27\n",
       "1   316509     1481   85132                   23                      23\n",
       "2   316510     1481   85132                   25                      25"
      ],
      "text/html": [
       "<div>\n",
       "<style scoped>\n",
       "    .dataframe tbody tr th:only-of-type {\n",
       "        vertical-align: middle;\n",
       "    }\n",
       "\n",
       "    .dataframe tbody tr th {\n",
       "        vertical-align: top;\n",
       "    }\n",
       "\n",
       "    .dataframe thead th {\n",
       "        text-align: right;\n",
       "    }\n",
       "</style>\n",
       "<table border=\"1\" class=\"dataframe\">\n",
       "  <thead>\n",
       "    <tr style=\"text-align: right;\">\n",
       "      <th></th>\n",
       "      <th>task_id</th>\n",
       "      <th>proj_id</th>\n",
       "      <th>wbs_id</th>\n",
       "      <th>Activity_%_Complete</th>\n",
       "      <th>Performance_%_Complete</th>\n",
       "    </tr>\n",
       "  </thead>\n",
       "  <tbody>\n",
       "    <tr>\n",
       "      <th>0</th>\n",
       "      <td>316508</td>\n",
       "      <td>1481</td>\n",
       "      <td>85132</td>\n",
       "      <td>27</td>\n",
       "      <td>27</td>\n",
       "    </tr>\n",
       "    <tr>\n",
       "      <th>1</th>\n",
       "      <td>316509</td>\n",
       "      <td>1481</td>\n",
       "      <td>85132</td>\n",
       "      <td>23</td>\n",
       "      <td>23</td>\n",
       "    </tr>\n",
       "    <tr>\n",
       "      <th>2</th>\n",
       "      <td>316510</td>\n",
       "      <td>1481</td>\n",
       "      <td>85132</td>\n",
       "      <td>25</td>\n",
       "      <td>25</td>\n",
       "    </tr>\n",
       "  </tbody>\n",
       "</table>\n",
       "</div>"
      ]
     },
     "execution_count": 11,
     "metadata": {},
     "output_type": "execute_result"
    }
   ],
   "execution_count": 11
  },
  {
   "metadata": {
    "ExecuteTime": {
     "end_time": "2024-10-25T19:39:44.222662Z",
     "start_time": "2024-10-25T19:39:44.208240Z"
    }
   },
   "cell_type": "code",
   "source": [
    "# Assuming Task_Calculation_df is your DataFrame\n",
    "task_calculation_path = 'Task_Calculation.xlsx'  # you may want to include full path here\n",
    "with pd.ExcelWriter(task_calculation_path, engine='openpyxl') as writer:\n",
    "    task_calculation_df.to_excel(writer, sheet_name='Task_Calculation', index=False)"
   ],
   "id": "83c5ba1227e640f7",
   "outputs": [],
   "execution_count": 12
  },
  {
   "metadata": {
    "ExecuteTime": {
     "end_time": "2024-10-25T19:39:44.226158Z",
     "start_time": "2024-10-25T19:39:44.223665Z"
    }
   },
   "cell_type": "code",
   "source": "",
   "id": "26a9e588f6c07b6c",
   "outputs": [],
   "execution_count": 12
  }
 ],
 "metadata": {
  "kernelspec": {
   "display_name": "Python 3",
   "language": "python",
   "name": "python3"
  },
  "language_info": {
   "codemirror_mode": {
    "name": "ipython",
    "version": 2
   },
   "file_extension": ".py",
   "mimetype": "text/x-python",
   "name": "python",
   "nbconvert_exporter": "python",
   "pygments_lexer": "ipython2",
   "version": "2.7.6"
  }
 },
 "nbformat": 4,
 "nbformat_minor": 5
}
