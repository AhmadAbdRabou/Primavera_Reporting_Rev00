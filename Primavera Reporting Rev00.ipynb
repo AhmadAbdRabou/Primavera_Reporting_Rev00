{
 "cells": [
  {
   "cell_type": "code",
   "execution_count": 2,
   "id": "initial_id",
   "metadata": {
    "collapsed": true,
    "ExecuteTime": {
     "end_time": "2024-05-15T10:19:09.371230500Z",
     "start_time": "2024-05-15T10:19:02.549438Z"
    }
   },
   "outputs": [],
   "source": [
    "import pandas as pd\n",
    "from sqlalchemy import create_engine\n"
   ]
  },
  {
   "cell_type": "code",
   "outputs": [],
   "source": [
    "username = \"ADMPRM$PM\"\n",
    "password = \"Prima123Vera\"\n",
    "host = \"localhost\"\n",
    "port = 1521\n",
    "service_name = \"XE\""
   ],
   "metadata": {
    "collapsed": false,
    "ExecuteTime": {
     "end_time": "2024-05-15T10:19:09.375497100Z",
     "start_time": "2024-05-15T10:19:09.372211400Z"
    }
   },
   "id": "58da4f866810ff22",
   "execution_count": 3
  },
  {
   "cell_type": "code",
   "outputs": [],
   "source": [
    "dsn = f\"oracle+cx_oracle://{username}:{password}@{host}:{port}/{service_name}\"\n",
    "engine = create_engine(dsn)"
   ],
   "metadata": {
    "collapsed": false,
    "ExecuteTime": {
     "end_time": "2024-05-15T10:19:09.790407700Z",
     "start_time": "2024-05-15T10:19:09.375497100Z"
    }
   },
   "id": "706c1b17747e10e0",
   "execution_count": 4
  },
  {
   "cell_type": "code",
   "outputs": [],
   "source": [
    "SCHEDULE_TYPE_UDF_TYPE_ID = 14334\n",
    "DATA_DATE_UDF_TYPE_ID = 14335\n",
    "BASELINE_UDF_TYPE_ID = 14336\n",
    "PARENT_BASELINE_UDF_TYPE_ID = 14337\n",
    "PROJECT_NAME_UDF_TYPE_ID = 178"
   ],
   "metadata": {
    "collapsed": false,
    "ExecuteTime": {
     "end_time": "2024-05-15T10:19:09.795711800Z",
     "start_time": "2024-05-15T10:19:09.791399300Z"
    }
   },
   "id": "1d6e3a3fef2ac0e7",
   "execution_count": 5
  },
  {
   "cell_type": "code",
   "outputs": [],
   "source": [
    "Query = \"SELECT UDF_TEXT FROM UDFVALUE WHERE UDF_TYPE_ID = 14335\"\n",
    "with engine.begin() as connection:\n",
    "    Data_Date_df = pd.read_sql(Query, con=connection)"
   ],
   "metadata": {
    "collapsed": false,
    "ExecuteTime": {
     "end_time": "2024-05-15T10:19:10.973605300Z",
     "start_time": "2024-05-15T10:19:09.795711800Z"
    }
   },
   "id": "7cd18f971a23b95d",
   "execution_count": 6
  },
  {
   "cell_type": "code",
   "outputs": [],
   "source": [
    "if Data_Date_df is not None and not Data_Date_df.empty:\n",
    "    Data_Date_df['Data_Date'] = pd.to_datetime(Data_Date_df['udf_text'], dayfirst=True).dt.strftime('%d-%m-%Y')\n",
    "    Data_Date_df_unique = Data_Date_df.drop_duplicates(subset=['Data_Date'])\n",
    "    Data_Date_df_unique.to_excel('output.xlsx', columns=['Data_Date'], index=False)\n",
    "else:\n",
    "    print(\"Data_Date_df is None or Empty\")"
   ],
   "metadata": {
    "collapsed": false,
    "ExecuteTime": {
     "end_time": "2024-05-15T10:19:12.517377400Z",
     "start_time": "2024-05-15T10:19:10.976596700Z"
    }
   },
   "id": "18a823542829d680",
   "execution_count": 7
  },
  {
   "cell_type": "code",
   "outputs": [],
   "source": [
    "Query = \"SELECT PROJ_ID FROM UDFVALUE WHERE UDF_TYPE_ID = 14335 AND UDF_TEXT = '02-05-2024'\"\n",
    "with engine.begin() as connection:\n",
    "    Project_ID_df = pd.read_sql(Query, con=connection)"
   ],
   "metadata": {
    "collapsed": false,
    "ExecuteTime": {
     "end_time": "2024-05-15T10:19:12.529832500Z",
     "start_time": "2024-05-15T10:19:12.518372900Z"
    }
   },
   "id": "81c16db34ea3cae6",
   "execution_count": 8
  },
  {
   "cell_type": "code",
   "outputs": [
    {
     "data": {
      "text/plain": "   proj_id\n0    37236",
      "text/html": "<div>\n<style scoped>\n    .dataframe tbody tr th:only-of-type {\n        vertical-align: middle;\n    }\n\n    .dataframe tbody tr th {\n        vertical-align: top;\n    }\n\n    .dataframe thead th {\n        text-align: right;\n    }\n</style>\n<table border=\"1\" class=\"dataframe\">\n  <thead>\n    <tr style=\"text-align: right;\">\n      <th></th>\n      <th>proj_id</th>\n    </tr>\n  </thead>\n  <tbody>\n    <tr>\n      <th>0</th>\n      <td>37236</td>\n    </tr>\n  </tbody>\n</table>\n</div>"
     },
     "execution_count": 9,
     "metadata": {},
     "output_type": "execute_result"
    }
   ],
   "source": [
    "Project_ID_df.head()"
   ],
   "metadata": {
    "collapsed": false,
    "ExecuteTime": {
     "end_time": "2024-05-15T10:19:12.756875300Z",
     "start_time": "2024-05-15T10:19:12.530823200Z"
    }
   },
   "id": "87f09f0793ad2abb",
   "execution_count": 9
  },
  {
   "cell_type": "code",
   "outputs": [],
   "source": [
    "Query = '''SELECT \n",
    "    SUM(TARGET_COST) AS TotalTargetCost, \n",
    "    SUM(ACT_COST) AS TotalActualCost, \n",
    "    SUM(REMAIN_COST) AS TotalRemainingCost\n",
    "FROM PROJCOST\n",
    "WHERE PROJ_ID = 37236'''\n",
    "with engine.begin() as connection:\n",
    "    Project_Progress_df = pd.read_sql(Query, con=connection)"
   ],
   "metadata": {
    "collapsed": false,
    "ExecuteTime": {
     "end_time": "2024-05-15T10:19:12.942690700Z",
     "start_time": "2024-05-15T10:19:12.758869800Z"
    }
   },
   "id": "97bccfe9c294399c",
   "execution_count": 10
  },
  {
   "cell_type": "code",
   "outputs": [
    {
     "name": "stderr",
     "output_type": "stream",
     "text": [
      "C:\\Users\\IEC\\AppData\\Local\\Temp\\ipykernel_15008\\1763749421.py:1: FutureWarning: DataFrame.applymap has been deprecated. Use DataFrame.map instead.\n",
      "  Project_Progress_df = Project_Progress_df.applymap(lambda x: \"{:,}\".format(x) if isinstance(x, (int, float)) else x)\n"
     ]
    },
    {
     "data": {
      "text/plain": "   totaltargetcost  totalactualcost totalremainingcost\n0  62,824,426.4983  53,857,715.9676     8,966,710.5476",
      "text/html": "<div>\n<style scoped>\n    .dataframe tbody tr th:only-of-type {\n        vertical-align: middle;\n    }\n\n    .dataframe tbody tr th {\n        vertical-align: top;\n    }\n\n    .dataframe thead th {\n        text-align: right;\n    }\n</style>\n<table border=\"1\" class=\"dataframe\">\n  <thead>\n    <tr style=\"text-align: right;\">\n      <th></th>\n      <th>totaltargetcost</th>\n      <th>totalactualcost</th>\n      <th>totalremainingcost</th>\n    </tr>\n  </thead>\n  <tbody>\n    <tr>\n      <th>0</th>\n      <td>62,824,426.4983</td>\n      <td>53,857,715.9676</td>\n      <td>8,966,710.5476</td>\n    </tr>\n  </tbody>\n</table>\n</div>"
     },
     "execution_count": 11,
     "metadata": {},
     "output_type": "execute_result"
    }
   ],
   "source": [
    "Project_Progress_df = Project_Progress_df.applymap(lambda x: \"{:,}\".format(x) if isinstance(x, (int, float)) else x)\n",
    "Project_Progress_df.head()"
   ],
   "metadata": {
    "collapsed": false,
    "ExecuteTime": {
     "end_time": "2024-05-15T10:19:12.972606200Z",
     "start_time": "2024-05-15T10:19:12.801555100Z"
    }
   },
   "id": "3f6b8ed9bd40f29f",
   "execution_count": 11
  }
 ],
 "metadata": {
  "kernelspec": {
   "display_name": "Python 3",
   "language": "python",
   "name": "python3"
  },
  "language_info": {
   "codemirror_mode": {
    "name": "ipython",
    "version": 2
   },
   "file_extension": ".py",
   "mimetype": "text/x-python",
   "name": "python",
   "nbconvert_exporter": "python",
   "pygments_lexer": "ipython2",
   "version": "2.7.6"
  }
 },
 "nbformat": 4,
 "nbformat_minor": 5
}
