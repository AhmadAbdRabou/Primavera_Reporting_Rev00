{
 "cells": [
  {
   "cell_type": "code",
   "id": "initial_id",
   "metadata": {
    "collapsed": true,
    "ExecuteTime": {
     "end_time": "2024-10-26T09:20:51.509371500Z",
     "start_time": "2024-10-26T09:20:51.486785200Z"
    }
   },
   "source": [
    "    # RearXER reads data from Primavera XER file and convert its tables to Excel workbook, \n",
    "    #each table in a separate sheet.\n",
    "    #The XER file is a tab-delimited file, \"\\t\" is used to separate values.\n",
    "    # each line starts with a specific notation \"%\" followed by one of the following characters:\n",
    "    #   T   -  Table   : this line contains the table name of the primavera database schema\n",
    "    #   F   -  First   : this line contains the names of the columns of the same table above\n",
    "    #   R   -  Row     : this line contains the data inside the table mapped to the column names\n",
    "    #   E   -  End of File : this line represents the last line of the file and contains no other data\n",
    "    #The first line of the file is an exception since it has no \"%\" notation, still contains other \n",
    "    #information such as, Primavera revision, file creation date, file owner, Primavera Database name,\n",
    "    #and project currency\n",
    "\n",
    "# Importing Excel package that allow usage of .xlsx file format (after 2003)\n",
    "import xlsxwriter\n",
    "\n",
    "# Assign file name to variable and use it to \"open\" the file in read-only mode\n",
    "filename = 'HousingSTP-Update.xer'\n",
    "file = open(filename, mode='r', encoding='utf-8', errors='ignore')  # open() is built-in function that reads txt files\n",
    "\n",
    "# Read the file contents into a \"list\" of lines\n",
    "lines = file.readlines()\n",
    "\n",
    "# Create the output Excel file \"workbook\" and assign it to variable\n",
    "book = xlsxwriter.Workbook('HousingSTP-Update.xlsx')\n",
    "\n",
    "# rowcount is the number of data rows in each table, resetted to 1 with each new table\n",
    "rowcount = 1"
   ],
   "outputs": [],
   "execution_count": 3
  },
  {
   "metadata": {
    "ExecuteTime": {
     "end_time": "2024-10-26T09:20:51.894362300Z",
     "start_time": "2024-10-26T09:20:51.509371500Z"
    }
   },
   "cell_type": "code",
   "source": [
    "# Reading line by line\n",
    "for line in lines:\n",
    "    # if table\n",
    "    if \"%T\" in line:\n",
    "        # print the number of data rows of the previous table and rested the row count\n",
    "        print(rowcount)\n",
    "        rowcount = 1\n",
    "        # print the table name after removing \"%T\" and \"/n\"\n",
    "        print(line.split(sep='\\t')[1].split(sep='\\n')[0])\n",
    "        # create new excel sheet with table name\n",
    "        sheet = book.add_worksheet(line.split(sep='\\t')[1].split(sep='\\n')[0])\n",
    "\n",
    "    # if table head\n",
    "    elif \"%F\" in line:\n",
    "        # print the table head\n",
    "        print(line.split(sep='\\t'))\n",
    "        # row is the row index in the active excel sheet, the value 0 indicates the first row\n",
    "        row = 0\n",
    "        # each value in the line is assigned to excel column by index and value\n",
    "        for column, value in enumerate(line.split(sep='\\t')):\n",
    "            # write the value excel sheet cell designated by row & column index\n",
    "            sheet.write(row, column, value.split(sep='\\n')[0])\n",
    "\n",
    "    # if table data\n",
    "    elif \"%R\" in line:\n",
    "        # rowcount is the row count / index, with value of 1 at each new sheet which is the second row after\n",
    "        # recorded table column names in the same sheet\n",
    "        row = rowcount\n",
    "        # each value in the line is assigned to excel column by index and value\n",
    "        for column, value in enumerate(line.split(sep='\\t')):\n",
    "            # write the value excel sheet cell designated by row & column index\n",
    "            sheet.write(row, column, value.split(sep='\\n')[0])\n",
    "        # move to next row\n",
    "        rowcount += 1\n",
    "\n",
    "    # if anything else, just print the line\n",
    "    else:\n",
    "        print(line)"
   ],
   "id": "cd68d3f5c5e453dd",
   "outputs": [
    {
     "name": "stdout",
     "output_type": "stream",
     "text": [
      "ERMHDR\t8.2\t2024-10-19\tProject\tADMIN\tWashnah\tdbxDatabaseNoName\tProject Management\tSAR\n",
      "\n",
      "1\n",
      "CURRTYPE\n",
      "['%F', 'curr_id', 'decimal_digit_cnt', 'curr_symbol', 'decimal_symbol', 'digit_group_symbol', 'pos_curr_fmt_type', 'neg_curr_fmt_type', 'curr_type', 'curr_short_name', 'group_digit_cnt', 'base_exch_rate\\n']\n",
      "20\n",
      "FINTMPL\n",
      "['%F', 'fintmpl_id', 'fintmpl_name', 'default_flag\\n']\n",
      "2\n",
      "OBS\n",
      "['%F', 'obs_id', 'parent_obs_id', 'guid', 'seq_num', 'obs_name', 'obs_descr\\n']\n",
      "2\n",
      "PROJECT\n",
      "['%F', 'proj_id', 'fy_start_month_num', 'rsrc_self_add_flag', 'allow_complete_flag', 'rsrc_multi_assign_flag', 'checkout_flag', 'project_flag', 'step_complete_flag', 'cost_qty_recalc_flag', 'batch_sum_flag', 'name_sep_char', 'def_complete_pct_type', 'proj_short_name', 'acct_id', 'orig_proj_id', 'source_proj_id', 'base_type_id', 'clndr_id', 'sum_base_proj_id', 'task_code_base', 'task_code_step', 'priority_num', 'wbs_max_sum_level', 'strgy_priority_num', 'last_checksum', 'critical_drtn_hr_cnt', 'def_cost_per_qty', 'last_recalc_date', 'plan_start_date', 'plan_end_date', 'scd_end_date', 'add_date', 'last_tasksum_date', 'fcst_start_date', 'def_duration_type', 'task_code_prefix', 'guid', 'def_qty_type', 'add_by_name', 'web_local_root_path', 'proj_url', 'def_rate_type', 'add_act_remain_flag', 'act_this_per_link_flag', 'def_task_type', 'act_pct_link_flag', 'critical_path_type', 'task_code_prefix_flag', 'def_rollup_dates_flag', 'use_project_baseline_flag', 'rem_target_link_flag', 'reset_planned_flag', 'allow_neg_act_flag', 'sum_assign_level', 'last_fin_dates_id', 'fintmpl_id', 'last_baseline_update_date', 'cr_external_key', 'apply_actuals_date', 'location_id', 'last_schedule_date', 'loaded_scope_level', 'export_flag', 'new_fin_dates_id', 'baselines_to_export', 'baseline_names_to_export', 'next_data_date', 'close_period_flag', 'sum_refresh_date', 'trsrcsum_loaded', 'sumtask_loaded\\n']\n",
      "2\n",
      "CALENDAR\n",
      "['%F', 'clndr_id', 'default_flag', 'clndr_name', 'proj_id', 'base_clndr_id', 'last_chng_date', 'clndr_type', 'day_hr_cnt', 'week_hr_cnt', 'month_hr_cnt', 'year_hr_cnt', 'rsrc_private', 'clndr_data\\n']\n",
      "4\n",
      "SCHEDOPTIONS\n",
      "['%F', 'schedoptions_id', 'proj_id', 'sched_outer_depend_type', 'sched_open_critical_flag', 'sched_lag_early_start_flag', 'sched_retained_logic', 'sched_setplantoforecast', 'sched_float_type', 'sched_calendar_on_relationship_lag', 'sched_use_expect_end_flag', 'sched_progress_override', 'level_float_thrs_cnt', 'level_outer_assign_flag', 'level_outer_assign_priority', 'level_over_alloc_pct', 'level_within_float_flag', 'level_keep_sched_date_flag', 'level_all_rsrc_flag', 'sched_use_project_end_date_for_float', 'enable_multiple_longest_path_calc', 'limit_multiple_longest_path_calc', 'max_multiple_longest_path', 'use_total_float_multiple_longest_paths', 'key_activity_for_multiple_longest_paths', 'LevelPriorityList\\n']\n",
      "2\n",
      "PROJWBS\n",
      "['%F', 'wbs_id', 'proj_id', 'obs_id', 'seq_num', 'est_wt', 'proj_node_flag', 'sum_data_flag', 'status_code', 'wbs_short_name', 'wbs_name', 'phase_id', 'parent_wbs_id', 'ev_user_pct', 'ev_etc_user_value', 'orig_cost', 'indep_remain_total_cost', 'ann_dscnt_rate_pct', 'dscnt_period_type', 'indep_remain_work_qty', 'anticip_start_date', 'anticip_end_date', 'ev_compute_type', 'ev_etc_compute_type', 'guid', 'tmpl_guid', 'plan_open_state\\n']\n",
      "300\n",
      "RSRC\n",
      "['%F', 'rsrc_id', 'parent_rsrc_id', 'clndr_id', 'role_id', 'shift_id', 'user_id', 'pobs_id', 'guid', 'rsrc_seq_num', 'email_addr', 'employee_code', 'office_phone', 'other_phone', 'rsrc_name', 'rsrc_short_name', 'rsrc_title_name', 'def_qty_per_hr', 'cost_qty_type', 'ot_factor', 'active_flag', 'auto_compute_act_flag', 'def_cost_qty_link_flag', 'ot_flag', 'curr_id', 'unit_id', 'rsrc_type', 'location_id', 'rsrc_notes', 'load_tasks_flag', 'level_flag', 'last_checksum\\n']\n",
      "8\n",
      "ACTVTYPE\n",
      "['%F', 'actv_code_type_id', 'actv_short_len', 'seq_num', 'actv_code_type', 'proj_id', 'wbs_id', 'actv_code_type_scope', 'export_flag\\n']\n",
      "6\n",
      "RSRCRATE\n",
      "['%F', 'rsrc_rate_id', 'rsrc_id', 'max_qty_per_hr', 'cost_per_qty', 'start_date', 'shift_period_id', 'cost_per_qty2', 'cost_per_qty3', 'cost_per_qty4', 'cost_per_qty5\\n']\n",
      "8\n",
      "TASK\n",
      "['%F', 'task_id', 'proj_id', 'wbs_id', 'clndr_id', 'phys_complete_pct', 'rev_fdbk_flag', 'est_wt', 'lock_plan_flag', 'auto_compute_act_flag', 'complete_pct_type', 'task_type', 'duration_type', 'status_code', 'task_code', 'task_name', 'rsrc_id', 'total_float_hr_cnt', 'free_float_hr_cnt', 'remain_drtn_hr_cnt', 'act_work_qty', 'remain_work_qty', 'target_work_qty', 'target_drtn_hr_cnt', 'target_equip_qty', 'act_equip_qty', 'remain_equip_qty', 'cstr_date', 'act_start_date', 'act_end_date', 'late_start_date', 'late_end_date', 'expect_end_date', 'early_start_date', 'early_end_date', 'restart_date', 'reend_date', 'target_start_date', 'target_end_date', 'rem_late_start_date', 'rem_late_end_date', 'cstr_type', 'priority_type', 'suspend_date', 'resume_date', 'float_path', 'float_path_order', 'guid', 'tmpl_guid', 'cstr_date2', 'cstr_type2', 'driving_path_flag', 'act_this_per_work_qty', 'act_this_per_equip_qty', 'external_early_start_date', 'external_late_end_date', 'create_date', 'update_date', 'create_user', 'update_user', 'location_id', 'crt_path_num\\n']\n",
      "866\n",
      "ACTVCODE\n",
      "['%F', 'actv_code_id', 'parent_actv_code_id', 'actv_code_type_id', 'actv_code_name', 'short_name', 'seq_num', 'color', 'total_assignments\\n']\n",
      "67\n",
      "PROJCOST\n",
      "['%F', 'cost_item_id', 'acct_id', 'pobs_id', 'cost_type_id', 'proj_id', 'task_id', 'cost_name', 'po_number', 'vendor_name', 'act_cost', 'cost_per_qty', 'remain_cost', 'target_cost', 'cost_load_type', 'auto_compute_act_flag', 'target_qty', 'qty_name', 'cost_descr', 'contract_manager_import\\n']\n",
      "860\n",
      "TASKPRED\n",
      "['%F', 'task_pred_id', 'task_id', 'pred_task_id', 'proj_id', 'pred_proj_id', 'pred_type', 'lag_hr_cnt', 'comments', 'float_path', 'aref', 'arls\\n']\n",
      "1388\n",
      "TASKRSRC\n",
      "['%F', 'taskrsrc_id', 'task_id', 'proj_id', 'cost_qty_link_flag', 'role_id', 'acct_id', 'rsrc_id', 'pobs_id', 'skill_level', 'remain_qty', 'target_qty', 'remain_qty_per_hr', 'target_lag_drtn_hr_cnt', 'target_qty_per_hr', 'act_ot_qty', 'act_reg_qty', 'relag_drtn_hr_cnt', 'ot_factor', 'cost_per_qty', 'target_cost', 'act_reg_cost', 'act_ot_cost', 'remain_cost', 'act_start_date', 'act_end_date', 'restart_date', 'reend_date', 'target_start_date', 'target_end_date', 'rem_late_start_date', 'rem_late_end_date', 'rollup_dates_flag', 'target_crv', 'remain_crv', 'actual_crv', 'ts_pend_act_end_flag', 'guid', 'rate_type', 'act_this_per_cost', 'act_this_per_qty', 'curv_id', 'rsrc_type', 'cost_per_qty_source_type', 'create_user', 'create_date', 'has_rsrchours', 'taskrsrc_sum_id\\n']\n",
      "594\n",
      "TASKACTV\n",
      "['%F', 'task_id', 'actv_code_type_id', 'actv_code_id', 'proj_id\\n']\n",
      "%E\n"
     ]
    }
   ],
   "execution_count": 4
  },
  {
   "metadata": {
    "ExecuteTime": {
     "end_time": "2024-10-26T09:20:52.121300500Z",
     "start_time": "2024-10-26T09:20:51.891369900Z"
    }
   },
   "cell_type": "code",
   "source": [
    "# close open files, print last table rows count and report end of execution                \n",
    "file.close()\n",
    "book.close()\n",
    "print(rowcount)\n",
    "print('The End')\n",
    "# Note: all the print() lines are not necessary and can be removed without any effect."
   ],
   "id": "5a08b5e1c3d03a2b",
   "outputs": [
    {
     "name": "stdout",
     "output_type": "stream",
     "text": [
      "3082\n",
      "The End\n"
     ]
    }
   ],
   "execution_count": 5
  },
  {
   "metadata": {
    "ExecuteTime": {
     "end_time": "2024-10-26T09:20:52.121300500Z",
     "start_time": "2024-10-26T09:20:52.119295400Z"
    }
   },
   "cell_type": "code",
   "source": [],
   "id": "6120027a0477ce02",
   "outputs": [],
   "execution_count": 5
  }
 ],
 "metadata": {
  "kernelspec": {
   "display_name": "Python 3",
   "language": "python",
   "name": "python3"
  },
  "language_info": {
   "codemirror_mode": {
    "name": "ipython",
    "version": 2
   },
   "file_extension": ".py",
   "mimetype": "text/x-python",
   "name": "python",
   "nbconvert_exporter": "python",
   "pygments_lexer": "ipython2",
   "version": "2.7.6"
  }
 },
 "nbformat": 4,
 "nbformat_minor": 5
}
