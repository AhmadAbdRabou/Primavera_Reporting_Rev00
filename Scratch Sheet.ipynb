{
 "cells": [
  {
   "metadata": {},
   "cell_type": "markdown",
   "source": [
    "Earned Value Cost\n",
    "The portion of the project baseline total cost of an activity or all activities in the project that are actually completed as of the project data date.\n",
    "\n",
    "Budget at completion is calculated from the project baseline.\n",
    "\n",
    "Calculated as Budget At Completion multiplied by Performance Percent Complete. The method for computing performance percent complete depends on the Earned Value technique selected for the activity's WBS.\n",
    "\n",
    "Budget At Completion\n",
    "The planned total cost through activity or project completion.\n",
    "\n",
    "Calculated as Planned Labor Cost plus Planned Nonlabor Cost plus Planned Expense Cost plus Planned Material Cost.\n",
    "\n",
    "Planned Labor Cost (Activities)\n",
    "The planned costs for all labor resources assigned to the activity.\n",
    "\n",
    "If no resources are assigned, calculated as Activity Planned Labor Units multiplied by Project Default Price divided by Time.\n",
    "\n",
    "Planned Material Cost\n",
    "The planned cost for all material resources assigned to the activity, project, or EPS.\n",
    "\n",
    "Planned Nonlabor Cost\n",
    "The planned costs for all nonlabor resources assigned to the activity.\n",
    "\n",
    "If no resources are assigned, calculated as Activity Planned Nonlabor Units multiplied by Project Default Price divided by Time.\n",
    "\n",
    "Planned Expense Cost\n",
    "The planned total cost of all expenses associated with the activity, project, or EPS."
   ],
   "id": "7cc08705a9f35915"
  },
  {
   "metadata": {
    "ExecuteTime": {
     "end_time": "2024-09-19T23:51:19.613799Z",
     "start_time": "2024-09-19T23:51:19.609996Z"
    }
   },
   "cell_type": "code",
   "source": [
    "import pandas as pd\n",
    "import numpy as np\n",
    "pd.set_option('display.max_columns', None)\n",
    "pd.set_option('display.max_rows', None)"
   ],
   "id": "65e52f337d1bfcca",
   "outputs": [],
   "execution_count": 46
  },
  {
   "metadata": {
    "ExecuteTime": {
     "end_time": "2024-09-19T23:51:19.833676Z",
     "start_time": "2024-09-19T23:51:19.816176Z"
    }
   },
   "cell_type": "code",
   "source": [
    "# specify the file path, you might need to adjust this\n",
    "file_path = \"Task_Calculation.xlsx\"\n",
    "# Load the Task data into a DataFrame\n",
    "task_calculation_df = pd.read_excel(file_path, sheet_name='Task_Calculation')"
   ],
   "id": "26a9e588f6c07b6c",
   "outputs": [],
   "execution_count": 47
  },
  {
   "metadata": {
    "ExecuteTime": {
     "end_time": "2024-09-19T23:51:19.872157Z",
     "start_time": "2024-09-19T23:51:19.842657Z"
    }
   },
   "cell_type": "code",
   "source": [
    "# specify the file path, you might need to adjust this\n",
    "file_path = \"TST00-Update04.xlsx\"\n",
    "# Load the Task data into a DataFrame\n",
    "task_df = pd.read_excel(file_path, sheet_name='TASK')"
   ],
   "id": "c8558659d2e64bea",
   "outputs": [],
   "execution_count": 48
  },
  {
   "metadata": {
    "ExecuteTime": {
     "end_time": "2024-09-19T23:51:19.944256Z",
     "start_time": "2024-09-19T23:51:19.906070Z"
    }
   },
   "cell_type": "code",
   "source": [
    "# specify the file path, you might need to adjust this\n",
    "file_path = \"TST00-Update04.xlsx\"\n",
    "# Load the Project data into a DataFrame\n",
    "project_df = pd.read_excel(file_path, sheet_name='PROJECT')"
   ],
   "id": "6936536b26d04192",
   "outputs": [],
   "execution_count": 49
  },
  {
   "metadata": {
    "ExecuteTime": {
     "end_time": "2024-09-19T23:51:20.031213Z",
     "start_time": "2024-09-19T23:51:19.945288Z"
    }
   },
   "cell_type": "code",
   "source": [
    "# specify the file path, you might need to adjust this\n",
    "file_path = \"Calendar.xlsx\"\n",
    "# Load the Calendar data into a DataFrame\n",
    "calendar_df = pd.read_excel(file_path, sheet_name='Calendar')"
   ],
   "id": "761002050a56743",
   "outputs": [],
   "execution_count": 50
  },
  {
   "metadata": {
    "ExecuteTime": {
     "end_time": "2024-09-19T23:51:20.035859Z",
     "start_time": "2024-09-19T23:51:20.032213Z"
    }
   },
   "cell_type": "code",
   "source": [
    "import pandas as pd\n",
    "\n",
    "# Assuming project_df is your dataframe\n",
    "data_date = project_df.loc[0, 'last_recalc_date']\n",
    "\n",
    "# This should get the first row data for the column \"last_recalc_date\"."
   ],
   "id": "c664190f152f709b",
   "outputs": [],
   "execution_count": 51
  },
  {
   "metadata": {
    "ExecuteTime": {
     "end_time": "2024-09-19T23:51:20.040470Z",
     "start_time": "2024-09-19T23:51:20.036860Z"
    }
   },
   "cell_type": "code",
   "source": "data_date",
   "id": "b4b818bddb75a364",
   "outputs": [
    {
     "data": {
      "text/plain": [
       "'2024-06-05 17:00'"
      ]
     },
     "execution_count": 52,
     "metadata": {},
     "output_type": "execute_result"
    }
   ],
   "execution_count": 52
  },
  {
   "metadata": {
    "ExecuteTime": {
     "end_time": "2024-09-19T23:51:20.051506Z",
     "start_time": "2024-09-19T23:51:20.047457Z"
    }
   },
   "cell_type": "code",
   "source": "type(data_date)",
   "id": "3038dda207f4636b",
   "outputs": [
    {
     "data": {
      "text/plain": [
       "str"
      ]
     },
     "execution_count": 53,
     "metadata": {},
     "output_type": "execute_result"
    }
   ],
   "execution_count": 53
  },
  {
   "metadata": {
    "ExecuteTime": {
     "end_time": "2024-09-19T23:51:20.083117Z",
     "start_time": "2024-09-19T23:51:20.079436Z"
    }
   },
   "cell_type": "code",
   "source": [
    "# Assuming calendar_df is your dataframe\n",
    "calendar_date = calendar_df.loc[0, 'Date']\n",
    "# This retrieves the first row data for the column named \"Date\"."
   ],
   "id": "b0b6a20738c3d01",
   "outputs": [],
   "execution_count": 54
  },
  {
   "metadata": {
    "ExecuteTime": {
     "end_time": "2024-09-19T23:51:20.124192Z",
     "start_time": "2024-09-19T23:51:20.120023Z"
    }
   },
   "cell_type": "code",
   "source": "calendar_date",
   "id": "867301c9bcf788d6",
   "outputs": [
    {
     "data": {
      "text/plain": [
       "Timestamp('2024-05-31 00:00:00')"
      ]
     },
     "execution_count": 55,
     "metadata": {},
     "output_type": "execute_result"
    }
   ],
   "execution_count": 55
  },
  {
   "metadata": {
    "ExecuteTime": {
     "end_time": "2024-09-19T23:51:20.170972Z",
     "start_time": "2024-09-19T23:51:20.167082Z"
    }
   },
   "cell_type": "code",
   "source": "type(calendar_date)",
   "id": "8deb65d0eb482a09",
   "outputs": [
    {
     "data": {
      "text/plain": [
       "pandas._libs.tslibs.timestamps.Timestamp"
      ]
     },
     "execution_count": 56,
     "metadata": {},
     "output_type": "execute_result"
    }
   ],
   "execution_count": 56
  },
  {
   "metadata": {
    "ExecuteTime": {
     "end_time": "2024-09-19T23:51:20.211756Z",
     "start_time": "2024-09-19T23:51:20.208877Z"
    }
   },
   "cell_type": "code",
   "source": "date_component = calendar_date.date()",
   "id": "a25bdf30a1837dfb",
   "outputs": [],
   "execution_count": 57
  },
  {
   "metadata": {
    "ExecuteTime": {
     "end_time": "2024-09-19T23:51:20.268855Z",
     "start_time": "2024-09-19T23:51:20.264621Z"
    }
   },
   "cell_type": "code",
   "source": "date_component",
   "id": "c31b521b43c88b7c",
   "outputs": [
    {
     "data": {
      "text/plain": [
       "datetime.date(2024, 5, 31)"
      ]
     },
     "execution_count": 58,
     "metadata": {},
     "output_type": "execute_result"
    }
   ],
   "execution_count": 58
  },
  {
   "metadata": {
    "ExecuteTime": {
     "end_time": "2024-09-19T23:51:20.309278Z",
     "start_time": "2024-09-19T23:51:20.304764Z"
    }
   },
   "cell_type": "code",
   "source": "type(date_component)",
   "id": "78d14191a61e0ffc",
   "outputs": [
    {
     "data": {
      "text/plain": [
       "datetime.date"
      ]
     },
     "execution_count": 59,
     "metadata": {},
     "output_type": "execute_result"
    }
   ],
   "execution_count": 59
  },
  {
   "metadata": {
    "ExecuteTime": {
     "end_time": "2024-09-19T23:51:20.367712Z",
     "start_time": "2024-09-19T23:51:20.364137Z"
    }
   },
   "cell_type": "code",
   "source": [
    "from datetime import datetime\n",
    "\n",
    "# Assuming data_date is your string that contains date and time\n",
    "# convert the string to datetime object\n",
    "data_datetime = datetime.strptime(data_date, '%Y-%m-%d %H:%M')\n",
    "\n",
    "# To compare with 'date_component', you may want to extract the date \n",
    "data_date_component = data_datetime.date()"
   ],
   "id": "33597e6bf006e318",
   "outputs": [],
   "execution_count": 60
  },
  {
   "metadata": {
    "ExecuteTime": {
     "end_time": "2024-09-19T23:51:20.394359Z",
     "start_time": "2024-09-19T23:51:20.390654Z"
    }
   },
   "cell_type": "code",
   "source": "data_datetime",
   "id": "1e9a153f12809f9a",
   "outputs": [
    {
     "data": {
      "text/plain": [
       "datetime.datetime(2024, 6, 5, 17, 0)"
      ]
     },
     "execution_count": 61,
     "metadata": {},
     "output_type": "execute_result"
    }
   ],
   "execution_count": 61
  },
  {
   "metadata": {
    "ExecuteTime": {
     "end_time": "2024-09-19T23:51:20.441698Z",
     "start_time": "2024-09-19T23:51:20.437248Z"
    }
   },
   "cell_type": "code",
   "source": "data_date_component",
   "id": "1f138d2591612e53",
   "outputs": [
    {
     "data": {
      "text/plain": [
       "datetime.date(2024, 6, 5)"
      ]
     },
     "execution_count": 62,
     "metadata": {},
     "output_type": "execute_result"
    }
   ],
   "execution_count": 62
  },
  {
   "metadata": {
    "ExecuteTime": {
     "end_time": "2024-09-19T23:51:20.487890Z",
     "start_time": "2024-09-19T23:51:20.484619Z"
    }
   },
   "cell_type": "code",
   "source": "Ztype = calendar_df['Date'].dtype",
   "id": "8f0b20ea0822e826",
   "outputs": [],
   "execution_count": 63
  },
  {
   "metadata": {
    "ExecuteTime": {
     "end_time": "2024-09-19T23:51:20.542517Z",
     "start_time": "2024-09-19T23:51:20.538759Z"
    }
   },
   "cell_type": "code",
   "source": "Ztype",
   "id": "dd4ac065242aa7ee",
   "outputs": [
    {
     "data": {
      "text/plain": [
       "dtype('<M8[ns]')"
      ]
     },
     "execution_count": 64,
     "metadata": {},
     "output_type": "execute_result"
    }
   ],
   "execution_count": 64
  },
  {
   "metadata": {
    "ExecuteTime": {
     "end_time": "2024-09-19T23:51:20.594159Z",
     "start_time": "2024-09-19T23:51:20.589396Z"
    }
   },
   "cell_type": "code",
   "source": "matching_dates = calendar_df[calendar_df['Date'].dt.date == data_date_component]",
   "id": "a6c49f3af1bd17bd",
   "outputs": [],
   "execution_count": 65
  },
  {
   "metadata": {
    "ExecuteTime": {
     "end_time": "2024-09-19T23:51:20.633329Z",
     "start_time": "2024-09-19T23:51:20.627110Z"
    }
   },
   "cell_type": "code",
   "source": "matching_dates",
   "id": "7c13bc2ba663bdb9",
   "outputs": [
    {
     "data": {
      "text/plain": [
       "        Date StartingHour EndingHour  WorkingHours      Type\n",
       "5 2024-06-05     07:00 AM   05:00 PM            10  Standard"
      ],
      "text/html": [
       "<div>\n",
       "<style scoped>\n",
       "    .dataframe tbody tr th:only-of-type {\n",
       "        vertical-align: middle;\n",
       "    }\n",
       "\n",
       "    .dataframe tbody tr th {\n",
       "        vertical-align: top;\n",
       "    }\n",
       "\n",
       "    .dataframe thead th {\n",
       "        text-align: right;\n",
       "    }\n",
       "</style>\n",
       "<table border=\"1\" class=\"dataframe\">\n",
       "  <thead>\n",
       "    <tr style=\"text-align: right;\">\n",
       "      <th></th>\n",
       "      <th>Date</th>\n",
       "      <th>StartingHour</th>\n",
       "      <th>EndingHour</th>\n",
       "      <th>WorkingHours</th>\n",
       "      <th>Type</th>\n",
       "    </tr>\n",
       "  </thead>\n",
       "  <tbody>\n",
       "    <tr>\n",
       "      <th>5</th>\n",
       "      <td>2024-06-05</td>\n",
       "      <td>07:00 AM</td>\n",
       "      <td>05:00 PM</td>\n",
       "      <td>10</td>\n",
       "      <td>Standard</td>\n",
       "    </tr>\n",
       "  </tbody>\n",
       "</table>\n",
       "</div>"
      ]
     },
     "execution_count": 66,
     "metadata": {},
     "output_type": "execute_result"
    }
   ],
   "execution_count": 66
  },
  {
   "metadata": {
    "ExecuteTime": {
     "end_time": "2024-09-19T23:51:20.676631Z",
     "start_time": "2024-09-19T23:51:20.673238Z"
    }
   },
   "cell_type": "code",
   "source": "data_time_component = data_datetime.time()",
   "id": "1db9ae6f822ecaa0",
   "outputs": [],
   "execution_count": 67
  },
  {
   "metadata": {
    "ExecuteTime": {
     "end_time": "2024-09-19T23:51:20.737150Z",
     "start_time": "2024-09-19T23:51:20.733483Z"
    }
   },
   "cell_type": "code",
   "source": "data_time_component",
   "id": "f4d99ac3501d94bf",
   "outputs": [
    {
     "data": {
      "text/plain": [
       "datetime.time(17, 0)"
      ]
     },
     "execution_count": 68,
     "metadata": {},
     "output_type": "execute_result"
    }
   ],
   "execution_count": 68
  },
  {
   "metadata": {
    "ExecuteTime": {
     "end_time": "2024-09-19T23:51:20.779727Z",
     "start_time": "2024-09-19T23:51:20.776087Z"
    }
   },
   "cell_type": "code",
   "source": "planned_df = task_df[['task_id', 'proj_id', 'wbs_id', 'target_drtn_hr_cnt', 'target_start_date', 'target_end_date']].copy()",
   "id": "4bcde81f5d5fd923",
   "outputs": [],
   "execution_count": 69
  },
  {
   "metadata": {
    "ExecuteTime": {
     "end_time": "2024-09-19T23:51:20.914151Z",
     "start_time": "2024-09-19T23:51:20.907390Z"
    }
   },
   "cell_type": "code",
   "source": "planned_df",
   "id": "6586313ee68ba86d",
   "outputs": [
    {
     "data": {
      "text/plain": [
       "   task_id  proj_id  wbs_id  target_drtn_hr_cnt target_start_date  \\\n",
       "0   313464     1474   84085                 100  2024-06-01 07:00   \n",
       "1   313465     1474   84085                 100  2024-06-01 07:00   \n",
       "2   313466     1474   84085                 100  2024-06-01 07:00   \n",
       "\n",
       "    target_end_date  \n",
       "0  2024-06-11 17:00  \n",
       "1  2024-06-11 17:00  \n",
       "2  2024-06-11 17:00  "
      ],
      "text/html": [
       "<div>\n",
       "<style scoped>\n",
       "    .dataframe tbody tr th:only-of-type {\n",
       "        vertical-align: middle;\n",
       "    }\n",
       "\n",
       "    .dataframe tbody tr th {\n",
       "        vertical-align: top;\n",
       "    }\n",
       "\n",
       "    .dataframe thead th {\n",
       "        text-align: right;\n",
       "    }\n",
       "</style>\n",
       "<table border=\"1\" class=\"dataframe\">\n",
       "  <thead>\n",
       "    <tr style=\"text-align: right;\">\n",
       "      <th></th>\n",
       "      <th>task_id</th>\n",
       "      <th>proj_id</th>\n",
       "      <th>wbs_id</th>\n",
       "      <th>target_drtn_hr_cnt</th>\n",
       "      <th>target_start_date</th>\n",
       "      <th>target_end_date</th>\n",
       "    </tr>\n",
       "  </thead>\n",
       "  <tbody>\n",
       "    <tr>\n",
       "      <th>0</th>\n",
       "      <td>313464</td>\n",
       "      <td>1474</td>\n",
       "      <td>84085</td>\n",
       "      <td>100</td>\n",
       "      <td>2024-06-01 07:00</td>\n",
       "      <td>2024-06-11 17:00</td>\n",
       "    </tr>\n",
       "    <tr>\n",
       "      <th>1</th>\n",
       "      <td>313465</td>\n",
       "      <td>1474</td>\n",
       "      <td>84085</td>\n",
       "      <td>100</td>\n",
       "      <td>2024-06-01 07:00</td>\n",
       "      <td>2024-06-11 17:00</td>\n",
       "    </tr>\n",
       "    <tr>\n",
       "      <th>2</th>\n",
       "      <td>313466</td>\n",
       "      <td>1474</td>\n",
       "      <td>84085</td>\n",
       "      <td>100</td>\n",
       "      <td>2024-06-01 07:00</td>\n",
       "      <td>2024-06-11 17:00</td>\n",
       "    </tr>\n",
       "  </tbody>\n",
       "</table>\n",
       "</div>"
      ]
     },
     "execution_count": 70,
     "metadata": {},
     "output_type": "execute_result"
    }
   ],
   "execution_count": 70
  },
  {
   "metadata": {
    "ExecuteTime": {
     "end_time": "2024-09-19T23:51:20.956003Z",
     "start_time": "2024-09-19T23:51:20.952086Z"
    }
   },
   "cell_type": "code",
   "source": "type(planned_df)",
   "id": "459a4704b5765421",
   "outputs": [
    {
     "data": {
      "text/plain": [
       "pandas.core.frame.DataFrame"
      ]
     },
     "execution_count": 71,
     "metadata": {},
     "output_type": "execute_result"
    }
   ],
   "execution_count": 71
  },
  {
   "metadata": {
    "ExecuteTime": {
     "end_time": "2024-09-19T23:51:20.993314Z",
     "start_time": "2024-09-19T23:51:20.988919Z"
    }
   },
   "cell_type": "code",
   "source": [
    "planned_df['data_date_date'] = data_date_component\n",
    "planned_df['data_date_time'] = data_time_component"
   ],
   "id": "75f1a508179391c4",
   "outputs": [],
   "execution_count": 72
  },
  {
   "metadata": {
    "ExecuteTime": {
     "end_time": "2024-09-19T23:51:21.050998Z",
     "start_time": "2024-09-19T23:51:21.044182Z"
    }
   },
   "cell_type": "code",
   "source": "planned_df",
   "id": "7ee5e70004559971",
   "outputs": [
    {
     "data": {
      "text/plain": [
       "   task_id  proj_id  wbs_id  target_drtn_hr_cnt target_start_date  \\\n",
       "0   313464     1474   84085                 100  2024-06-01 07:00   \n",
       "1   313465     1474   84085                 100  2024-06-01 07:00   \n",
       "2   313466     1474   84085                 100  2024-06-01 07:00   \n",
       "\n",
       "    target_end_date data_date_date data_date_time  \n",
       "0  2024-06-11 17:00     2024-06-05       17:00:00  \n",
       "1  2024-06-11 17:00     2024-06-05       17:00:00  \n",
       "2  2024-06-11 17:00     2024-06-05       17:00:00  "
      ],
      "text/html": [
       "<div>\n",
       "<style scoped>\n",
       "    .dataframe tbody tr th:only-of-type {\n",
       "        vertical-align: middle;\n",
       "    }\n",
       "\n",
       "    .dataframe tbody tr th {\n",
       "        vertical-align: top;\n",
       "    }\n",
       "\n",
       "    .dataframe thead th {\n",
       "        text-align: right;\n",
       "    }\n",
       "</style>\n",
       "<table border=\"1\" class=\"dataframe\">\n",
       "  <thead>\n",
       "    <tr style=\"text-align: right;\">\n",
       "      <th></th>\n",
       "      <th>task_id</th>\n",
       "      <th>proj_id</th>\n",
       "      <th>wbs_id</th>\n",
       "      <th>target_drtn_hr_cnt</th>\n",
       "      <th>target_start_date</th>\n",
       "      <th>target_end_date</th>\n",
       "      <th>data_date_date</th>\n",
       "      <th>data_date_time</th>\n",
       "    </tr>\n",
       "  </thead>\n",
       "  <tbody>\n",
       "    <tr>\n",
       "      <th>0</th>\n",
       "      <td>313464</td>\n",
       "      <td>1474</td>\n",
       "      <td>84085</td>\n",
       "      <td>100</td>\n",
       "      <td>2024-06-01 07:00</td>\n",
       "      <td>2024-06-11 17:00</td>\n",
       "      <td>2024-06-05</td>\n",
       "      <td>17:00:00</td>\n",
       "    </tr>\n",
       "    <tr>\n",
       "      <th>1</th>\n",
       "      <td>313465</td>\n",
       "      <td>1474</td>\n",
       "      <td>84085</td>\n",
       "      <td>100</td>\n",
       "      <td>2024-06-01 07:00</td>\n",
       "      <td>2024-06-11 17:00</td>\n",
       "      <td>2024-06-05</td>\n",
       "      <td>17:00:00</td>\n",
       "    </tr>\n",
       "    <tr>\n",
       "      <th>2</th>\n",
       "      <td>313466</td>\n",
       "      <td>1474</td>\n",
       "      <td>84085</td>\n",
       "      <td>100</td>\n",
       "      <td>2024-06-01 07:00</td>\n",
       "      <td>2024-06-11 17:00</td>\n",
       "      <td>2024-06-05</td>\n",
       "      <td>17:00:00</td>\n",
       "    </tr>\n",
       "  </tbody>\n",
       "</table>\n",
       "</div>"
      ]
     },
     "execution_count": 73,
     "metadata": {},
     "output_type": "execute_result"
    }
   ],
   "execution_count": 73
  },
  {
   "metadata": {
    "ExecuteTime": {
     "end_time": "2024-09-19T23:51:21.176572Z",
     "start_time": "2024-09-19T23:51:21.169686Z"
    }
   },
   "cell_type": "code",
   "source": [
    "# convert target_start_date to datetime if it's not already\n",
    "planned_df['target_start_date'] = pd.to_datetime(planned_df['target_start_date'])\n",
    "\n",
    "# create new date and time columns\n",
    "planned_df['planned_start_date'] = planned_df['target_start_date'].dt.date\n",
    "planned_df['planned_start_time'] = planned_df['target_start_date'].dt.time"
   ],
   "id": "1649259c4962e3f9",
   "outputs": [],
   "execution_count": 74
  },
  {
   "metadata": {
    "ExecuteTime": {
     "end_time": "2024-09-19T23:51:21.221279Z",
     "start_time": "2024-09-19T23:51:21.213478Z"
    }
   },
   "cell_type": "code",
   "source": "planned_df",
   "id": "b8d0eda810aff424",
   "outputs": [
    {
     "data": {
      "text/plain": [
       "   task_id  proj_id  wbs_id  target_drtn_hr_cnt   target_start_date  \\\n",
       "0   313464     1474   84085                 100 2024-06-01 07:00:00   \n",
       "1   313465     1474   84085                 100 2024-06-01 07:00:00   \n",
       "2   313466     1474   84085                 100 2024-06-01 07:00:00   \n",
       "\n",
       "    target_end_date data_date_date data_date_time planned_start_date  \\\n",
       "0  2024-06-11 17:00     2024-06-05       17:00:00         2024-06-01   \n",
       "1  2024-06-11 17:00     2024-06-05       17:00:00         2024-06-01   \n",
       "2  2024-06-11 17:00     2024-06-05       17:00:00         2024-06-01   \n",
       "\n",
       "  planned_start_time  \n",
       "0           07:00:00  \n",
       "1           07:00:00  \n",
       "2           07:00:00  "
      ],
      "text/html": [
       "<div>\n",
       "<style scoped>\n",
       "    .dataframe tbody tr th:only-of-type {\n",
       "        vertical-align: middle;\n",
       "    }\n",
       "\n",
       "    .dataframe tbody tr th {\n",
       "        vertical-align: top;\n",
       "    }\n",
       "\n",
       "    .dataframe thead th {\n",
       "        text-align: right;\n",
       "    }\n",
       "</style>\n",
       "<table border=\"1\" class=\"dataframe\">\n",
       "  <thead>\n",
       "    <tr style=\"text-align: right;\">\n",
       "      <th></th>\n",
       "      <th>task_id</th>\n",
       "      <th>proj_id</th>\n",
       "      <th>wbs_id</th>\n",
       "      <th>target_drtn_hr_cnt</th>\n",
       "      <th>target_start_date</th>\n",
       "      <th>target_end_date</th>\n",
       "      <th>data_date_date</th>\n",
       "      <th>data_date_time</th>\n",
       "      <th>planned_start_date</th>\n",
       "      <th>planned_start_time</th>\n",
       "    </tr>\n",
       "  </thead>\n",
       "  <tbody>\n",
       "    <tr>\n",
       "      <th>0</th>\n",
       "      <td>313464</td>\n",
       "      <td>1474</td>\n",
       "      <td>84085</td>\n",
       "      <td>100</td>\n",
       "      <td>2024-06-01 07:00:00</td>\n",
       "      <td>2024-06-11 17:00</td>\n",
       "      <td>2024-06-05</td>\n",
       "      <td>17:00:00</td>\n",
       "      <td>2024-06-01</td>\n",
       "      <td>07:00:00</td>\n",
       "    </tr>\n",
       "    <tr>\n",
       "      <th>1</th>\n",
       "      <td>313465</td>\n",
       "      <td>1474</td>\n",
       "      <td>84085</td>\n",
       "      <td>100</td>\n",
       "      <td>2024-06-01 07:00:00</td>\n",
       "      <td>2024-06-11 17:00</td>\n",
       "      <td>2024-06-05</td>\n",
       "      <td>17:00:00</td>\n",
       "      <td>2024-06-01</td>\n",
       "      <td>07:00:00</td>\n",
       "    </tr>\n",
       "    <tr>\n",
       "      <th>2</th>\n",
       "      <td>313466</td>\n",
       "      <td>1474</td>\n",
       "      <td>84085</td>\n",
       "      <td>100</td>\n",
       "      <td>2024-06-01 07:00:00</td>\n",
       "      <td>2024-06-11 17:00</td>\n",
       "      <td>2024-06-05</td>\n",
       "      <td>17:00:00</td>\n",
       "      <td>2024-06-01</td>\n",
       "      <td>07:00:00</td>\n",
       "    </tr>\n",
       "  </tbody>\n",
       "</table>\n",
       "</div>"
      ]
     },
     "execution_count": 75,
     "metadata": {},
     "output_type": "execute_result"
    }
   ],
   "execution_count": 75
  },
  {
   "metadata": {
    "ExecuteTime": {
     "end_time": "2024-09-19T23:51:21.259966Z",
     "start_time": "2024-09-19T23:51:21.255193Z"
    }
   },
   "cell_type": "code",
   "source": [
    "# convert target_start_date to datetime if it's not already\n",
    "planned_df['target_end_date'] = pd.to_datetime(planned_df['target_end_date'])\n",
    "\n",
    "# create new date and time columns\n",
    "planned_df['planned_end_date'] = planned_df['target_end_date'].dt.date\n",
    "planned_df['planned_end_time'] = planned_df['target_end_date'].dt.time"
   ],
   "id": "afe335d728a46412",
   "outputs": [],
   "execution_count": 76
  },
  {
   "metadata": {
    "ExecuteTime": {
     "end_time": "2024-09-19T23:51:21.336284Z",
     "start_time": "2024-09-19T23:51:21.325797Z"
    }
   },
   "cell_type": "code",
   "source": "planned_df",
   "id": "b8e717df1bd245c9",
   "outputs": [
    {
     "data": {
      "text/plain": [
       "   task_id  proj_id  wbs_id  target_drtn_hr_cnt   target_start_date  \\\n",
       "0   313464     1474   84085                 100 2024-06-01 07:00:00   \n",
       "1   313465     1474   84085                 100 2024-06-01 07:00:00   \n",
       "2   313466     1474   84085                 100 2024-06-01 07:00:00   \n",
       "\n",
       "      target_end_date data_date_date data_date_time planned_start_date  \\\n",
       "0 2024-06-11 17:00:00     2024-06-05       17:00:00         2024-06-01   \n",
       "1 2024-06-11 17:00:00     2024-06-05       17:00:00         2024-06-01   \n",
       "2 2024-06-11 17:00:00     2024-06-05       17:00:00         2024-06-01   \n",
       "\n",
       "  planned_start_time planned_end_date planned_end_time  \n",
       "0           07:00:00       2024-06-11         17:00:00  \n",
       "1           07:00:00       2024-06-11         17:00:00  \n",
       "2           07:00:00       2024-06-11         17:00:00  "
      ],
      "text/html": [
       "<div>\n",
       "<style scoped>\n",
       "    .dataframe tbody tr th:only-of-type {\n",
       "        vertical-align: middle;\n",
       "    }\n",
       "\n",
       "    .dataframe tbody tr th {\n",
       "        vertical-align: top;\n",
       "    }\n",
       "\n",
       "    .dataframe thead th {\n",
       "        text-align: right;\n",
       "    }\n",
       "</style>\n",
       "<table border=\"1\" class=\"dataframe\">\n",
       "  <thead>\n",
       "    <tr style=\"text-align: right;\">\n",
       "      <th></th>\n",
       "      <th>task_id</th>\n",
       "      <th>proj_id</th>\n",
       "      <th>wbs_id</th>\n",
       "      <th>target_drtn_hr_cnt</th>\n",
       "      <th>target_start_date</th>\n",
       "      <th>target_end_date</th>\n",
       "      <th>data_date_date</th>\n",
       "      <th>data_date_time</th>\n",
       "      <th>planned_start_date</th>\n",
       "      <th>planned_start_time</th>\n",
       "      <th>planned_end_date</th>\n",
       "      <th>planned_end_time</th>\n",
       "    </tr>\n",
       "  </thead>\n",
       "  <tbody>\n",
       "    <tr>\n",
       "      <th>0</th>\n",
       "      <td>313464</td>\n",
       "      <td>1474</td>\n",
       "      <td>84085</td>\n",
       "      <td>100</td>\n",
       "      <td>2024-06-01 07:00:00</td>\n",
       "      <td>2024-06-11 17:00:00</td>\n",
       "      <td>2024-06-05</td>\n",
       "      <td>17:00:00</td>\n",
       "      <td>2024-06-01</td>\n",
       "      <td>07:00:00</td>\n",
       "      <td>2024-06-11</td>\n",
       "      <td>17:00:00</td>\n",
       "    </tr>\n",
       "    <tr>\n",
       "      <th>1</th>\n",
       "      <td>313465</td>\n",
       "      <td>1474</td>\n",
       "      <td>84085</td>\n",
       "      <td>100</td>\n",
       "      <td>2024-06-01 07:00:00</td>\n",
       "      <td>2024-06-11 17:00:00</td>\n",
       "      <td>2024-06-05</td>\n",
       "      <td>17:00:00</td>\n",
       "      <td>2024-06-01</td>\n",
       "      <td>07:00:00</td>\n",
       "      <td>2024-06-11</td>\n",
       "      <td>17:00:00</td>\n",
       "    </tr>\n",
       "    <tr>\n",
       "      <th>2</th>\n",
       "      <td>313466</td>\n",
       "      <td>1474</td>\n",
       "      <td>84085</td>\n",
       "      <td>100</td>\n",
       "      <td>2024-06-01 07:00:00</td>\n",
       "      <td>2024-06-11 17:00:00</td>\n",
       "      <td>2024-06-05</td>\n",
       "      <td>17:00:00</td>\n",
       "      <td>2024-06-01</td>\n",
       "      <td>07:00:00</td>\n",
       "      <td>2024-06-11</td>\n",
       "      <td>17:00:00</td>\n",
       "    </tr>\n",
       "  </tbody>\n",
       "</table>\n",
       "</div>"
      ]
     },
     "execution_count": 77,
     "metadata": {},
     "output_type": "execute_result"
    }
   ],
   "execution_count": 77
  },
  {
   "metadata": {
    "ExecuteTime": {
     "end_time": "2024-09-19T23:51:21.433922Z",
     "start_time": "2024-09-19T23:51:21.430037Z"
    }
   },
   "cell_type": "code",
   "source": "planned_df['current_duration_percent'] = 0",
   "id": "edecabc0b70b71c3",
   "outputs": [],
   "execution_count": 78
  },
  {
   "metadata": {
    "ExecuteTime": {
     "end_time": "2024-09-19T23:51:21.486813Z",
     "start_time": "2024-09-19T23:51:21.477810Z"
    }
   },
   "cell_type": "code",
   "source": "planned_df",
   "id": "68a991413c0408e3",
   "outputs": [
    {
     "data": {
      "text/plain": [
       "   task_id  proj_id  wbs_id  target_drtn_hr_cnt   target_start_date  \\\n",
       "0   313464     1474   84085                 100 2024-06-01 07:00:00   \n",
       "1   313465     1474   84085                 100 2024-06-01 07:00:00   \n",
       "2   313466     1474   84085                 100 2024-06-01 07:00:00   \n",
       "\n",
       "      target_end_date data_date_date data_date_time planned_start_date  \\\n",
       "0 2024-06-11 17:00:00     2024-06-05       17:00:00         2024-06-01   \n",
       "1 2024-06-11 17:00:00     2024-06-05       17:00:00         2024-06-01   \n",
       "2 2024-06-11 17:00:00     2024-06-05       17:00:00         2024-06-01   \n",
       "\n",
       "  planned_start_time planned_end_date planned_end_time  \\\n",
       "0           07:00:00       2024-06-11         17:00:00   \n",
       "1           07:00:00       2024-06-11         17:00:00   \n",
       "2           07:00:00       2024-06-11         17:00:00   \n",
       "\n",
       "   current_duration_percent  \n",
       "0                         0  \n",
       "1                         0  \n",
       "2                         0  "
      ],
      "text/html": [
       "<div>\n",
       "<style scoped>\n",
       "    .dataframe tbody tr th:only-of-type {\n",
       "        vertical-align: middle;\n",
       "    }\n",
       "\n",
       "    .dataframe tbody tr th {\n",
       "        vertical-align: top;\n",
       "    }\n",
       "\n",
       "    .dataframe thead th {\n",
       "        text-align: right;\n",
       "    }\n",
       "</style>\n",
       "<table border=\"1\" class=\"dataframe\">\n",
       "  <thead>\n",
       "    <tr style=\"text-align: right;\">\n",
       "      <th></th>\n",
       "      <th>task_id</th>\n",
       "      <th>proj_id</th>\n",
       "      <th>wbs_id</th>\n",
       "      <th>target_drtn_hr_cnt</th>\n",
       "      <th>target_start_date</th>\n",
       "      <th>target_end_date</th>\n",
       "      <th>data_date_date</th>\n",
       "      <th>data_date_time</th>\n",
       "      <th>planned_start_date</th>\n",
       "      <th>planned_start_time</th>\n",
       "      <th>planned_end_date</th>\n",
       "      <th>planned_end_time</th>\n",
       "      <th>current_duration_percent</th>\n",
       "    </tr>\n",
       "  </thead>\n",
       "  <tbody>\n",
       "    <tr>\n",
       "      <th>0</th>\n",
       "      <td>313464</td>\n",
       "      <td>1474</td>\n",
       "      <td>84085</td>\n",
       "      <td>100</td>\n",
       "      <td>2024-06-01 07:00:00</td>\n",
       "      <td>2024-06-11 17:00:00</td>\n",
       "      <td>2024-06-05</td>\n",
       "      <td>17:00:00</td>\n",
       "      <td>2024-06-01</td>\n",
       "      <td>07:00:00</td>\n",
       "      <td>2024-06-11</td>\n",
       "      <td>17:00:00</td>\n",
       "      <td>0</td>\n",
       "    </tr>\n",
       "    <tr>\n",
       "      <th>1</th>\n",
       "      <td>313465</td>\n",
       "      <td>1474</td>\n",
       "      <td>84085</td>\n",
       "      <td>100</td>\n",
       "      <td>2024-06-01 07:00:00</td>\n",
       "      <td>2024-06-11 17:00:00</td>\n",
       "      <td>2024-06-05</td>\n",
       "      <td>17:00:00</td>\n",
       "      <td>2024-06-01</td>\n",
       "      <td>07:00:00</td>\n",
       "      <td>2024-06-11</td>\n",
       "      <td>17:00:00</td>\n",
       "      <td>0</td>\n",
       "    </tr>\n",
       "    <tr>\n",
       "      <th>2</th>\n",
       "      <td>313466</td>\n",
       "      <td>1474</td>\n",
       "      <td>84085</td>\n",
       "      <td>100</td>\n",
       "      <td>2024-06-01 07:00:00</td>\n",
       "      <td>2024-06-11 17:00:00</td>\n",
       "      <td>2024-06-05</td>\n",
       "      <td>17:00:00</td>\n",
       "      <td>2024-06-01</td>\n",
       "      <td>07:00:00</td>\n",
       "      <td>2024-06-11</td>\n",
       "      <td>17:00:00</td>\n",
       "      <td>0</td>\n",
       "    </tr>\n",
       "  </tbody>\n",
       "</table>\n",
       "</div>"
      ]
     },
     "execution_count": 79,
     "metadata": {},
     "output_type": "execute_result"
    }
   ],
   "execution_count": 79
  },
  {
   "metadata": {
    "ExecuteTime": {
     "end_time": "2024-09-19T23:51:21.626997Z",
     "start_time": "2024-09-19T23:51:21.622984Z"
    }
   },
   "cell_type": "code",
   "source": "type(planned_df)",
   "id": "74733ffd23f33275",
   "outputs": [
    {
     "data": {
      "text/plain": [
       "pandas.core.frame.DataFrame"
      ]
     },
     "execution_count": 80,
     "metadata": {},
     "output_type": "execute_result"
    }
   ],
   "execution_count": 80
  },
  {
   "metadata": {
    "ExecuteTime": {
     "end_time": "2024-09-19T23:51:21.722670Z",
     "start_time": "2024-09-19T23:51:21.717760Z"
    }
   },
   "cell_type": "code",
   "source": [
    "import numpy as np\n",
    "planned_df['current_duration_percent'] = np.where(\n",
    "    planned_df['data_date_date'] < planned_df['planned_start_date'],\n",
    "    0,\n",
    "    planned_df['current_duration_percent']\n",
    ")\n",
    "\n",
    "planned_df['current_duration_percent'] = np.where(\n",
    "    planned_df['data_date_date'] > planned_df['target_end_date'],\n",
    "    planned_df['target_drtn_hr_cnt'],\n",
    "    planned_df['current_duration_percent']\n",
    ")"
   ],
   "id": "c2a13a9cad85c5c3",
   "outputs": [],
   "execution_count": 81
  },
  {
   "metadata": {
    "ExecuteTime": {
     "end_time": "2024-09-19T23:51:21.881278Z",
     "start_time": "2024-09-19T23:51:21.873104Z"
    }
   },
   "cell_type": "code",
   "source": "planned_df",
   "id": "96cbe5237290bfdb",
   "outputs": [
    {
     "data": {
      "text/plain": [
       "   task_id  proj_id  wbs_id  target_drtn_hr_cnt   target_start_date  \\\n",
       "0   313464     1474   84085                 100 2024-06-01 07:00:00   \n",
       "1   313465     1474   84085                 100 2024-06-01 07:00:00   \n",
       "2   313466     1474   84085                 100 2024-06-01 07:00:00   \n",
       "\n",
       "      target_end_date data_date_date data_date_time planned_start_date  \\\n",
       "0 2024-06-11 17:00:00     2024-06-05       17:00:00         2024-06-01   \n",
       "1 2024-06-11 17:00:00     2024-06-05       17:00:00         2024-06-01   \n",
       "2 2024-06-11 17:00:00     2024-06-05       17:00:00         2024-06-01   \n",
       "\n",
       "  planned_start_time planned_end_date planned_end_time  \\\n",
       "0           07:00:00       2024-06-11         17:00:00   \n",
       "1           07:00:00       2024-06-11         17:00:00   \n",
       "2           07:00:00       2024-06-11         17:00:00   \n",
       "\n",
       "   current_duration_percent  \n",
       "0                         0  \n",
       "1                         0  \n",
       "2                         0  "
      ],
      "text/html": [
       "<div>\n",
       "<style scoped>\n",
       "    .dataframe tbody tr th:only-of-type {\n",
       "        vertical-align: middle;\n",
       "    }\n",
       "\n",
       "    .dataframe tbody tr th {\n",
       "        vertical-align: top;\n",
       "    }\n",
       "\n",
       "    .dataframe thead th {\n",
       "        text-align: right;\n",
       "    }\n",
       "</style>\n",
       "<table border=\"1\" class=\"dataframe\">\n",
       "  <thead>\n",
       "    <tr style=\"text-align: right;\">\n",
       "      <th></th>\n",
       "      <th>task_id</th>\n",
       "      <th>proj_id</th>\n",
       "      <th>wbs_id</th>\n",
       "      <th>target_drtn_hr_cnt</th>\n",
       "      <th>target_start_date</th>\n",
       "      <th>target_end_date</th>\n",
       "      <th>data_date_date</th>\n",
       "      <th>data_date_time</th>\n",
       "      <th>planned_start_date</th>\n",
       "      <th>planned_start_time</th>\n",
       "      <th>planned_end_date</th>\n",
       "      <th>planned_end_time</th>\n",
       "      <th>current_duration_percent</th>\n",
       "    </tr>\n",
       "  </thead>\n",
       "  <tbody>\n",
       "    <tr>\n",
       "      <th>0</th>\n",
       "      <td>313464</td>\n",
       "      <td>1474</td>\n",
       "      <td>84085</td>\n",
       "      <td>100</td>\n",
       "      <td>2024-06-01 07:00:00</td>\n",
       "      <td>2024-06-11 17:00:00</td>\n",
       "      <td>2024-06-05</td>\n",
       "      <td>17:00:00</td>\n",
       "      <td>2024-06-01</td>\n",
       "      <td>07:00:00</td>\n",
       "      <td>2024-06-11</td>\n",
       "      <td>17:00:00</td>\n",
       "      <td>0</td>\n",
       "    </tr>\n",
       "    <tr>\n",
       "      <th>1</th>\n",
       "      <td>313465</td>\n",
       "      <td>1474</td>\n",
       "      <td>84085</td>\n",
       "      <td>100</td>\n",
       "      <td>2024-06-01 07:00:00</td>\n",
       "      <td>2024-06-11 17:00:00</td>\n",
       "      <td>2024-06-05</td>\n",
       "      <td>17:00:00</td>\n",
       "      <td>2024-06-01</td>\n",
       "      <td>07:00:00</td>\n",
       "      <td>2024-06-11</td>\n",
       "      <td>17:00:00</td>\n",
       "      <td>0</td>\n",
       "    </tr>\n",
       "    <tr>\n",
       "      <th>2</th>\n",
       "      <td>313466</td>\n",
       "      <td>1474</td>\n",
       "      <td>84085</td>\n",
       "      <td>100</td>\n",
       "      <td>2024-06-01 07:00:00</td>\n",
       "      <td>2024-06-11 17:00:00</td>\n",
       "      <td>2024-06-05</td>\n",
       "      <td>17:00:00</td>\n",
       "      <td>2024-06-01</td>\n",
       "      <td>07:00:00</td>\n",
       "      <td>2024-06-11</td>\n",
       "      <td>17:00:00</td>\n",
       "      <td>0</td>\n",
       "    </tr>\n",
       "  </tbody>\n",
       "</table>\n",
       "</div>"
      ]
     },
     "execution_count": 82,
     "metadata": {},
     "output_type": "execute_result"
    }
   ],
   "execution_count": 82
  },
  {
   "metadata": {
    "ExecuteTime": {
     "end_time": "2024-09-19T23:51:21.958277Z",
     "start_time": "2024-09-19T23:51:21.954089Z"
    }
   },
   "cell_type": "code",
   "source": "type(planned_df)",
   "id": "ea173a1c2d5610e",
   "outputs": [
    {
     "data": {
      "text/plain": [
       "pandas.core.frame.DataFrame"
      ]
     },
     "execution_count": 83,
     "metadata": {},
     "output_type": "execute_result"
    }
   ],
   "execution_count": 83
  },
  {
   "metadata": {
    "ExecuteTime": {
     "end_time": "2024-09-19T23:51:22.084722Z",
     "start_time": "2024-09-19T23:51:22.078958Z"
    }
   },
   "cell_type": "code",
   "source": [
    "# If 'data_date_date' equals 'planned_start_date' and 'data_date_time' is less than 'planned_start_time', \n",
    "# set 'current_duration_percent' to 0\n",
    "planned_df['current_duration_percent'] = np.where(\n",
    "    np.logical_and(planned_df['data_date_date'] == planned_df['planned_start_date'],\n",
    "                   planned_df['data_date_time'] < planned_df['planned_start_time']),\n",
    "    0,\n",
    "    planned_df['current_duration_percent']\n",
    ")\n",
    "\n",
    "# If 'data_date_date' equals 'planned_end_date' and 'data_date_time' is more than 'planned_end_time',\n",
    "# set 'current_duration_percent' to 'target_drtn_hr_cnt'\n",
    "planned_df['current_duration_percent'] = np.where(\n",
    "    np.logical_and(planned_df['data_date_date'] == planned_df['planned_end_date'],\n",
    "                   planned_df['data_date_time'] > planned_df['planned_end_time']),\n",
    "    planned_df['target_drtn_hr_cnt'],\n",
    "    planned_df['current_duration_percent']\n",
    ")"
   ],
   "id": "41707720d7463a8e",
   "outputs": [],
   "execution_count": 84
  },
  {
   "metadata": {
    "ExecuteTime": {
     "end_time": "2024-09-19T23:51:22.150324Z",
     "start_time": "2024-09-19T23:51:22.140577Z"
    }
   },
   "cell_type": "code",
   "source": "planned_df",
   "id": "248a7d97bc9aafd5",
   "outputs": [
    {
     "data": {
      "text/plain": [
       "   task_id  proj_id  wbs_id  target_drtn_hr_cnt   target_start_date  \\\n",
       "0   313464     1474   84085                 100 2024-06-01 07:00:00   \n",
       "1   313465     1474   84085                 100 2024-06-01 07:00:00   \n",
       "2   313466     1474   84085                 100 2024-06-01 07:00:00   \n",
       "\n",
       "      target_end_date data_date_date data_date_time planned_start_date  \\\n",
       "0 2024-06-11 17:00:00     2024-06-05       17:00:00         2024-06-01   \n",
       "1 2024-06-11 17:00:00     2024-06-05       17:00:00         2024-06-01   \n",
       "2 2024-06-11 17:00:00     2024-06-05       17:00:00         2024-06-01   \n",
       "\n",
       "  planned_start_time planned_end_date planned_end_time  \\\n",
       "0           07:00:00       2024-06-11         17:00:00   \n",
       "1           07:00:00       2024-06-11         17:00:00   \n",
       "2           07:00:00       2024-06-11         17:00:00   \n",
       "\n",
       "   current_duration_percent  \n",
       "0                         0  \n",
       "1                         0  \n",
       "2                         0  "
      ],
      "text/html": [
       "<div>\n",
       "<style scoped>\n",
       "    .dataframe tbody tr th:only-of-type {\n",
       "        vertical-align: middle;\n",
       "    }\n",
       "\n",
       "    .dataframe tbody tr th {\n",
       "        vertical-align: top;\n",
       "    }\n",
       "\n",
       "    .dataframe thead th {\n",
       "        text-align: right;\n",
       "    }\n",
       "</style>\n",
       "<table border=\"1\" class=\"dataframe\">\n",
       "  <thead>\n",
       "    <tr style=\"text-align: right;\">\n",
       "      <th></th>\n",
       "      <th>task_id</th>\n",
       "      <th>proj_id</th>\n",
       "      <th>wbs_id</th>\n",
       "      <th>target_drtn_hr_cnt</th>\n",
       "      <th>target_start_date</th>\n",
       "      <th>target_end_date</th>\n",
       "      <th>data_date_date</th>\n",
       "      <th>data_date_time</th>\n",
       "      <th>planned_start_date</th>\n",
       "      <th>planned_start_time</th>\n",
       "      <th>planned_end_date</th>\n",
       "      <th>planned_end_time</th>\n",
       "      <th>current_duration_percent</th>\n",
       "    </tr>\n",
       "  </thead>\n",
       "  <tbody>\n",
       "    <tr>\n",
       "      <th>0</th>\n",
       "      <td>313464</td>\n",
       "      <td>1474</td>\n",
       "      <td>84085</td>\n",
       "      <td>100</td>\n",
       "      <td>2024-06-01 07:00:00</td>\n",
       "      <td>2024-06-11 17:00:00</td>\n",
       "      <td>2024-06-05</td>\n",
       "      <td>17:00:00</td>\n",
       "      <td>2024-06-01</td>\n",
       "      <td>07:00:00</td>\n",
       "      <td>2024-06-11</td>\n",
       "      <td>17:00:00</td>\n",
       "      <td>0</td>\n",
       "    </tr>\n",
       "    <tr>\n",
       "      <th>1</th>\n",
       "      <td>313465</td>\n",
       "      <td>1474</td>\n",
       "      <td>84085</td>\n",
       "      <td>100</td>\n",
       "      <td>2024-06-01 07:00:00</td>\n",
       "      <td>2024-06-11 17:00:00</td>\n",
       "      <td>2024-06-05</td>\n",
       "      <td>17:00:00</td>\n",
       "      <td>2024-06-01</td>\n",
       "      <td>07:00:00</td>\n",
       "      <td>2024-06-11</td>\n",
       "      <td>17:00:00</td>\n",
       "      <td>0</td>\n",
       "    </tr>\n",
       "    <tr>\n",
       "      <th>2</th>\n",
       "      <td>313466</td>\n",
       "      <td>1474</td>\n",
       "      <td>84085</td>\n",
       "      <td>100</td>\n",
       "      <td>2024-06-01 07:00:00</td>\n",
       "      <td>2024-06-11 17:00:00</td>\n",
       "      <td>2024-06-05</td>\n",
       "      <td>17:00:00</td>\n",
       "      <td>2024-06-01</td>\n",
       "      <td>07:00:00</td>\n",
       "      <td>2024-06-11</td>\n",
       "      <td>17:00:00</td>\n",
       "      <td>0</td>\n",
       "    </tr>\n",
       "  </tbody>\n",
       "</table>\n",
       "</div>"
      ]
     },
     "execution_count": 85,
     "metadata": {},
     "output_type": "execute_result"
    }
   ],
   "execution_count": 85
  },
  {
   "metadata": {
    "ExecuteTime": {
     "end_time": "2024-09-19T23:51:22.268312Z",
     "start_time": "2024-09-19T23:51:22.263027Z"
    }
   },
   "cell_type": "code",
   "source": "type(planned_df)",
   "id": "f621fad91edb5b63",
   "outputs": [
    {
     "data": {
      "text/plain": [
       "pandas.core.frame.DataFrame"
      ]
     },
     "execution_count": 86,
     "metadata": {},
     "output_type": "execute_result"
    }
   ],
   "execution_count": 86
  },
  {
   "metadata": {
    "ExecuteTime": {
     "end_time": "2024-09-19T23:51:22.319496Z",
     "start_time": "2024-09-19T23:51:22.310238Z"
    }
   },
   "cell_type": "code",
   "source": [
    "# Convert 'data_date_time', 'planned_start_time', and 'EndingHour' to datetime.time format if they're not\n",
    "planned_df['data_date_time'] = pd.to_datetime(planned_df['data_date_time'], format='%H:%M:%S').dt.time\n",
    "planned_df['planned_start_time'] = pd.to_datetime(planned_df['planned_start_time'], format='%H:%M:%S').dt.time\n",
    "calendar_df['EndingHour'] = pd.to_datetime(calendar_df['EndingHour'], format='%I:%M %p').dt.time\n",
    "\n",
    "# Loop through every row in 'planned_df'\n",
    "for i in range(len(planned_df)):\n",
    "    # If 'data_date_date' equals to 'planned_start_date' and 'data_date_time' is greater than 'planned_start_time' and less than 'calendar_ending_hour'\n",
    "    if (planned_df.loc[i, 'data_date_date'] == planned_df.loc[i, 'planned_start_date']) and \\\n",
    "            (planned_df.loc[i, 'data_date_time'] > planned_df.loc[i, 'planned_start_time']) and \\\n",
    "            (planned_df.loc[i, 'data_date_time'] <\n",
    "             calendar_df[calendar_df['Date'].dt.date == planned_df.loc[i, 'data_date_date']]['EndingHour'].iloc[0]):\n",
    "        # Set 'current_duration_percent' to ('data_date_time' - 'planned_start_time').seconds / 3600\n",
    "        time_difference = datetime.datetime.combine(datetime.date.min,\n",
    "                                                    planned_df.loc[i, 'data_date_time']) - datetime.datetime.combine(\n",
    "            datetime.date.min, planned_df.loc[i, 'planned_start_time'])\n",
    "        planned_df.loc[i, 'current_duration_percent'] = time_difference.seconds / 3600"
   ],
   "id": "adea4c9b14a3c7e6",
   "outputs": [],
   "execution_count": 87
  },
  {
   "metadata": {
    "ExecuteTime": {
     "end_time": "2024-09-19T23:51:22.381116Z",
     "start_time": "2024-09-19T23:51:22.370365Z"
    }
   },
   "cell_type": "code",
   "source": "planned_df",
   "id": "f3f8fbabc81c701c",
   "outputs": [
    {
     "data": {
      "text/plain": [
       "   task_id  proj_id  wbs_id  target_drtn_hr_cnt   target_start_date  \\\n",
       "0   313464     1474   84085                 100 2024-06-01 07:00:00   \n",
       "1   313465     1474   84085                 100 2024-06-01 07:00:00   \n",
       "2   313466     1474   84085                 100 2024-06-01 07:00:00   \n",
       "\n",
       "      target_end_date data_date_date data_date_time planned_start_date  \\\n",
       "0 2024-06-11 17:00:00     2024-06-05       17:00:00         2024-06-01   \n",
       "1 2024-06-11 17:00:00     2024-06-05       17:00:00         2024-06-01   \n",
       "2 2024-06-11 17:00:00     2024-06-05       17:00:00         2024-06-01   \n",
       "\n",
       "  planned_start_time planned_end_date planned_end_time  \\\n",
       "0           07:00:00       2024-06-11         17:00:00   \n",
       "1           07:00:00       2024-06-11         17:00:00   \n",
       "2           07:00:00       2024-06-11         17:00:00   \n",
       "\n",
       "   current_duration_percent  \n",
       "0                         0  \n",
       "1                         0  \n",
       "2                         0  "
      ],
      "text/html": [
       "<div>\n",
       "<style scoped>\n",
       "    .dataframe tbody tr th:only-of-type {\n",
       "        vertical-align: middle;\n",
       "    }\n",
       "\n",
       "    .dataframe tbody tr th {\n",
       "        vertical-align: top;\n",
       "    }\n",
       "\n",
       "    .dataframe thead th {\n",
       "        text-align: right;\n",
       "    }\n",
       "</style>\n",
       "<table border=\"1\" class=\"dataframe\">\n",
       "  <thead>\n",
       "    <tr style=\"text-align: right;\">\n",
       "      <th></th>\n",
       "      <th>task_id</th>\n",
       "      <th>proj_id</th>\n",
       "      <th>wbs_id</th>\n",
       "      <th>target_drtn_hr_cnt</th>\n",
       "      <th>target_start_date</th>\n",
       "      <th>target_end_date</th>\n",
       "      <th>data_date_date</th>\n",
       "      <th>data_date_time</th>\n",
       "      <th>planned_start_date</th>\n",
       "      <th>planned_start_time</th>\n",
       "      <th>planned_end_date</th>\n",
       "      <th>planned_end_time</th>\n",
       "      <th>current_duration_percent</th>\n",
       "    </tr>\n",
       "  </thead>\n",
       "  <tbody>\n",
       "    <tr>\n",
       "      <th>0</th>\n",
       "      <td>313464</td>\n",
       "      <td>1474</td>\n",
       "      <td>84085</td>\n",
       "      <td>100</td>\n",
       "      <td>2024-06-01 07:00:00</td>\n",
       "      <td>2024-06-11 17:00:00</td>\n",
       "      <td>2024-06-05</td>\n",
       "      <td>17:00:00</td>\n",
       "      <td>2024-06-01</td>\n",
       "      <td>07:00:00</td>\n",
       "      <td>2024-06-11</td>\n",
       "      <td>17:00:00</td>\n",
       "      <td>0</td>\n",
       "    </tr>\n",
       "    <tr>\n",
       "      <th>1</th>\n",
       "      <td>313465</td>\n",
       "      <td>1474</td>\n",
       "      <td>84085</td>\n",
       "      <td>100</td>\n",
       "      <td>2024-06-01 07:00:00</td>\n",
       "      <td>2024-06-11 17:00:00</td>\n",
       "      <td>2024-06-05</td>\n",
       "      <td>17:00:00</td>\n",
       "      <td>2024-06-01</td>\n",
       "      <td>07:00:00</td>\n",
       "      <td>2024-06-11</td>\n",
       "      <td>17:00:00</td>\n",
       "      <td>0</td>\n",
       "    </tr>\n",
       "    <tr>\n",
       "      <th>2</th>\n",
       "      <td>313466</td>\n",
       "      <td>1474</td>\n",
       "      <td>84085</td>\n",
       "      <td>100</td>\n",
       "      <td>2024-06-01 07:00:00</td>\n",
       "      <td>2024-06-11 17:00:00</td>\n",
       "      <td>2024-06-05</td>\n",
       "      <td>17:00:00</td>\n",
       "      <td>2024-06-01</td>\n",
       "      <td>07:00:00</td>\n",
       "      <td>2024-06-11</td>\n",
       "      <td>17:00:00</td>\n",
       "      <td>0</td>\n",
       "    </tr>\n",
       "  </tbody>\n",
       "</table>\n",
       "</div>"
      ]
     },
     "execution_count": 88,
     "metadata": {},
     "output_type": "execute_result"
    }
   ],
   "execution_count": 88
  },
  {
   "metadata": {},
   "cell_type": "code",
   "source": "",
   "id": "7075ceba7260b812",
   "outputs": [],
   "execution_count": null
  },
  {
   "metadata": {},
   "cell_type": "code",
   "source": "",
   "id": "ac5af3300b6f647a",
   "outputs": [],
   "execution_count": null
  },
  {
   "metadata": {},
   "cell_type": "code",
   "source": "",
   "id": "2683c5af87ca3334",
   "outputs": [],
   "execution_count": null
  },
  {
   "metadata": {},
   "cell_type": "code",
   "source": "",
   "id": "e642cb8cf6eb6c1c",
   "outputs": [],
   "execution_count": null
  },
  {
   "metadata": {},
   "cell_type": "code",
   "source": "",
   "id": "e302754aa28dd85",
   "outputs": [],
   "execution_count": null
  },
  {
   "metadata": {},
   "cell_type": "code",
   "source": "",
   "id": "6b0e7816ca25762c",
   "outputs": [],
   "execution_count": null
  },
  {
   "metadata": {},
   "cell_type": "code",
   "source": "",
   "id": "bad1aa741e179afc",
   "outputs": [],
   "execution_count": null
  },
  {
   "metadata": {},
   "cell_type": "code",
   "source": "",
   "id": "e9e77a67abb4e81e",
   "outputs": [],
   "execution_count": null
  },
  {
   "metadata": {},
   "cell_type": "code",
   "source": "task_calculation_df",
   "id": "a57d8b9885455a87",
   "outputs": [],
   "execution_count": null
  },
  {
   "metadata": {},
   "cell_type": "code",
   "source": [
    "# Assuming Task_Calculation_df is your DataFrame\n",
    "task_calculation_path = 'Task_Calculation.xlsx'  # you may want to include full path here\n",
    "with pd.ExcelWriter(task_calculation_path, engine='openpyxl') as writer:\n",
    "    task_calculation_df.to_excel(writer, sheet_name='Task_Calculation', index=False)"
   ],
   "id": "9108697bf3a39f8e",
   "outputs": [],
   "execution_count": null
  }
 ],
 "metadata": {
  "kernelspec": {
   "display_name": "Python 3",
   "language": "python",
   "name": "python3"
  },
  "language_info": {
   "codemirror_mode": {
    "name": "ipython",
    "version": 2
   },
   "file_extension": ".py",
   "mimetype": "text/x-python",
   "name": "python",
   "nbconvert_exporter": "python",
   "pygments_lexer": "ipython2",
   "version": "2.7.6"
  }
 },
 "nbformat": 4,
 "nbformat_minor": 5
}
