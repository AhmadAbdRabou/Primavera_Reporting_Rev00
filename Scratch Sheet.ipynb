{
 "cells": [
  {
   "cell_type": "code",
   "execution_count": 135,
   "id": "initial_id",
   "metadata": {
    "collapsed": true,
    "ExecuteTime": {
     "end_time": "2024-08-03T11:11:41.298024400Z",
     "start_time": "2024-08-03T11:11:41.284543100Z"
    }
   },
   "outputs": [],
   "source": [
    "# Collect desired calendar properties from initial input\n",
    "# 1- access data source\n",
    "# 2- creat calendar structure for each calendar\n",
    "# 3- Fill structure with calendar properties and calendar data\n",
    "# 4- Process calendar data"
   ]
  },
  {
   "cell_type": "code",
   "outputs": [],
   "source": [
    "import pandas as pd\n",
    "pd.set_option('display.max_columns', None)\n",
    "pd.set_option('display.max_rows', None)"
   ],
   "metadata": {
    "collapsed": false,
    "ExecuteTime": {
     "end_time": "2024-08-03T11:11:41.408912600Z",
     "start_time": "2024-08-03T11:11:41.300017100Z"
    }
   },
   "id": "79cdfbd997fe0777",
   "execution_count": 136
  },
  {
   "cell_type": "code",
   "outputs": [],
   "source": [
    "# specify the file path, you might need to adjust this\n",
    "file_path = \"TST00.xlsx\"\n",
    "# Load the calendar data into a DataFrame\n",
    "calendar_df = pd.read_excel(file_path, sheet_name='CALENDAR')\n",
    "# Load a sheet into a dataframe by its name\n",
    "project_df = pd.read_excel(file_path, sheet_name='PROJECT')"
   ],
   "metadata": {
    "collapsed": false,
    "ExecuteTime": {
     "end_time": "2024-08-03T11:11:41.523431400Z",
     "start_time": "2024-08-03T11:11:41.400784100Z"
    }
   },
   "id": "c741cfe4ab85eb27",
   "execution_count": 137
  },
  {
   "cell_type": "code",
   "outputs": [
    {
     "data": {
      "text/plain": "   %F  clndr_id default_flag                    clndr_name  proj_id  \\\n0  %R       993            Y  NOMA02 GLOBAL CALENDAR REV00      NaN   \n\n   base_clndr_id    last_chng_date clndr_type  day_hr_cnt  week_hr_cnt  \\\n0            NaN  2024-01-04 00:00    CA_Base          10           60   \n\n   month_hr_cnt  year_hr_cnt rsrc_private  \\\n0           260         3030            N   \n\n                                          clndr_data  \n0  (0||CalendarData()(  (0||DaysOfWeek()(    ...  ",
      "text/html": "<div>\n<style scoped>\n    .dataframe tbody tr th:only-of-type {\n        vertical-align: middle;\n    }\n\n    .dataframe tbody tr th {\n        vertical-align: top;\n    }\n\n    .dataframe thead th {\n        text-align: right;\n    }\n</style>\n<table border=\"1\" class=\"dataframe\">\n  <thead>\n    <tr style=\"text-align: right;\">\n      <th></th>\n      <th>%F</th>\n      <th>clndr_id</th>\n      <th>default_flag</th>\n      <th>clndr_name</th>\n      <th>proj_id</th>\n      <th>base_clndr_id</th>\n      <th>last_chng_date</th>\n      <th>clndr_type</th>\n      <th>day_hr_cnt</th>\n      <th>week_hr_cnt</th>\n      <th>month_hr_cnt</th>\n      <th>year_hr_cnt</th>\n      <th>rsrc_private</th>\n      <th>clndr_data</th>\n    </tr>\n  </thead>\n  <tbody>\n    <tr>\n      <th>0</th>\n      <td>%R</td>\n      <td>993</td>\n      <td>Y</td>\n      <td>NOMA02 GLOBAL CALENDAR REV00</td>\n      <td>NaN</td>\n      <td>NaN</td>\n      <td>2024-01-04 00:00</td>\n      <td>CA_Base</td>\n      <td>10</td>\n      <td>60</td>\n      <td>260</td>\n      <td>3030</td>\n      <td>N</td>\n      <td>(0||CalendarData()(  (0||DaysOfWeek()(    ...</td>\n    </tr>\n  </tbody>\n</table>\n</div>"
     },
     "execution_count": 138,
     "metadata": {},
     "output_type": "execute_result"
    }
   ],
   "source": [
    "calendar_df"
   ],
   "metadata": {
    "collapsed": false,
    "ExecuteTime": {
     "end_time": "2024-08-03T11:11:41.623042500Z",
     "start_time": "2024-08-03T11:11:41.524429Z"
    }
   },
   "id": "fa8e3a47aa3a4750",
   "execution_count": 138
  },
  {
   "cell_type": "code",
   "outputs": [
    {
     "data": {
      "text/plain": "'%R'"
     },
     "execution_count": 139,
     "metadata": {},
     "output_type": "execute_result"
    }
   ],
   "source": [
    "calendar_struct = calendar_df.iloc[0].to_dict()\n",
    "# get first key\n",
    "first_key = next(iter(calendar_struct))\n",
    "\n",
    "# delete first key-value pair\n",
    "calendar_struct.pop(first_key)"
   ],
   "metadata": {
    "collapsed": false,
    "ExecuteTime": {
     "end_time": "2024-08-03T11:11:41.798901700Z",
     "start_time": "2024-08-03T11:11:41.621043500Z"
    }
   },
   "id": "90f5c7f189e6d5a0",
   "execution_count": 139
  },
  {
   "cell_type": "code",
   "outputs": [
    {
     "data": {
      "text/plain": "{'clndr_id': 993,\n 'default_flag': 'Y',\n 'clndr_name': 'NOMA02 GLOBAL CALENDAR REV00',\n 'proj_id': nan,\n 'base_clndr_id': nan,\n 'last_chng_date': '2024-01-04 00:00',\n 'clndr_type': 'CA_Base',\n 'day_hr_cnt': 10,\n 'week_hr_cnt': 60,\n 'month_hr_cnt': 260,\n 'year_hr_cnt': 3030,\n 'rsrc_private': 'N',\n 'clndr_data': '(0||CalendarData()(\\x7f\\x7f  (0||DaysOfWeek()(\\x7f\\x7f    (0||1()(\\x7f\\x7f      (0||0(s|07:00|f|17:00)())))\\x7f\\x7f    (0||2()(\\x7f\\x7f      (0||0(s|07:00|f|17:00)())))\\x7f\\x7f    (0||3()(\\x7f\\x7f      (0||0(s|07:00|f|17:00)())))\\x7f\\x7f    (0||4()(\\x7f\\x7f      (0||0(s|07:00|f|17:00)())))\\x7f\\x7f    (0||5()(\\x7f\\x7f      (0||0(s|07:00|f|17:00)())))\\x7f\\x7f    (0||6()())\\x7f\\x7f    (0||7()(\\x7f\\x7f      (0||0(s|07:00|f|17:00)())))))\\x7f\\x7f  (0||VIEW(ShowTotal|Y)())\\x7f\\x7f  (0||Exceptions()(\\x7f\\x7f    (0||0(d|44197)(\\x7f\\x7f      (0||0(s|08:00|f|16:00)())))\\x7f\\x7f    (0||1(d|44979)())\\x7f\\x7f    (0||2(d|45038)())\\x7f\\x7f    (0||3(d|45039)())\\x7f\\x7f    (0||4(d|45040)())\\x7f\\x7f    (0||5(d|45041)())\\x7f\\x7f    (0||6(d|45104)())\\x7f\\x7f    (0||7(d|45105)())\\x7f\\x7f    (0||8(d|45106)())\\x7f\\x7f    (0||9(d|45108)())\\x7f\\x7f    (0||10(d|45192)())\\x7f\\x7f    (0||11(d|45344)())\\x7f\\x7f    (0||12(d|45391)())\\x7f\\x7f    (0||13(d|45392)())\\x7f\\x7f    (0||14(d|45393)())\\x7f\\x7f    (0||15(d|45395)())\\x7f\\x7f    (0||16(d|45458)())\\x7f\\x7f    (0||17(d|45459)())\\x7f\\x7f    (0||18(d|45460)())\\x7f\\x7f    (0||19(d|45461)())\\x7f\\x7f    (0||20(d|45558)())\\x7f\\x7f    (0||21(d|45679)())\\x7f\\x7f    (0||22(d|45710)())\\x7f\\x7f    (0||23(d|45746)())\\x7f\\x7f    (0||24(d|45747)())\\x7f\\x7f    (0||25(d|45748)())\\x7f\\x7f    (0||26(d|45749)())\\x7f\\x7f    (0||27(d|45813)())\\x7f\\x7f    (0||28(d|45815)())\\x7f\\x7f    (0||29(d|45816)())\\x7f\\x7f    (0||30(d|45817)())\\x7f\\x7f    (0||31(d|45923)())\\x7f\\x7f    (0||32(d|46075)())\\x7f\\x7f    (0||33(d|46100)())\\x7f\\x7f    (0||34(d|46102)())\\x7f\\x7f    (0||35(d|46103)())\\x7f\\x7f    (0||36(d|46104)())\\x7f\\x7f    (0||37(d|46168)())\\x7f\\x7f    (0||38(d|46169)())\\x7f\\x7f    (0||39(d|46170)())\\x7f\\x7f    (0||40(d|46172)())\\x7f\\x7f    (0||41(d|46173)())\\x7f\\x7f    (0||42(d|46213)(\\x7f\\x7f      (0||0(s|07:00|f|17:00)())))\\x7f\\x7f    (0||43(d|46288)())\\x7f\\x7f    (0||44(d|46440)())\\x7f\\x7f    (0||45(d|46456)())\\x7f\\x7f    (0||46(d|46457)())\\x7f\\x7f    (0||47(d|46459)())\\x7f\\x7f    (0||48(d|46460)())\\x7f\\x7f    (0||49(d|46524)())\\x7f\\x7f    (0||50(d|46525)())\\x7f\\x7f    (0||51(d|46526)())\\x7f\\x7f    (0||52(d|46527)())\\x7f\\x7f    (0||53(d|46653)())))))'}"
     },
     "execution_count": 140,
     "metadata": {},
     "output_type": "execute_result"
    }
   ],
   "source": [
    "calendar_struct"
   ],
   "metadata": {
    "collapsed": false,
    "ExecuteTime": {
     "end_time": "2024-08-03T11:11:41.916813700Z",
     "start_time": "2024-08-03T11:11:41.766993200Z"
    }
   },
   "id": "7620269130cabc08",
   "execution_count": 140
  },
  {
   "cell_type": "code",
   "outputs": [],
   "source": [
    "# Assuming 'clndr_data' is a column in 'calendar_df'\n",
    "clndr_data_split = calendar_df['clndr_data'].str.split('\\\\(0\\\\|\\\\|', expand=True).stack()\n",
    "\n",
    "# Create new dataframe with each output of split operation as a new row\n",
    "cal_data_df = pd.DataFrame(clndr_data_split, columns=['Data'])\n",
    "\n",
    "# Reset the index\n",
    "cal_data_df = cal_data_df.reset_index(drop=True)"
   ],
   "metadata": {
    "collapsed": false,
    "ExecuteTime": {
     "end_time": "2024-08-03T11:11:42.055565800Z",
     "start_time": "2024-08-03T11:11:41.917810200Z"
    }
   },
   "id": "a1dc62ca3de6c20d",
   "execution_count": 141
  },
  {
   "cell_type": "code",
   "outputs": [
    {
     "data": {
      "text/plain": "                             Data\n0                                \n1             CalendarData()(  \n2             DaysOfWeek()(    \n3                    1()(      \n4   0(s|07:00|f|17:00)())))    \n5                    2()(      \n6   0(s|07:00|f|17:00)())))    \n7                    3()(      \n8   0(s|07:00|f|17:00)())))    \n9                    4()(      \n10  0(s|07:00|f|17:00)())))    \n11                   5()(      \n12  0(s|07:00|f|17:00)())))    \n13                   6()())    \n14                   7()(      \n15  0(s|07:00|f|17:00)())))))  \n16       VIEW(ShowTotal|Y)())  \n17            Exceptions()(    \n18            0(d|44197)(      \n19  0(s|08:00|f|16:00)())))    \n20            1(d|44979)())    \n21            2(d|45038)())    \n22            3(d|45039)())    \n23            4(d|45040)())    \n24            5(d|45041)())    \n25            6(d|45104)())    \n26            7(d|45105)())    \n27            8(d|45106)())    \n28            9(d|45108)())    \n29           10(d|45192)())    \n30           11(d|45344)())    \n31           12(d|45391)())    \n32           13(d|45392)())    \n33           14(d|45393)())    \n34           15(d|45395)())    \n35           16(d|45458)())    \n36           17(d|45459)())    \n37           18(d|45460)())    \n38           19(d|45461)())    \n39           20(d|45558)())    \n40           21(d|45679)())    \n41           22(d|45710)())    \n42           23(d|45746)())    \n43           24(d|45747)())    \n44           25(d|45748)())    \n45           26(d|45749)())    \n46           27(d|45813)())    \n47           28(d|45815)())    \n48           29(d|45816)())    \n49           30(d|45817)())    \n50           31(d|45923)())    \n51           32(d|46075)())    \n52           33(d|46100)())    \n53           34(d|46102)())    \n54           35(d|46103)())    \n55           36(d|46104)())    \n56           37(d|46168)())    \n57           38(d|46169)())    \n58           39(d|46170)())    \n59           40(d|46172)())    \n60           41(d|46173)())    \n61           42(d|46213)(      \n62  0(s|07:00|f|17:00)())))    \n63           43(d|46288)())    \n64           44(d|46440)())    \n65           45(d|46456)())    \n66           46(d|46457)())    \n67           47(d|46459)())    \n68           48(d|46460)())    \n69           49(d|46524)())    \n70           50(d|46525)())    \n71           51(d|46526)())    \n72           52(d|46527)())    \n73             53(d|46653)())))))",
      "text/html": "<div>\n<style scoped>\n    .dataframe tbody tr th:only-of-type {\n        vertical-align: middle;\n    }\n\n    .dataframe tbody tr th {\n        vertical-align: top;\n    }\n\n    .dataframe thead th {\n        text-align: right;\n    }\n</style>\n<table border=\"1\" class=\"dataframe\">\n  <thead>\n    <tr style=\"text-align: right;\">\n      <th></th>\n      <th>Data</th>\n    </tr>\n  </thead>\n  <tbody>\n    <tr>\n      <th>0</th>\n      <td></td>\n    </tr>\n    <tr>\n      <th>1</th>\n      <td>CalendarData()(</td>\n    </tr>\n    <tr>\n      <th>2</th>\n      <td>DaysOfWeek()(</td>\n    </tr>\n    <tr>\n      <th>3</th>\n      <td>1()(</td>\n    </tr>\n    <tr>\n      <th>4</th>\n      <td>0(s|07:00|f|17:00)())))</td>\n    </tr>\n    <tr>\n      <th>5</th>\n      <td>2()(</td>\n    </tr>\n    <tr>\n      <th>6</th>\n      <td>0(s|07:00|f|17:00)())))</td>\n    </tr>\n    <tr>\n      <th>7</th>\n      <td>3()(</td>\n    </tr>\n    <tr>\n      <th>8</th>\n      <td>0(s|07:00|f|17:00)())))</td>\n    </tr>\n    <tr>\n      <th>9</th>\n      <td>4()(</td>\n    </tr>\n    <tr>\n      <th>10</th>\n      <td>0(s|07:00|f|17:00)())))</td>\n    </tr>\n    <tr>\n      <th>11</th>\n      <td>5()(</td>\n    </tr>\n    <tr>\n      <th>12</th>\n      <td>0(s|07:00|f|17:00)())))</td>\n    </tr>\n    <tr>\n      <th>13</th>\n      <td>6()())</td>\n    </tr>\n    <tr>\n      <th>14</th>\n      <td>7()(</td>\n    </tr>\n    <tr>\n      <th>15</th>\n      <td>0(s|07:00|f|17:00)())))))</td>\n    </tr>\n    <tr>\n      <th>16</th>\n      <td>VIEW(ShowTotal|Y)())</td>\n    </tr>\n    <tr>\n      <th>17</th>\n      <td>Exceptions()(</td>\n    </tr>\n    <tr>\n      <th>18</th>\n      <td>0(d|44197)(</td>\n    </tr>\n    <tr>\n      <th>19</th>\n      <td>0(s|08:00|f|16:00)())))</td>\n    </tr>\n    <tr>\n      <th>20</th>\n      <td>1(d|44979)())</td>\n    </tr>\n    <tr>\n      <th>21</th>\n      <td>2(d|45038)())</td>\n    </tr>\n    <tr>\n      <th>22</th>\n      <td>3(d|45039)())</td>\n    </tr>\n    <tr>\n      <th>23</th>\n      <td>4(d|45040)())</td>\n    </tr>\n    <tr>\n      <th>24</th>\n      <td>5(d|45041)())</td>\n    </tr>\n    <tr>\n      <th>25</th>\n      <td>6(d|45104)())</td>\n    </tr>\n    <tr>\n      <th>26</th>\n      <td>7(d|45105)())</td>\n    </tr>\n    <tr>\n      <th>27</th>\n      <td>8(d|45106)())</td>\n    </tr>\n    <tr>\n      <th>28</th>\n      <td>9(d|45108)())</td>\n    </tr>\n    <tr>\n      <th>29</th>\n      <td>10(d|45192)())</td>\n    </tr>\n    <tr>\n      <th>30</th>\n      <td>11(d|45344)())</td>\n    </tr>\n    <tr>\n      <th>31</th>\n      <td>12(d|45391)())</td>\n    </tr>\n    <tr>\n      <th>32</th>\n      <td>13(d|45392)())</td>\n    </tr>\n    <tr>\n      <th>33</th>\n      <td>14(d|45393)())</td>\n    </tr>\n    <tr>\n      <th>34</th>\n      <td>15(d|45395)())</td>\n    </tr>\n    <tr>\n      <th>35</th>\n      <td>16(d|45458)())</td>\n    </tr>\n    <tr>\n      <th>36</th>\n      <td>17(d|45459)())</td>\n    </tr>\n    <tr>\n      <th>37</th>\n      <td>18(d|45460)())</td>\n    </tr>\n    <tr>\n      <th>38</th>\n      <td>19(d|45461)())</td>\n    </tr>\n    <tr>\n      <th>39</th>\n      <td>20(d|45558)())</td>\n    </tr>\n    <tr>\n      <th>40</th>\n      <td>21(d|45679)())</td>\n    </tr>\n    <tr>\n      <th>41</th>\n      <td>22(d|45710)())</td>\n    </tr>\n    <tr>\n      <th>42</th>\n      <td>23(d|45746)())</td>\n    </tr>\n    <tr>\n      <th>43</th>\n      <td>24(d|45747)())</td>\n    </tr>\n    <tr>\n      <th>44</th>\n      <td>25(d|45748)())</td>\n    </tr>\n    <tr>\n      <th>45</th>\n      <td>26(d|45749)())</td>\n    </tr>\n    <tr>\n      <th>46</th>\n      <td>27(d|45813)())</td>\n    </tr>\n    <tr>\n      <th>47</th>\n      <td>28(d|45815)())</td>\n    </tr>\n    <tr>\n      <th>48</th>\n      <td>29(d|45816)())</td>\n    </tr>\n    <tr>\n      <th>49</th>\n      <td>30(d|45817)())</td>\n    </tr>\n    <tr>\n      <th>50</th>\n      <td>31(d|45923)())</td>\n    </tr>\n    <tr>\n      <th>51</th>\n      <td>32(d|46075)())</td>\n    </tr>\n    <tr>\n      <th>52</th>\n      <td>33(d|46100)())</td>\n    </tr>\n    <tr>\n      <th>53</th>\n      <td>34(d|46102)())</td>\n    </tr>\n    <tr>\n      <th>54</th>\n      <td>35(d|46103)())</td>\n    </tr>\n    <tr>\n      <th>55</th>\n      <td>36(d|46104)())</td>\n    </tr>\n    <tr>\n      <th>56</th>\n      <td>37(d|46168)())</td>\n    </tr>\n    <tr>\n      <th>57</th>\n      <td>38(d|46169)())</td>\n    </tr>\n    <tr>\n      <th>58</th>\n      <td>39(d|46170)())</td>\n    </tr>\n    <tr>\n      <th>59</th>\n      <td>40(d|46172)())</td>\n    </tr>\n    <tr>\n      <th>60</th>\n      <td>41(d|46173)())</td>\n    </tr>\n    <tr>\n      <th>61</th>\n      <td>42(d|46213)(</td>\n    </tr>\n    <tr>\n      <th>62</th>\n      <td>0(s|07:00|f|17:00)())))</td>\n    </tr>\n    <tr>\n      <th>63</th>\n      <td>43(d|46288)())</td>\n    </tr>\n    <tr>\n      <th>64</th>\n      <td>44(d|46440)())</td>\n    </tr>\n    <tr>\n      <th>65</th>\n      <td>45(d|46456)())</td>\n    </tr>\n    <tr>\n      <th>66</th>\n      <td>46(d|46457)())</td>\n    </tr>\n    <tr>\n      <th>67</th>\n      <td>47(d|46459)())</td>\n    </tr>\n    <tr>\n      <th>68</th>\n      <td>48(d|46460)())</td>\n    </tr>\n    <tr>\n      <th>69</th>\n      <td>49(d|46524)())</td>\n    </tr>\n    <tr>\n      <th>70</th>\n      <td>50(d|46525)())</td>\n    </tr>\n    <tr>\n      <th>71</th>\n      <td>51(d|46526)())</td>\n    </tr>\n    <tr>\n      <th>72</th>\n      <td>52(d|46527)())</td>\n    </tr>\n    <tr>\n      <th>73</th>\n      <td>53(d|46653)())))))</td>\n    </tr>\n  </tbody>\n</table>\n</div>"
     },
     "execution_count": 142,
     "metadata": {},
     "output_type": "execute_result"
    }
   ],
   "source": [
    "cal_data_df"
   ],
   "metadata": {
    "collapsed": false,
    "ExecuteTime": {
     "end_time": "2024-08-03T11:11:42.184370Z",
     "start_time": "2024-08-03T11:11:42.055565800Z"
    }
   },
   "id": "7c0b2b5b263c2631",
   "execution_count": 142
  },
  {
   "cell_type": "code",
   "outputs": [],
   "source": [
    "start_index = cal_data_df[cal_data_df['Data'].str.contains('DaysOfWeek')].index[0]\n",
    "end_index = cal_data_df[cal_data_df['Data'].str.contains('VIEW')].index[0]\n",
    "\n",
    "# Create a new DataFrame by selecting rows between \"DaysOfWeek\" and \"VIEW\"\n",
    "DaysOfWeek_df = cal_data_df.loc[start_index + 1: end_index - 1]"
   ],
   "metadata": {
    "collapsed": false,
    "ExecuteTime": {
     "end_time": "2024-08-03T11:11:42.370388200Z",
     "start_time": "2024-08-03T11:11:42.184370Z"
    }
   },
   "id": "348781a4ac99fcdc",
   "execution_count": 143
  },
  {
   "cell_type": "code",
   "outputs": [],
   "source": [
    "# Initialize a list to hold the data\n",
    "WeekDays_data = []\n",
    "\n",
    "# Iterate over rows in DaysOfWeek_df\n",
    "for i in range(len(DaysOfWeek_df['Data'])):\n",
    "\n",
    "    if DaysOfWeek_df['Data'].iloc[i][0] != '0':\n",
    "        # Add new entry and mark it as the current entry\n",
    "        current_entry = [DaysOfWeek_df['Data'].iloc[i][0], '0', '0']\n",
    "        WeekDays_data.append(current_entry)\n",
    "\n",
    "    elif 's' in DaysOfWeek_df['Data'].iloc[i] and 'f' in DaysOfWeek_df['Data'].iloc[i]:\n",
    "        # Modify 'StartingHour' and 'EndingHour' of current entry\n",
    "        start_s = DaysOfWeek_df['Data'].iloc[i].index('s') + 2\n",
    "        start_f = DaysOfWeek_df['Data'].iloc[i].index('f') + 2\n",
    "        current_entry[1] = DaysOfWeek_df['Data'].iloc[i][start_s: start_s + 5]\n",
    "        current_entry[2] = DaysOfWeek_df['Data'].iloc[i][start_f: start_f + 5]\n",
    "\n",
    "# Create DataFrame\n",
    "WeekDays = pd.DataFrame(WeekDays_data, columns=['DayNumber', 'StartingHour', 'EndingHour'])"
   ],
   "metadata": {
    "collapsed": false,
    "ExecuteTime": {
     "end_time": "2024-08-03T11:11:42.450225500Z",
     "start_time": "2024-08-03T11:11:42.350441200Z"
    }
   },
   "id": "b2bfa2e4a5d9e2c5",
   "execution_count": 144
  },
  {
   "cell_type": "code",
   "outputs": [
    {
     "data": {
      "text/plain": "  DayNumber StartingHour EndingHour\n0         1        07:00      17:00\n1         2        07:00      17:00\n2         3        07:00      17:00\n3         4        07:00      17:00\n4         5        07:00      17:00\n5         6            0          0\n6         7        07:00      17:00",
      "text/html": "<div>\n<style scoped>\n    .dataframe tbody tr th:only-of-type {\n        vertical-align: middle;\n    }\n\n    .dataframe tbody tr th {\n        vertical-align: top;\n    }\n\n    .dataframe thead th {\n        text-align: right;\n    }\n</style>\n<table border=\"1\" class=\"dataframe\">\n  <thead>\n    <tr style=\"text-align: right;\">\n      <th></th>\n      <th>DayNumber</th>\n      <th>StartingHour</th>\n      <th>EndingHour</th>\n    </tr>\n  </thead>\n  <tbody>\n    <tr>\n      <th>0</th>\n      <td>1</td>\n      <td>07:00</td>\n      <td>17:00</td>\n    </tr>\n    <tr>\n      <th>1</th>\n      <td>2</td>\n      <td>07:00</td>\n      <td>17:00</td>\n    </tr>\n    <tr>\n      <th>2</th>\n      <td>3</td>\n      <td>07:00</td>\n      <td>17:00</td>\n    </tr>\n    <tr>\n      <th>3</th>\n      <td>4</td>\n      <td>07:00</td>\n      <td>17:00</td>\n    </tr>\n    <tr>\n      <th>4</th>\n      <td>5</td>\n      <td>07:00</td>\n      <td>17:00</td>\n    </tr>\n    <tr>\n      <th>5</th>\n      <td>6</td>\n      <td>0</td>\n      <td>0</td>\n    </tr>\n    <tr>\n      <th>6</th>\n      <td>7</td>\n      <td>07:00</td>\n      <td>17:00</td>\n    </tr>\n  </tbody>\n</table>\n</div>"
     },
     "execution_count": 145,
     "metadata": {},
     "output_type": "execute_result"
    }
   ],
   "source": [
    "WeekDays"
   ],
   "metadata": {
    "collapsed": false,
    "ExecuteTime": {
     "end_time": "2024-08-03T11:11:42.535342800Z",
     "start_time": "2024-08-03T11:11:42.452219800Z"
    }
   },
   "id": "9de91167e359bcb",
   "execution_count": 145
  },
  {
   "cell_type": "code",
   "outputs": [],
   "source": [
    "# Get index of row containing 'Exceptions' in 'Data' column\n",
    "exceptions_index = cal_data_df[cal_data_df['Data'].str.contains('Exceptions')].index[0]\n",
    "\n",
    "# Select all rows after that index\n",
    "exceptions_df = cal_data_df.iloc[exceptions_index + 1:]"
   ],
   "metadata": {
    "collapsed": false,
    "ExecuteTime": {
     "end_time": "2024-08-03T11:11:42.626191900Z",
     "start_time": "2024-08-03T11:11:42.536340Z"
    }
   },
   "id": "5bc654700de1598",
   "execution_count": 146
  },
  {
   "cell_type": "code",
   "outputs": [],
   "source": [
    "# Initialize a list to hold the data\n",
    "Exceptions_data = []\n",
    "\n",
    "# Iterate over rows in exceptions_df\n",
    "for i in range(len(exceptions_df['Data'])):\n",
    "\n",
    "    if 'd' in exceptions_df['Data'].iloc[i]:\n",
    "        # Add new entry and mark it as the current entry\n",
    "        idx = exceptions_df['Data'].iloc[i].index('d')\n",
    "        current_entry = [exceptions_df['Data'].iloc[i][idx + 2:idx + 7], '0', '0']\n",
    "        Exceptions_data.append(current_entry)\n",
    "\n",
    "        # If next row contains 's' and 'f', modify 'StartingHour' and 'EndingHour' of current entry\n",
    "        if i < len(exceptions_df['Data']) - 1 and 's' in exceptions_df['Data'].iloc[i + 1] and 'f' in \\\n",
    "                exceptions_df['Data'].iloc[i + 1]:\n",
    "            start_s = exceptions_df['Data'].iloc[i + 1].index('s') + 2\n",
    "            start_f = exceptions_df['Data'].iloc[i + 1].index('f') + 2\n",
    "            current_entry[1] = exceptions_df['Data'].iloc[i + 1][start_s: start_s + 5]\n",
    "            current_entry[2] = exceptions_df['Data'].iloc[i + 1][start_f: start_f + 5]\n",
    "\n",
    "# Create DataFrame\n",
    "Exceptions = pd.DataFrame(Exceptions_data, columns=['DayNumber', 'StartingHour', 'EndingHour'])"
   ],
   "metadata": {
    "collapsed": false,
    "ExecuteTime": {
     "end_time": "2024-08-03T11:11:42.709971600Z",
     "start_time": "2024-08-03T11:11:42.611231800Z"
    }
   },
   "id": "99b050f0d6ec349",
   "execution_count": 147
  },
  {
   "cell_type": "code",
   "outputs": [
    {
     "data": {
      "text/plain": "   DayNumber StartingHour EndingHour\n0      44197        08:00      16:00\n1      44979            0          0\n2      45038            0          0\n3      45039            0          0\n4      45040            0          0\n5      45041            0          0\n6      45104            0          0\n7      45105            0          0\n8      45106            0          0\n9      45108            0          0\n10     45192            0          0\n11     45344            0          0\n12     45391            0          0\n13     45392            0          0\n14     45393            0          0\n15     45395            0          0\n16     45458            0          0\n17     45459            0          0\n18     45460            0          0\n19     45461            0          0\n20     45558            0          0\n21     45679            0          0\n22     45710            0          0\n23     45746            0          0\n24     45747            0          0\n25     45748            0          0\n26     45749            0          0\n27     45813            0          0\n28     45815            0          0\n29     45816            0          0\n30     45817            0          0\n31     45923            0          0\n32     46075            0          0\n33     46100            0          0\n34     46102            0          0\n35     46103            0          0\n36     46104            0          0\n37     46168            0          0\n38     46169            0          0\n39     46170            0          0\n40     46172            0          0\n41     46173            0          0\n42     46213        07:00      17:00\n43     46288            0          0\n44     46440            0          0\n45     46456            0          0\n46     46457            0          0\n47     46459            0          0\n48     46460            0          0\n49     46524            0          0\n50     46525            0          0\n51     46526            0          0\n52     46527            0          0\n53     46653            0          0",
      "text/html": "<div>\n<style scoped>\n    .dataframe tbody tr th:only-of-type {\n        vertical-align: middle;\n    }\n\n    .dataframe tbody tr th {\n        vertical-align: top;\n    }\n\n    .dataframe thead th {\n        text-align: right;\n    }\n</style>\n<table border=\"1\" class=\"dataframe\">\n  <thead>\n    <tr style=\"text-align: right;\">\n      <th></th>\n      <th>DayNumber</th>\n      <th>StartingHour</th>\n      <th>EndingHour</th>\n    </tr>\n  </thead>\n  <tbody>\n    <tr>\n      <th>0</th>\n      <td>44197</td>\n      <td>08:00</td>\n      <td>16:00</td>\n    </tr>\n    <tr>\n      <th>1</th>\n      <td>44979</td>\n      <td>0</td>\n      <td>0</td>\n    </tr>\n    <tr>\n      <th>2</th>\n      <td>45038</td>\n      <td>0</td>\n      <td>0</td>\n    </tr>\n    <tr>\n      <th>3</th>\n      <td>45039</td>\n      <td>0</td>\n      <td>0</td>\n    </tr>\n    <tr>\n      <th>4</th>\n      <td>45040</td>\n      <td>0</td>\n      <td>0</td>\n    </tr>\n    <tr>\n      <th>5</th>\n      <td>45041</td>\n      <td>0</td>\n      <td>0</td>\n    </tr>\n    <tr>\n      <th>6</th>\n      <td>45104</td>\n      <td>0</td>\n      <td>0</td>\n    </tr>\n    <tr>\n      <th>7</th>\n      <td>45105</td>\n      <td>0</td>\n      <td>0</td>\n    </tr>\n    <tr>\n      <th>8</th>\n      <td>45106</td>\n      <td>0</td>\n      <td>0</td>\n    </tr>\n    <tr>\n      <th>9</th>\n      <td>45108</td>\n      <td>0</td>\n      <td>0</td>\n    </tr>\n    <tr>\n      <th>10</th>\n      <td>45192</td>\n      <td>0</td>\n      <td>0</td>\n    </tr>\n    <tr>\n      <th>11</th>\n      <td>45344</td>\n      <td>0</td>\n      <td>0</td>\n    </tr>\n    <tr>\n      <th>12</th>\n      <td>45391</td>\n      <td>0</td>\n      <td>0</td>\n    </tr>\n    <tr>\n      <th>13</th>\n      <td>45392</td>\n      <td>0</td>\n      <td>0</td>\n    </tr>\n    <tr>\n      <th>14</th>\n      <td>45393</td>\n      <td>0</td>\n      <td>0</td>\n    </tr>\n    <tr>\n      <th>15</th>\n      <td>45395</td>\n      <td>0</td>\n      <td>0</td>\n    </tr>\n    <tr>\n      <th>16</th>\n      <td>45458</td>\n      <td>0</td>\n      <td>0</td>\n    </tr>\n    <tr>\n      <th>17</th>\n      <td>45459</td>\n      <td>0</td>\n      <td>0</td>\n    </tr>\n    <tr>\n      <th>18</th>\n      <td>45460</td>\n      <td>0</td>\n      <td>0</td>\n    </tr>\n    <tr>\n      <th>19</th>\n      <td>45461</td>\n      <td>0</td>\n      <td>0</td>\n    </tr>\n    <tr>\n      <th>20</th>\n      <td>45558</td>\n      <td>0</td>\n      <td>0</td>\n    </tr>\n    <tr>\n      <th>21</th>\n      <td>45679</td>\n      <td>0</td>\n      <td>0</td>\n    </tr>\n    <tr>\n      <th>22</th>\n      <td>45710</td>\n      <td>0</td>\n      <td>0</td>\n    </tr>\n    <tr>\n      <th>23</th>\n      <td>45746</td>\n      <td>0</td>\n      <td>0</td>\n    </tr>\n    <tr>\n      <th>24</th>\n      <td>45747</td>\n      <td>0</td>\n      <td>0</td>\n    </tr>\n    <tr>\n      <th>25</th>\n      <td>45748</td>\n      <td>0</td>\n      <td>0</td>\n    </tr>\n    <tr>\n      <th>26</th>\n      <td>45749</td>\n      <td>0</td>\n      <td>0</td>\n    </tr>\n    <tr>\n      <th>27</th>\n      <td>45813</td>\n      <td>0</td>\n      <td>0</td>\n    </tr>\n    <tr>\n      <th>28</th>\n      <td>45815</td>\n      <td>0</td>\n      <td>0</td>\n    </tr>\n    <tr>\n      <th>29</th>\n      <td>45816</td>\n      <td>0</td>\n      <td>0</td>\n    </tr>\n    <tr>\n      <th>30</th>\n      <td>45817</td>\n      <td>0</td>\n      <td>0</td>\n    </tr>\n    <tr>\n      <th>31</th>\n      <td>45923</td>\n      <td>0</td>\n      <td>0</td>\n    </tr>\n    <tr>\n      <th>32</th>\n      <td>46075</td>\n      <td>0</td>\n      <td>0</td>\n    </tr>\n    <tr>\n      <th>33</th>\n      <td>46100</td>\n      <td>0</td>\n      <td>0</td>\n    </tr>\n    <tr>\n      <th>34</th>\n      <td>46102</td>\n      <td>0</td>\n      <td>0</td>\n    </tr>\n    <tr>\n      <th>35</th>\n      <td>46103</td>\n      <td>0</td>\n      <td>0</td>\n    </tr>\n    <tr>\n      <th>36</th>\n      <td>46104</td>\n      <td>0</td>\n      <td>0</td>\n    </tr>\n    <tr>\n      <th>37</th>\n      <td>46168</td>\n      <td>0</td>\n      <td>0</td>\n    </tr>\n    <tr>\n      <th>38</th>\n      <td>46169</td>\n      <td>0</td>\n      <td>0</td>\n    </tr>\n    <tr>\n      <th>39</th>\n      <td>46170</td>\n      <td>0</td>\n      <td>0</td>\n    </tr>\n    <tr>\n      <th>40</th>\n      <td>46172</td>\n      <td>0</td>\n      <td>0</td>\n    </tr>\n    <tr>\n      <th>41</th>\n      <td>46173</td>\n      <td>0</td>\n      <td>0</td>\n    </tr>\n    <tr>\n      <th>42</th>\n      <td>46213</td>\n      <td>07:00</td>\n      <td>17:00</td>\n    </tr>\n    <tr>\n      <th>43</th>\n      <td>46288</td>\n      <td>0</td>\n      <td>0</td>\n    </tr>\n    <tr>\n      <th>44</th>\n      <td>46440</td>\n      <td>0</td>\n      <td>0</td>\n    </tr>\n    <tr>\n      <th>45</th>\n      <td>46456</td>\n      <td>0</td>\n      <td>0</td>\n    </tr>\n    <tr>\n      <th>46</th>\n      <td>46457</td>\n      <td>0</td>\n      <td>0</td>\n    </tr>\n    <tr>\n      <th>47</th>\n      <td>46459</td>\n      <td>0</td>\n      <td>0</td>\n    </tr>\n    <tr>\n      <th>48</th>\n      <td>46460</td>\n      <td>0</td>\n      <td>0</td>\n    </tr>\n    <tr>\n      <th>49</th>\n      <td>46524</td>\n      <td>0</td>\n      <td>0</td>\n    </tr>\n    <tr>\n      <th>50</th>\n      <td>46525</td>\n      <td>0</td>\n      <td>0</td>\n    </tr>\n    <tr>\n      <th>51</th>\n      <td>46526</td>\n      <td>0</td>\n      <td>0</td>\n    </tr>\n    <tr>\n      <th>52</th>\n      <td>46527</td>\n      <td>0</td>\n      <td>0</td>\n    </tr>\n    <tr>\n      <th>53</th>\n      <td>46653</td>\n      <td>0</td>\n      <td>0</td>\n    </tr>\n  </tbody>\n</table>\n</div>"
     },
     "execution_count": 148,
     "metadata": {},
     "output_type": "execute_result"
    }
   ],
   "source": [
    "Exceptions"
   ],
   "metadata": {
    "collapsed": false,
    "ExecuteTime": {
     "end_time": "2024-08-03T11:11:42.821600900Z",
     "start_time": "2024-08-03T11:11:42.709971600Z"
    }
   },
   "id": "e8a5554d3acef632",
   "execution_count": 148
  },
  {
   "cell_type": "code",
   "outputs": [
    {
     "data": {
      "text/plain": "   %F  proj_id  fy_start_month_num rsrc_self_add_flag allow_complete_flag  \\\n0  %R     1469                   1                  Y                   Y   \n\n  rsrc_multi_assign_flag checkout_flag project_flag step_complete_flag  \\\n0                      Y             N            Y                  N   \n\n  cost_qty_recalc_flag batch_sum_flag name_sep_char def_complete_pct_type  \\\n0                    N              Y             .               CP_Drtn   \n\n  proj_short_name  acct_id  orig_proj_id  source_proj_id  base_type_id  \\\n0           TST00      NaN           NaN             NaN           NaN   \n\n   clndr_id  sum_base_proj_id  task_code_base  task_code_step  priority_num  \\\n0       993               NaN            1000              10            10   \n\n   wbs_max_sum_level  strgy_priority_num  last_checksum  critical_drtn_hr_cnt  \\\n0                  2                 500            NaN                     0   \n\n   def_cost_per_qty  last_recalc_date   plan_start_date  plan_end_date  \\\n0               0.0  2024-05-31 00:00  2024-05-31 00:00            NaN   \n\n       scd_end_date          add_date  last_tasksum_date  fcst_start_date  \\\n0  2024-06-11 17:00  2024-05-31 00:00                NaN              NaN   \n\n  def_duration_type task_code_prefix                    guid def_qty_type  \\\n0      DT_FixedDUR2                A  38ZK+9cg+UWUebnUM1QYpA      QT_Hour   \n\n  add_by_name  web_local_root_path  proj_url def_rate_type  \\\n0       admin                  NaN       NaN  COST_PER_QTY   \n\n  add_act_remain_flag act_this_per_link_flag def_task_type act_pct_link_flag  \\\n0                   N                      Y       TT_Task                 Y   \n\n  critical_path_type task_code_prefix_flag def_rollup_dates_flag  \\\n0        CT_TotFloat                     Y                     Y   \n\n  use_project_baseline_flag rem_target_link_flag reset_planned_flag  \\\n0                         Y                    Y                  N   \n\n  allow_neg_act_flag sum_assign_level  last_fin_dates_id  fintmpl_id  \\\n0                  N      SL_Taskrsrc                NaN           1   \n\n   last_baseline_update_date  cr_external_key  apply_actuals_date  \\\n0                        NaN              NaN                 NaN   \n\n   location_id last_schedule_date  loaded_scope_level export_flag  \\\n0          NaN   2024-05-31 12:39                   7           Y   \n\n   new_fin_dates_id  baselines_to_export  baseline_names_to_export  \\\n0               NaN                  NaN                       NaN   \n\n   next_data_date  close_period_flag  sum_refresh_date  trsrcsum_loaded  \\\n0             NaN                NaN               NaN              NaN   \n\n   sumtask_loaded  \n0             NaN  ",
      "text/html": "<div>\n<style scoped>\n    .dataframe tbody tr th:only-of-type {\n        vertical-align: middle;\n    }\n\n    .dataframe tbody tr th {\n        vertical-align: top;\n    }\n\n    .dataframe thead th {\n        text-align: right;\n    }\n</style>\n<table border=\"1\" class=\"dataframe\">\n  <thead>\n    <tr style=\"text-align: right;\">\n      <th></th>\n      <th>%F</th>\n      <th>proj_id</th>\n      <th>fy_start_month_num</th>\n      <th>rsrc_self_add_flag</th>\n      <th>allow_complete_flag</th>\n      <th>rsrc_multi_assign_flag</th>\n      <th>checkout_flag</th>\n      <th>project_flag</th>\n      <th>step_complete_flag</th>\n      <th>cost_qty_recalc_flag</th>\n      <th>batch_sum_flag</th>\n      <th>name_sep_char</th>\n      <th>def_complete_pct_type</th>\n      <th>proj_short_name</th>\n      <th>acct_id</th>\n      <th>orig_proj_id</th>\n      <th>source_proj_id</th>\n      <th>base_type_id</th>\n      <th>clndr_id</th>\n      <th>sum_base_proj_id</th>\n      <th>task_code_base</th>\n      <th>task_code_step</th>\n      <th>priority_num</th>\n      <th>wbs_max_sum_level</th>\n      <th>strgy_priority_num</th>\n      <th>last_checksum</th>\n      <th>critical_drtn_hr_cnt</th>\n      <th>def_cost_per_qty</th>\n      <th>last_recalc_date</th>\n      <th>plan_start_date</th>\n      <th>plan_end_date</th>\n      <th>scd_end_date</th>\n      <th>add_date</th>\n      <th>last_tasksum_date</th>\n      <th>fcst_start_date</th>\n      <th>def_duration_type</th>\n      <th>task_code_prefix</th>\n      <th>guid</th>\n      <th>def_qty_type</th>\n      <th>add_by_name</th>\n      <th>web_local_root_path</th>\n      <th>proj_url</th>\n      <th>def_rate_type</th>\n      <th>add_act_remain_flag</th>\n      <th>act_this_per_link_flag</th>\n      <th>def_task_type</th>\n      <th>act_pct_link_flag</th>\n      <th>critical_path_type</th>\n      <th>task_code_prefix_flag</th>\n      <th>def_rollup_dates_flag</th>\n      <th>use_project_baseline_flag</th>\n      <th>rem_target_link_flag</th>\n      <th>reset_planned_flag</th>\n      <th>allow_neg_act_flag</th>\n      <th>sum_assign_level</th>\n      <th>last_fin_dates_id</th>\n      <th>fintmpl_id</th>\n      <th>last_baseline_update_date</th>\n      <th>cr_external_key</th>\n      <th>apply_actuals_date</th>\n      <th>location_id</th>\n      <th>last_schedule_date</th>\n      <th>loaded_scope_level</th>\n      <th>export_flag</th>\n      <th>new_fin_dates_id</th>\n      <th>baselines_to_export</th>\n      <th>baseline_names_to_export</th>\n      <th>next_data_date</th>\n      <th>close_period_flag</th>\n      <th>sum_refresh_date</th>\n      <th>trsrcsum_loaded</th>\n      <th>sumtask_loaded</th>\n    </tr>\n  </thead>\n  <tbody>\n    <tr>\n      <th>0</th>\n      <td>%R</td>\n      <td>1469</td>\n      <td>1</td>\n      <td>Y</td>\n      <td>Y</td>\n      <td>Y</td>\n      <td>N</td>\n      <td>Y</td>\n      <td>N</td>\n      <td>N</td>\n      <td>Y</td>\n      <td>.</td>\n      <td>CP_Drtn</td>\n      <td>TST00</td>\n      <td>NaN</td>\n      <td>NaN</td>\n      <td>NaN</td>\n      <td>NaN</td>\n      <td>993</td>\n      <td>NaN</td>\n      <td>1000</td>\n      <td>10</td>\n      <td>10</td>\n      <td>2</td>\n      <td>500</td>\n      <td>NaN</td>\n      <td>0</td>\n      <td>0.0</td>\n      <td>2024-05-31 00:00</td>\n      <td>2024-05-31 00:00</td>\n      <td>NaN</td>\n      <td>2024-06-11 17:00</td>\n      <td>2024-05-31 00:00</td>\n      <td>NaN</td>\n      <td>NaN</td>\n      <td>DT_FixedDUR2</td>\n      <td>A</td>\n      <td>38ZK+9cg+UWUebnUM1QYpA</td>\n      <td>QT_Hour</td>\n      <td>admin</td>\n      <td>NaN</td>\n      <td>NaN</td>\n      <td>COST_PER_QTY</td>\n      <td>N</td>\n      <td>Y</td>\n      <td>TT_Task</td>\n      <td>Y</td>\n      <td>CT_TotFloat</td>\n      <td>Y</td>\n      <td>Y</td>\n      <td>Y</td>\n      <td>Y</td>\n      <td>N</td>\n      <td>N</td>\n      <td>SL_Taskrsrc</td>\n      <td>NaN</td>\n      <td>1</td>\n      <td>NaN</td>\n      <td>NaN</td>\n      <td>NaN</td>\n      <td>NaN</td>\n      <td>2024-05-31 12:39</td>\n      <td>7</td>\n      <td>Y</td>\n      <td>NaN</td>\n      <td>NaN</td>\n      <td>NaN</td>\n      <td>NaN</td>\n      <td>NaN</td>\n      <td>NaN</td>\n      <td>NaN</td>\n      <td>NaN</td>\n    </tr>\n  </tbody>\n</table>\n</div>"
     },
     "execution_count": 149,
     "metadata": {},
     "output_type": "execute_result"
    }
   ],
   "source": [
    "project_df"
   ],
   "metadata": {
    "collapsed": false,
    "ExecuteTime": {
     "end_time": "2024-08-03T11:11:42.929474800Z",
     "start_time": "2024-08-03T11:11:42.818615600Z"
    }
   },
   "id": "25c1ee6811b396e8",
   "execution_count": 149
  },
  {
   "cell_type": "code",
   "outputs": [],
   "source": [
    "project_start_date = pd.to_datetime(project_df['plan_start_date']).iloc[0]\n",
    "project_finish_date = pd.to_datetime(project_df['scd_end_date']).iloc[0]"
   ],
   "metadata": {
    "collapsed": false,
    "ExecuteTime": {
     "end_time": "2024-08-03T11:11:43.038818800Z",
     "start_time": "2024-08-03T11:11:42.921495100Z"
    }
   },
   "id": "35008380e65b4888",
   "execution_count": 150
  },
  {
   "cell_type": "code",
   "outputs": [
    {
     "data": {
      "text/plain": "Timestamp('2024-05-31 00:00:00')"
     },
     "execution_count": 151,
     "metadata": {},
     "output_type": "execute_result"
    }
   ],
   "source": [
    "project_start_date"
   ],
   "metadata": {
    "collapsed": false,
    "ExecuteTime": {
     "end_time": "2024-08-03T11:11:43.103596800Z",
     "start_time": "2024-08-03T11:11:43.001923500Z"
    }
   },
   "id": "78abc150884330a6",
   "execution_count": 151
  },
  {
   "cell_type": "code",
   "outputs": [
    {
     "data": {
      "text/plain": "Timestamp('2024-06-11 17:00:00')"
     },
     "execution_count": 152,
     "metadata": {},
     "output_type": "execute_result"
    }
   ],
   "source": [
    "project_finish_date"
   ],
   "metadata": {
    "collapsed": false,
    "ExecuteTime": {
     "end_time": "2024-08-03T11:11:43.186588Z",
     "start_time": "2024-08-03T11:11:43.101598500Z"
    }
   },
   "id": "437b55691be4dee6",
   "execution_count": 152
  },
  {
   "cell_type": "code",
   "outputs": [],
   "source": [
    "start_date = project_start_date.date()"
   ],
   "metadata": {
    "collapsed": false,
    "ExecuteTime": {
     "end_time": "2024-08-03T11:11:43.283262100Z",
     "start_time": "2024-08-03T11:11:43.184593800Z"
    }
   },
   "id": "43fbde166195b900",
   "execution_count": 153
  },
  {
   "cell_type": "code",
   "outputs": [
    {
     "data": {
      "text/plain": "datetime.date(2024, 5, 31)"
     },
     "execution_count": 154,
     "metadata": {},
     "output_type": "execute_result"
    }
   ],
   "source": [
    "start_date"
   ],
   "metadata": {
    "collapsed": false,
    "ExecuteTime": {
     "end_time": "2024-08-03T11:11:43.378039900Z",
     "start_time": "2024-08-03T11:11:43.283262100Z"
    }
   },
   "id": "260bea675b39a57e",
   "execution_count": 154
  },
  {
   "cell_type": "code",
   "outputs": [
    {
     "data": {
      "text/plain": "  DayNumber StartingHour EndingHour\n0         1        07:00      17:00\n1         2        07:00      17:00\n2         3        07:00      17:00\n3         4        07:00      17:00\n4         5        07:00      17:00\n5         6            0          0\n6         7        07:00      17:00",
      "text/html": "<div>\n<style scoped>\n    .dataframe tbody tr th:only-of-type {\n        vertical-align: middle;\n    }\n\n    .dataframe tbody tr th {\n        vertical-align: top;\n    }\n\n    .dataframe thead th {\n        text-align: right;\n    }\n</style>\n<table border=\"1\" class=\"dataframe\">\n  <thead>\n    <tr style=\"text-align: right;\">\n      <th></th>\n      <th>DayNumber</th>\n      <th>StartingHour</th>\n      <th>EndingHour</th>\n    </tr>\n  </thead>\n  <tbody>\n    <tr>\n      <th>0</th>\n      <td>1</td>\n      <td>07:00</td>\n      <td>17:00</td>\n    </tr>\n    <tr>\n      <th>1</th>\n      <td>2</td>\n      <td>07:00</td>\n      <td>17:00</td>\n    </tr>\n    <tr>\n      <th>2</th>\n      <td>3</td>\n      <td>07:00</td>\n      <td>17:00</td>\n    </tr>\n    <tr>\n      <th>3</th>\n      <td>4</td>\n      <td>07:00</td>\n      <td>17:00</td>\n    </tr>\n    <tr>\n      <th>4</th>\n      <td>5</td>\n      <td>07:00</td>\n      <td>17:00</td>\n    </tr>\n    <tr>\n      <th>5</th>\n      <td>6</td>\n      <td>0</td>\n      <td>0</td>\n    </tr>\n    <tr>\n      <th>6</th>\n      <td>7</td>\n      <td>07:00</td>\n      <td>17:00</td>\n    </tr>\n  </tbody>\n</table>\n</div>"
     },
     "execution_count": 155,
     "metadata": {},
     "output_type": "execute_result"
    }
   ],
   "source": [
    "WeekDays"
   ],
   "metadata": {
    "collapsed": false,
    "ExecuteTime": {
     "end_time": "2024-08-03T11:11:43.451798500Z",
     "start_time": "2024-08-03T11:11:43.376039Z"
    }
   },
   "id": "2bfc37ae066860e1",
   "execution_count": 155
  },
  {
   "cell_type": "code",
   "outputs": [],
   "source": [
    "# Reindexing DayNumber in WeekDays to match Python's date convention Monday=0, Sunday=6\n",
    "mapping = {1:6, 2:0, 3:1, 4:2, 5:3, 6:4, 7:5}\n",
    "WeekDays['DayNumber'] = WeekDays['DayNumber'].astype(int)\n",
    "WeekDays['DayNumber'] = WeekDays['DayNumber'].map(mapping)"
   ],
   "metadata": {
    "collapsed": false,
    "ExecuteTime": {
     "end_time": "2024-08-03T11:11:43.543961200Z",
     "start_time": "2024-08-03T11:11:43.452796100Z"
    }
   },
   "id": "6e751f8457b54768",
   "execution_count": 156
  },
  {
   "cell_type": "code",
   "outputs": [
    {
     "data": {
      "text/plain": "   DayNumber StartingHour EndingHour\n0          6        07:00      17:00\n1          0        07:00      17:00\n2          1        07:00      17:00\n3          2        07:00      17:00\n4          3        07:00      17:00\n5          4            0          0\n6          5        07:00      17:00",
      "text/html": "<div>\n<style scoped>\n    .dataframe tbody tr th:only-of-type {\n        vertical-align: middle;\n    }\n\n    .dataframe tbody tr th {\n        vertical-align: top;\n    }\n\n    .dataframe thead th {\n        text-align: right;\n    }\n</style>\n<table border=\"1\" class=\"dataframe\">\n  <thead>\n    <tr style=\"text-align: right;\">\n      <th></th>\n      <th>DayNumber</th>\n      <th>StartingHour</th>\n      <th>EndingHour</th>\n    </tr>\n  </thead>\n  <tbody>\n    <tr>\n      <th>0</th>\n      <td>6</td>\n      <td>07:00</td>\n      <td>17:00</td>\n    </tr>\n    <tr>\n      <th>1</th>\n      <td>0</td>\n      <td>07:00</td>\n      <td>17:00</td>\n    </tr>\n    <tr>\n      <th>2</th>\n      <td>1</td>\n      <td>07:00</td>\n      <td>17:00</td>\n    </tr>\n    <tr>\n      <th>3</th>\n      <td>2</td>\n      <td>07:00</td>\n      <td>17:00</td>\n    </tr>\n    <tr>\n      <th>4</th>\n      <td>3</td>\n      <td>07:00</td>\n      <td>17:00</td>\n    </tr>\n    <tr>\n      <th>5</th>\n      <td>4</td>\n      <td>0</td>\n      <td>0</td>\n    </tr>\n    <tr>\n      <th>6</th>\n      <td>5</td>\n      <td>07:00</td>\n      <td>17:00</td>\n    </tr>\n  </tbody>\n</table>\n</div>"
     },
     "execution_count": 157,
     "metadata": {},
     "output_type": "execute_result"
    }
   ],
   "source": [
    "WeekDays"
   ],
   "metadata": {
    "collapsed": false,
    "ExecuteTime": {
     "end_time": "2024-08-03T11:11:43.627217200Z",
     "start_time": "2024-08-03T11:11:43.528004700Z"
    }
   },
   "id": "c044c3c097a1e6f8",
   "execution_count": 157
  },
  {
   "cell_type": "code",
   "outputs": [],
   "source": [
    "# creating date range\n",
    "Calendar_df = pd.DataFrame({'Date': pd.date_range(start=project_start_date, end=project_finish_date)})\n",
    "\n",
    "# formatting date to dd-mm-yyyy format\n",
    "Calendar_df['Date'] = Calendar_df['Date'].dt.strftime('%d-%m-%Y')\n",
    "\n",
    "# getting the weekday number where Monday=0, Sunday=6\n",
    "Calendar_df['DayNumber'] = pd.to_datetime(Calendar_df['Date'], format='%d-%m-%Y').dt.dayofweek\n",
    "\n",
    "# merging Calendar_df with WeekDays on 'DayNumber' to get 'StartingHour' and 'EndingHour'\n",
    "Calendar_df = pd.merge(Calendar_df, WeekDays, on='DayNumber', how='left')\n",
    "\n",
    "# removing the 'DayNumber' column as it's no longer needed\n",
    "Calendar_df = Calendar_df.drop(columns='DayNumber')"
   ],
   "metadata": {
    "collapsed": false,
    "ExecuteTime": {
     "end_time": "2024-08-03T11:11:43.796767500Z",
     "start_time": "2024-08-03T11:11:43.628214900Z"
    }
   },
   "id": "83d2ac8dfde2b679",
   "execution_count": 158
  },
  {
   "cell_type": "code",
   "outputs": [
    {
     "data": {
      "text/plain": "          Date StartingHour EndingHour\n0   31-05-2024            0          0\n1   01-06-2024        07:00      17:00\n2   02-06-2024        07:00      17:00\n3   03-06-2024        07:00      17:00\n4   04-06-2024        07:00      17:00\n5   05-06-2024        07:00      17:00\n6   06-06-2024        07:00      17:00\n7   07-06-2024            0          0\n8   08-06-2024        07:00      17:00\n9   09-06-2024        07:00      17:00\n10  10-06-2024        07:00      17:00\n11  11-06-2024        07:00      17:00",
      "text/html": "<div>\n<style scoped>\n    .dataframe tbody tr th:only-of-type {\n        vertical-align: middle;\n    }\n\n    .dataframe tbody tr th {\n        vertical-align: top;\n    }\n\n    .dataframe thead th {\n        text-align: right;\n    }\n</style>\n<table border=\"1\" class=\"dataframe\">\n  <thead>\n    <tr style=\"text-align: right;\">\n      <th></th>\n      <th>Date</th>\n      <th>StartingHour</th>\n      <th>EndingHour</th>\n    </tr>\n  </thead>\n  <tbody>\n    <tr>\n      <th>0</th>\n      <td>31-05-2024</td>\n      <td>0</td>\n      <td>0</td>\n    </tr>\n    <tr>\n      <th>1</th>\n      <td>01-06-2024</td>\n      <td>07:00</td>\n      <td>17:00</td>\n    </tr>\n    <tr>\n      <th>2</th>\n      <td>02-06-2024</td>\n      <td>07:00</td>\n      <td>17:00</td>\n    </tr>\n    <tr>\n      <th>3</th>\n      <td>03-06-2024</td>\n      <td>07:00</td>\n      <td>17:00</td>\n    </tr>\n    <tr>\n      <th>4</th>\n      <td>04-06-2024</td>\n      <td>07:00</td>\n      <td>17:00</td>\n    </tr>\n    <tr>\n      <th>5</th>\n      <td>05-06-2024</td>\n      <td>07:00</td>\n      <td>17:00</td>\n    </tr>\n    <tr>\n      <th>6</th>\n      <td>06-06-2024</td>\n      <td>07:00</td>\n      <td>17:00</td>\n    </tr>\n    <tr>\n      <th>7</th>\n      <td>07-06-2024</td>\n      <td>0</td>\n      <td>0</td>\n    </tr>\n    <tr>\n      <th>8</th>\n      <td>08-06-2024</td>\n      <td>07:00</td>\n      <td>17:00</td>\n    </tr>\n    <tr>\n      <th>9</th>\n      <td>09-06-2024</td>\n      <td>07:00</td>\n      <td>17:00</td>\n    </tr>\n    <tr>\n      <th>10</th>\n      <td>10-06-2024</td>\n      <td>07:00</td>\n      <td>17:00</td>\n    </tr>\n    <tr>\n      <th>11</th>\n      <td>11-06-2024</td>\n      <td>07:00</td>\n      <td>17:00</td>\n    </tr>\n  </tbody>\n</table>\n</div>"
     },
     "execution_count": 159,
     "metadata": {},
     "output_type": "execute_result"
    }
   ],
   "source": [
    "Calendar_df"
   ],
   "metadata": {
    "collapsed": false,
    "ExecuteTime": {
     "end_time": "2024-08-03T11:11:43.848186600Z",
     "start_time": "2024-08-03T11:11:43.704015Z"
    }
   },
   "id": "1fe17591e24b8bd6",
   "execution_count": 159
  },
  {
   "cell_type": "code",
   "outputs": [
    {
     "ename": "ValueError",
     "evalue": "expected hh:mm:ss format",
     "output_type": "error",
     "traceback": [
      "\u001B[1;31m---------------------------------------------------------------------------\u001B[0m",
      "\u001B[1;31mValueError\u001B[0m                                Traceback (most recent call last)",
      "File \u001B[1;32mtimedeltas.pyx:438\u001B[0m, in \u001B[0;36mpandas._libs.tslibs.timedeltas.array_to_timedelta64\u001B[1;34m()\u001B[0m\n",
      "File \u001B[1;32mtimedeltas.pyx:470\u001B[0m, in \u001B[0;36mpandas._libs.tslibs.timedeltas._item_to_timedelta64_fastpath\u001B[1;34m()\u001B[0m\n",
      "File \u001B[1;32mtimedeltas.pyx:636\u001B[0m, in \u001B[0;36mpandas._libs.tslibs.timedeltas.parse_timedelta_string\u001B[1;34m()\u001B[0m\n",
      "\u001B[1;31mValueError\u001B[0m: expected hh:mm:ss format",
      "\nDuring handling of the above exception, another exception occurred:\n",
      "\u001B[1;31mValueError\u001B[0m                                Traceback (most recent call last)",
      "Cell \u001B[1;32mIn[160], line 7\u001B[0m\n\u001B[0;32m      4\u001B[0m Calendar_df[\u001B[38;5;124m'\u001B[39m\u001B[38;5;124mEndingHour\u001B[39m\u001B[38;5;124m'\u001B[39m] \u001B[38;5;241m=\u001B[39m Calendar_df[\u001B[38;5;124m'\u001B[39m\u001B[38;5;124mEndingHour\u001B[39m\u001B[38;5;124m'\u001B[39m]\u001B[38;5;241m.\u001B[39mapply(\u001B[38;5;28;01mlambda\u001B[39;00m x: x \u001B[38;5;28;01mif\u001B[39;00m x\u001B[38;5;241m.\u001B[39mcount(\u001B[38;5;124m'\u001B[39m\u001B[38;5;124m:\u001B[39m\u001B[38;5;124m'\u001B[39m) \u001B[38;5;241m==\u001B[39m \u001B[38;5;241m2\u001B[39m \u001B[38;5;28;01melse\u001B[39;00m x \u001B[38;5;241m+\u001B[39m \u001B[38;5;124m'\u001B[39m\u001B[38;5;124m:00\u001B[39m\u001B[38;5;124m'\u001B[39m)\n\u001B[0;32m      6\u001B[0m \u001B[38;5;66;03m# Now convert the strings into datetime objects\u001B[39;00m\n\u001B[1;32m----> 7\u001B[0m Calendar_df[\u001B[38;5;124m'\u001B[39m\u001B[38;5;124mStartingHour\u001B[39m\u001B[38;5;124m'\u001B[39m] \u001B[38;5;241m=\u001B[39m \u001B[43mpd\u001B[49m\u001B[38;5;241;43m.\u001B[39;49m\u001B[43mto_timedelta\u001B[49m\u001B[43m(\u001B[49m\u001B[43mCalendar_df\u001B[49m\u001B[43m[\u001B[49m\u001B[38;5;124;43m'\u001B[39;49m\u001B[38;5;124;43mStartingHour\u001B[39;49m\u001B[38;5;124;43m'\u001B[39;49m\u001B[43m]\u001B[49m\u001B[43m)\u001B[49m\n\u001B[0;32m      8\u001B[0m Calendar_df[\u001B[38;5;124m'\u001B[39m\u001B[38;5;124mEndingHour\u001B[39m\u001B[38;5;124m'\u001B[39m] \u001B[38;5;241m=\u001B[39m pd\u001B[38;5;241m.\u001B[39mto_timedelta(Calendar_df[\u001B[38;5;124m'\u001B[39m\u001B[38;5;124mEndingHour\u001B[39m\u001B[38;5;124m'\u001B[39m])\n\u001B[0;32m     10\u001B[0m \u001B[38;5;66;03m# Create 'WorkingHours' column as the difference between 'EndingHour' and 'StartingHour', convert to seconds, then to hours\u001B[39;00m\n",
      "File \u001B[1;32m~\\PycharmProjects\\Primavera Reporting Rev00\\Primavera Reporting Rev00\\.venv\\Lib\\site-packages\\pandas\\core\\tools\\timedeltas.py:201\u001B[0m, in \u001B[0;36mto_timedelta\u001B[1;34m(arg, unit, errors)\u001B[0m\n\u001B[0;32m    199\u001B[0m     \u001B[38;5;28;01mreturn\u001B[39;00m arg\n\u001B[0;32m    200\u001B[0m \u001B[38;5;28;01melif\u001B[39;00m \u001B[38;5;28misinstance\u001B[39m(arg, ABCSeries):\n\u001B[1;32m--> 201\u001B[0m     values \u001B[38;5;241m=\u001B[39m \u001B[43m_convert_listlike\u001B[49m\u001B[43m(\u001B[49m\u001B[43marg\u001B[49m\u001B[38;5;241;43m.\u001B[39;49m\u001B[43m_values\u001B[49m\u001B[43m,\u001B[49m\u001B[43m \u001B[49m\u001B[43munit\u001B[49m\u001B[38;5;241;43m=\u001B[39;49m\u001B[43munit\u001B[49m\u001B[43m,\u001B[49m\u001B[43m \u001B[49m\u001B[43merrors\u001B[49m\u001B[38;5;241;43m=\u001B[39;49m\u001B[43merrors\u001B[49m\u001B[43m)\u001B[49m\n\u001B[0;32m    202\u001B[0m     \u001B[38;5;28;01mreturn\u001B[39;00m arg\u001B[38;5;241m.\u001B[39m_constructor(values, index\u001B[38;5;241m=\u001B[39marg\u001B[38;5;241m.\u001B[39mindex, name\u001B[38;5;241m=\u001B[39marg\u001B[38;5;241m.\u001B[39mname)\n\u001B[0;32m    203\u001B[0m \u001B[38;5;28;01melif\u001B[39;00m \u001B[38;5;28misinstance\u001B[39m(arg, ABCIndex):\n",
      "File \u001B[1;32m~\\PycharmProjects\\Primavera Reporting Rev00\\Primavera Reporting Rev00\\.venv\\Lib\\site-packages\\pandas\\core\\tools\\timedeltas.py:266\u001B[0m, in \u001B[0;36m_convert_listlike\u001B[1;34m(arg, unit, errors, name)\u001B[0m\n\u001B[0;32m    263\u001B[0m     \u001B[38;5;28;01mreturn\u001B[39;00m arg\n\u001B[0;32m    265\u001B[0m \u001B[38;5;28;01mtry\u001B[39;00m:\n\u001B[1;32m--> 266\u001B[0m     td64arr \u001B[38;5;241m=\u001B[39m \u001B[43msequence_to_td64ns\u001B[49m\u001B[43m(\u001B[49m\u001B[43marg\u001B[49m\u001B[43m,\u001B[49m\u001B[43m \u001B[49m\u001B[43munit\u001B[49m\u001B[38;5;241;43m=\u001B[39;49m\u001B[43munit\u001B[49m\u001B[43m,\u001B[49m\u001B[43m \u001B[49m\u001B[43merrors\u001B[49m\u001B[38;5;241;43m=\u001B[39;49m\u001B[43merrors\u001B[49m\u001B[43m,\u001B[49m\u001B[43m \u001B[49m\u001B[43mcopy\u001B[49m\u001B[38;5;241;43m=\u001B[39;49m\u001B[38;5;28;43;01mFalse\u001B[39;49;00m\u001B[43m)\u001B[49m[\u001B[38;5;241m0\u001B[39m]\n\u001B[0;32m    267\u001B[0m \u001B[38;5;28;01mexcept\u001B[39;00m \u001B[38;5;167;01mValueError\u001B[39;00m:\n\u001B[0;32m    268\u001B[0m     \u001B[38;5;28;01mif\u001B[39;00m errors \u001B[38;5;241m==\u001B[39m \u001B[38;5;124m\"\u001B[39m\u001B[38;5;124mignore\u001B[39m\u001B[38;5;124m\"\u001B[39m:\n",
      "File \u001B[1;32m~\\PycharmProjects\\Primavera Reporting Rev00\\Primavera Reporting Rev00\\.venv\\Lib\\site-packages\\pandas\\core\\arrays\\timedeltas.py:1042\u001B[0m, in \u001B[0;36msequence_to_td64ns\u001B[1;34m(data, copy, unit, errors)\u001B[0m\n\u001B[0;32m   1039\u001B[0m \u001B[38;5;66;03m# Convert whatever we have into timedelta64[ns] dtype\u001B[39;00m\n\u001B[0;32m   1040\u001B[0m \u001B[38;5;28;01mif\u001B[39;00m data\u001B[38;5;241m.\u001B[39mdtype \u001B[38;5;241m==\u001B[39m \u001B[38;5;28mobject\u001B[39m \u001B[38;5;129;01mor\u001B[39;00m is_string_dtype(data\u001B[38;5;241m.\u001B[39mdtype):\n\u001B[0;32m   1041\u001B[0m     \u001B[38;5;66;03m# no need to make a copy, need to convert if string-dtyped\u001B[39;00m\n\u001B[1;32m-> 1042\u001B[0m     data \u001B[38;5;241m=\u001B[39m \u001B[43m_objects_to_td64ns\u001B[49m\u001B[43m(\u001B[49m\u001B[43mdata\u001B[49m\u001B[43m,\u001B[49m\u001B[43m \u001B[49m\u001B[43munit\u001B[49m\u001B[38;5;241;43m=\u001B[39;49m\u001B[43munit\u001B[49m\u001B[43m,\u001B[49m\u001B[43m \u001B[49m\u001B[43merrors\u001B[49m\u001B[38;5;241;43m=\u001B[39;49m\u001B[43merrors\u001B[49m\u001B[43m)\u001B[49m\n\u001B[0;32m   1043\u001B[0m     copy \u001B[38;5;241m=\u001B[39m \u001B[38;5;28;01mFalse\u001B[39;00m\n\u001B[0;32m   1045\u001B[0m \u001B[38;5;28;01melif\u001B[39;00m is_integer_dtype(data\u001B[38;5;241m.\u001B[39mdtype):\n\u001B[0;32m   1046\u001B[0m     \u001B[38;5;66;03m# treat as multiples of the given unit\u001B[39;00m\n",
      "File \u001B[1;32m~\\PycharmProjects\\Primavera Reporting Rev00\\Primavera Reporting Rev00\\.venv\\Lib\\site-packages\\pandas\\core\\arrays\\timedeltas.py:1158\u001B[0m, in \u001B[0;36m_objects_to_td64ns\u001B[1;34m(data, unit, errors)\u001B[0m\n\u001B[0;32m   1155\u001B[0m \u001B[38;5;66;03m# coerce Index to np.ndarray, converting string-dtype if necessary\u001B[39;00m\n\u001B[0;32m   1156\u001B[0m values \u001B[38;5;241m=\u001B[39m np\u001B[38;5;241m.\u001B[39masarray(data, dtype\u001B[38;5;241m=\u001B[39mnp\u001B[38;5;241m.\u001B[39mobject_)\n\u001B[1;32m-> 1158\u001B[0m result \u001B[38;5;241m=\u001B[39m \u001B[43marray_to_timedelta64\u001B[49m\u001B[43m(\u001B[49m\u001B[43mvalues\u001B[49m\u001B[43m,\u001B[49m\u001B[43m \u001B[49m\u001B[43munit\u001B[49m\u001B[38;5;241;43m=\u001B[39;49m\u001B[43munit\u001B[49m\u001B[43m,\u001B[49m\u001B[43m \u001B[49m\u001B[43merrors\u001B[49m\u001B[38;5;241;43m=\u001B[39;49m\u001B[43merrors\u001B[49m\u001B[43m)\u001B[49m\n\u001B[0;32m   1159\u001B[0m \u001B[38;5;28;01mreturn\u001B[39;00m result\u001B[38;5;241m.\u001B[39mview(\u001B[38;5;124m\"\u001B[39m\u001B[38;5;124mtimedelta64[ns]\u001B[39m\u001B[38;5;124m\"\u001B[39m)\n",
      "File \u001B[1;32mtimedeltas.pyx:452\u001B[0m, in \u001B[0;36mpandas._libs.tslibs.timedeltas.array_to_timedelta64\u001B[1;34m()\u001B[0m\n",
      "File \u001B[1;32mtimedeltas.pyx:491\u001B[0m, in \u001B[0;36mpandas._libs.tslibs.timedeltas._item_to_timedelta64\u001B[1;34m()\u001B[0m\n",
      "File \u001B[1;32mtimedeltas.pyx:482\u001B[0m, in \u001B[0;36mpandas._libs.tslibs.timedeltas._item_to_timedelta64\u001B[1;34m()\u001B[0m\n",
      "File \u001B[1;32mtimedeltas.pyx:361\u001B[0m, in \u001B[0;36mpandas._libs.tslibs.timedeltas.convert_to_timedelta64\u001B[1;34m()\u001B[0m\n",
      "File \u001B[1;32mtimedeltas.pyx:636\u001B[0m, in \u001B[0;36mpandas._libs.tslibs.timedeltas.parse_timedelta_string\u001B[1;34m()\u001B[0m\n",
      "\u001B[1;31mValueError\u001B[0m: expected hh:mm:ss format"
     ]
    }
   ],
   "source": [
    "# Ensure 'StartingHour' and 'EndingHour' are in 'HH:MM:SS' format \n",
    "# If ':00' for seconds is missing, append it\n",
    "Calendar_df['StartingHour'] = Calendar_df['StartingHour'].apply(lambda x: x if x.count(':') == 2 else x + ':00')\n",
    "Calendar_df['EndingHour'] = Calendar_df['EndingHour'].apply(lambda x: x if x.count(':') == 2 else x + ':00')\n",
    "\n",
    "# Now convert the strings into datetime objects\n",
    "Calendar_df['StartingHour'] = pd.to_timedelta(Calendar_df['StartingHour'])\n",
    "Calendar_df['EndingHour'] = pd.to_timedelta(Calendar_df['EndingHour'])\n",
    "\n",
    "# Create 'WorkingHours' column as the difference between 'EndingHour' and 'StartingHour', convert to seconds, then to hours\n",
    "Calendar_df['WorkingHours'] = ((Calendar_df['EndingHour'] - Calendar_df['StartingHour']) / pd.Timedelta(hours=1)).abs()\n",
    "\n",
    "Calendar_df.head()"
   ],
   "metadata": {
    "collapsed": false,
    "ExecuteTime": {
     "end_time": "2024-08-03T11:11:44.062842300Z",
     "start_time": "2024-08-03T11:11:43.847189400Z"
    }
   },
   "id": "166aeb88c4edcd43",
   "execution_count": 160
  },
  {
   "cell_type": "code",
   "outputs": [
    {
     "name": "stdout",
     "output_type": "stream",
     "text": [
      "Unique StartingHour Entries:\n",
      " ['0:00' '07:00:00']\n",
      "Unique EndingHour Entries:\n",
      " ['0:00' '17:00:00']\n"
     ]
    }
   ],
   "source": [
    "print(\"Unique StartingHour Entries:\\n\", Calendar_df[\"StartingHour\"].unique())\n",
    "print(\"Unique EndingHour Entries:\\n\", Calendar_df[\"EndingHour\"].unique())"
   ],
   "metadata": {
    "collapsed": false,
    "ExecuteTime": {
     "end_time": "2024-08-03T11:13:17.177722300Z",
     "start_time": "2024-08-03T11:13:17.146616300Z"
    }
   },
   "id": "ff4e45fec0bf219d",
   "execution_count": 161
  },
  {
   "cell_type": "code",
   "outputs": [
    {
     "data": {
      "text/plain": "         Date    StartingHour      EndingHour  WorkingHours\n0  31-05-2024 0 days 00:00:00 0 days 00:00:00           0.0\n1  01-06-2024 0 days 07:00:00 0 days 17:00:00          10.0\n2  02-06-2024 0 days 07:00:00 0 days 17:00:00          10.0\n3  03-06-2024 0 days 07:00:00 0 days 17:00:00          10.0\n4  04-06-2024 0 days 07:00:00 0 days 17:00:00          10.0",
      "text/html": "<div>\n<style scoped>\n    .dataframe tbody tr th:only-of-type {\n        vertical-align: middle;\n    }\n\n    .dataframe tbody tr th {\n        vertical-align: top;\n    }\n\n    .dataframe thead th {\n        text-align: right;\n    }\n</style>\n<table border=\"1\" class=\"dataframe\">\n  <thead>\n    <tr style=\"text-align: right;\">\n      <th></th>\n      <th>Date</th>\n      <th>StartingHour</th>\n      <th>EndingHour</th>\n      <th>WorkingHours</th>\n    </tr>\n  </thead>\n  <tbody>\n    <tr>\n      <th>0</th>\n      <td>31-05-2024</td>\n      <td>0 days 00:00:00</td>\n      <td>0 days 00:00:00</td>\n      <td>0.0</td>\n    </tr>\n    <tr>\n      <th>1</th>\n      <td>01-06-2024</td>\n      <td>0 days 07:00:00</td>\n      <td>0 days 17:00:00</td>\n      <td>10.0</td>\n    </tr>\n    <tr>\n      <th>2</th>\n      <td>02-06-2024</td>\n      <td>0 days 07:00:00</td>\n      <td>0 days 17:00:00</td>\n      <td>10.0</td>\n    </tr>\n    <tr>\n      <th>3</th>\n      <td>03-06-2024</td>\n      <td>0 days 07:00:00</td>\n      <td>0 days 17:00:00</td>\n      <td>10.0</td>\n    </tr>\n    <tr>\n      <th>4</th>\n      <td>04-06-2024</td>\n      <td>0 days 07:00:00</td>\n      <td>0 days 17:00:00</td>\n      <td>10.0</td>\n    </tr>\n  </tbody>\n</table>\n</div>"
     },
     "execution_count": 162,
     "metadata": {},
     "output_type": "execute_result"
    }
   ],
   "source": [
    "# Function to format time string\n",
    "def format_time_string(time_string):\n",
    "    parts = time_string.split(\":\")\n",
    "    \n",
    "    # Correct the hours format\n",
    "    if len(parts[0]) == 1:\n",
    "        parts[0] = \"0\" + parts[0]\n",
    "\n",
    "    # Appending :00 if it's missing\n",
    "    if len(parts) == 2:\n",
    "        parts.append('00')\n",
    "    \n",
    "    return \":\".join(parts)\n",
    "\n",
    "# Apply the function to 'StartingHour' and 'EndingHour' columns\n",
    "Calendar_df['StartingHour'] = Calendar_df['StartingHour'].apply(format_time_string)\n",
    "Calendar_df['EndingHour'] = Calendar_df['EndingHour'].apply(format_time_string)\n",
    "\n",
    "# Then proceed with the conversion\n",
    "Calendar_df['StartingHour'] = pd.to_timedelta(Calendar_df['StartingHour'])\n",
    "Calendar_df['EndingHour'] = pd.to_timedelta(Calendar_df['EndingHour'])\n",
    "\n",
    "# Create 'WorkingHours' column as the difference between 'EndingHour' and 'StartingHour', convert to seconds, then to hours\n",
    "Calendar_df['WorkingHours'] = ((Calendar_df['EndingHour'] - Calendar_df['StartingHour']) / pd.Timedelta(hours=1)).abs()\n",
    "\n",
    "Calendar_df.head()"
   ],
   "metadata": {
    "collapsed": false,
    "ExecuteTime": {
     "end_time": "2024-08-03T11:13:58.518253600Z",
     "start_time": "2024-08-03T11:13:58.503155800Z"
    }
   },
   "id": "829d9154119b5ec8",
   "execution_count": 162
  },
  {
   "cell_type": "code",
   "outputs": [
    {
     "data": {
      "text/plain": "          Date    StartingHour      EndingHour  WorkingHours\n0   31-05-2024 0 days 00:00:00 0 days 00:00:00           0.0\n1   01-06-2024 0 days 07:00:00 0 days 17:00:00          10.0\n2   02-06-2024 0 days 07:00:00 0 days 17:00:00          10.0\n3   03-06-2024 0 days 07:00:00 0 days 17:00:00          10.0\n4   04-06-2024 0 days 07:00:00 0 days 17:00:00          10.0\n5   05-06-2024 0 days 07:00:00 0 days 17:00:00          10.0\n6   06-06-2024 0 days 07:00:00 0 days 17:00:00          10.0\n7   07-06-2024 0 days 00:00:00 0 days 00:00:00           0.0\n8   08-06-2024 0 days 07:00:00 0 days 17:00:00          10.0\n9   09-06-2024 0 days 07:00:00 0 days 17:00:00          10.0\n10  10-06-2024 0 days 07:00:00 0 days 17:00:00          10.0\n11  11-06-2024 0 days 07:00:00 0 days 17:00:00          10.0",
      "text/html": "<div>\n<style scoped>\n    .dataframe tbody tr th:only-of-type {\n        vertical-align: middle;\n    }\n\n    .dataframe tbody tr th {\n        vertical-align: top;\n    }\n\n    .dataframe thead th {\n        text-align: right;\n    }\n</style>\n<table border=\"1\" class=\"dataframe\">\n  <thead>\n    <tr style=\"text-align: right;\">\n      <th></th>\n      <th>Date</th>\n      <th>StartingHour</th>\n      <th>EndingHour</th>\n      <th>WorkingHours</th>\n    </tr>\n  </thead>\n  <tbody>\n    <tr>\n      <th>0</th>\n      <td>31-05-2024</td>\n      <td>0 days 00:00:00</td>\n      <td>0 days 00:00:00</td>\n      <td>0.0</td>\n    </tr>\n    <tr>\n      <th>1</th>\n      <td>01-06-2024</td>\n      <td>0 days 07:00:00</td>\n      <td>0 days 17:00:00</td>\n      <td>10.0</td>\n    </tr>\n    <tr>\n      <th>2</th>\n      <td>02-06-2024</td>\n      <td>0 days 07:00:00</td>\n      <td>0 days 17:00:00</td>\n      <td>10.0</td>\n    </tr>\n    <tr>\n      <th>3</th>\n      <td>03-06-2024</td>\n      <td>0 days 07:00:00</td>\n      <td>0 days 17:00:00</td>\n      <td>10.0</td>\n    </tr>\n    <tr>\n      <th>4</th>\n      <td>04-06-2024</td>\n      <td>0 days 07:00:00</td>\n      <td>0 days 17:00:00</td>\n      <td>10.0</td>\n    </tr>\n    <tr>\n      <th>5</th>\n      <td>05-06-2024</td>\n      <td>0 days 07:00:00</td>\n      <td>0 days 17:00:00</td>\n      <td>10.0</td>\n    </tr>\n    <tr>\n      <th>6</th>\n      <td>06-06-2024</td>\n      <td>0 days 07:00:00</td>\n      <td>0 days 17:00:00</td>\n      <td>10.0</td>\n    </tr>\n    <tr>\n      <th>7</th>\n      <td>07-06-2024</td>\n      <td>0 days 00:00:00</td>\n      <td>0 days 00:00:00</td>\n      <td>0.0</td>\n    </tr>\n    <tr>\n      <th>8</th>\n      <td>08-06-2024</td>\n      <td>0 days 07:00:00</td>\n      <td>0 days 17:00:00</td>\n      <td>10.0</td>\n    </tr>\n    <tr>\n      <th>9</th>\n      <td>09-06-2024</td>\n      <td>0 days 07:00:00</td>\n      <td>0 days 17:00:00</td>\n      <td>10.0</td>\n    </tr>\n    <tr>\n      <th>10</th>\n      <td>10-06-2024</td>\n      <td>0 days 07:00:00</td>\n      <td>0 days 17:00:00</td>\n      <td>10.0</td>\n    </tr>\n    <tr>\n      <th>11</th>\n      <td>11-06-2024</td>\n      <td>0 days 07:00:00</td>\n      <td>0 days 17:00:00</td>\n      <td>10.0</td>\n    </tr>\n  </tbody>\n</table>\n</div>"
     },
     "execution_count": 163,
     "metadata": {},
     "output_type": "execute_result"
    }
   ],
   "source": [
    "Calendar_df"
   ],
   "metadata": {
    "collapsed": false,
    "ExecuteTime": {
     "end_time": "2024-08-03T11:14:09.551007300Z",
     "start_time": "2024-08-03T11:14:09.534256600Z"
    }
   },
   "id": "5ee8487227efa32a",
   "execution_count": 163
  },
  {
   "cell_type": "code",
   "outputs": [],
   "source": [],
   "metadata": {
    "collapsed": false
   },
   "id": "2c11eca723340d51"
  }
 ],
 "metadata": {
  "kernelspec": {
   "display_name": "Python 3",
   "language": "python",
   "name": "python3"
  },
  "language_info": {
   "codemirror_mode": {
    "name": "ipython",
    "version": 2
   },
   "file_extension": ".py",
   "mimetype": "text/x-python",
   "name": "python",
   "nbconvert_exporter": "python",
   "pygments_lexer": "ipython2",
   "version": "2.7.6"
  }
 },
 "nbformat": 4,
 "nbformat_minor": 5
}
