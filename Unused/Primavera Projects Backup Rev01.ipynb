{
 "cells": [
  {
   "cell_type": "code",
   "outputs": [
    {
     "name": "stderr",
     "output_type": "stream",
     "text": [
      "C:\\Users\\IEC\\AppData\\Local\\Temp\\ipykernel_17236\\2253645646.py:1: DeprecationWarning: \n",
      "Pyarrow will become a required dependency of pandas in the next major release of pandas (pandas 3.0),\n",
      "(to allow more performant data types, such as the Arrow string type, and better interoperability with other libraries)\n",
      "but was not found to be installed on your system.\n",
      "If this would cause problems for you,\n",
      "please provide us feedback at https://github.com/pandas-dev/pandas/issues/54466\n",
      "        \n",
      "  import pandas as pd\n",
      "C:\\Users\\IEC\\AppData\\Local\\Temp\\ipykernel_17236\\2253645646.py:30: FutureWarning: The behavior of DataFrame concatenation with empty or all-NA entries is deprecated. In a future version, this will no longer exclude empty or all-NA columns when determining the result dtypes. To retain the old behavior, exclude the relevant entries before the concat operation.\n",
      "  df_project = pd.concat(dfs)\n"
     ]
    },
    {
     "name": "stdout",
     "output_type": "stream",
     "text": [
      "      proj_id_x  fy_start_month_num chng_eff_cmp_pct_flag rsrc_self_add_flag  \\\n",
      "0          7670                   1                     N                  Y   \n",
      "1           730                   1                     N                  Y   \n",
      "2          7620                   1                     N                  Y   \n",
      "3          1958                   1                     N                  Y   \n",
      "4          2058                   1                     N                  Y   \n",
      "...         ...                 ...                   ...                ...   \n",
      "1130      30704                   1                     N                  Y   \n",
      "1131      30963                   1                     N                  Y   \n",
      "1132      31379                   1                     N                  Y   \n",
      "1133      31382                   1                     N                  Y   \n",
      "1134      32051                   1                     N                  Y   \n",
      "\n",
      "     allow_complete_flag rsrc_multi_assign_flag checkout_flag project_flag  \\\n",
      "0                      Y                      Y             N            Y   \n",
      "1                      Y                      Y             N            Y   \n",
      "2                      Y                      Y             N            Y   \n",
      "3                      Y                      Y             N            Y   \n",
      "4                      Y                      Y             N            Y   \n",
      "...                  ...                    ...           ...          ...   \n",
      "1130                   Y                      Y             N            Y   \n",
      "1131                   Y                      Y             N            Y   \n",
      "1132                   Y                      Y             N            Y   \n",
      "1133                   Y                      Y             N            Y   \n",
      "1134                   Y                      Y             N            Y   \n",
      "\n",
      "     step_complete_flag cost_qty_recalc_flag  ...         update_date  \\\n",
      "0                     N                    N  ... 2023-02-18 14:11:30   \n",
      "1                     N                    N  ... 2023-11-14 12:23:56   \n",
      "2                     N                    N  ... 2023-02-18 14:12:14   \n",
      "3                     N                    N  ... 2023-11-07 13:21:41   \n",
      "4                     N                    N  ... 2022-10-30 15:35:15   \n",
      "...                 ...                  ...  ...                 ...   \n",
      "1130                  N                    N  ... 2024-01-30 09:45:44   \n",
      "1131                  N                    N  ... 2024-02-12 15:39:19   \n",
      "1132                  N                    N  ... 2024-02-08 13:41:51   \n",
      "1133                  N                    N  ... 2024-02-08 13:51:48   \n",
      "1134                  N                    N  ... 2024-02-12 15:55:17   \n",
      "\n",
      "     update_user         create_date create_user delete_session_id  \\\n",
      "0          admin 2023-02-18 14:11:02       admin               NaN   \n",
      "1          admin 2022-08-31 13:28:34       admin               NaN   \n",
      "2          admin 2023-02-18 14:10:38       admin               NaN   \n",
      "3          admin 2022-10-30 14:37:42       admin               NaN   \n",
      "4          admin 2022-10-30 15:16:05       admin               NaN   \n",
      "...          ...                 ...         ...               ...   \n",
      "1130       admin 2024-01-30 09:45:19       admin               NaN   \n",
      "1131       admin 2024-02-04 13:19:36       admin             821.0   \n",
      "1132       admin 2024-02-08 13:41:45       admin               NaN   \n",
      "1133       admin 2024-02-08 13:51:41       admin               NaN   \n",
      "1134       admin 2024-02-12 15:54:42       admin               NaN   \n",
      "\n",
      "             delete_date  proj_id_y  \\\n",
      "0                    NaT        NaN   \n",
      "1                    NaT        NaN   \n",
      "2                    NaT     7670.0   \n",
      "3                    NaT        NaN   \n",
      "4                    NaT        NaN   \n",
      "...                  ...        ...   \n",
      "1130                 NaT        NaN   \n",
      "1131 2024-02-12 15:39:19        NaN   \n",
      "1132                 NaT        NaN   \n",
      "1133                 NaT        NaN   \n",
      "1134                 NaT        NaN   \n",
      "\n",
      "                                             wbs_name_x  proj_id  \\\n",
      "0                                                   NaN     7670   \n",
      "1                                                   NaN      730   \n",
      "2     Jadidat Arar Land Port Backup Power Supply Pro...     7620   \n",
      "3                                                   NaN     1958   \n",
      "4                                                   NaN     2058   \n",
      "...                                                 ...      ...   \n",
      "1130                                                NaN    30704   \n",
      "1131                                                NaN    30963   \n",
      "1132                                                NaN    31379   \n",
      "1133                                                NaN    31382   \n",
      "1134                                                NaN    32051   \n",
      "\n",
      "                                             wbs_name_y  \n",
      "0     Jadidat Arar Land Port Backup Power Supply Pro...  \n",
      "1                    Housing project baseline (PYSICAL)  \n",
      "2     Jadidat Arar Land Port Backup Power Supply Pro...  \n",
      "3     WTP Baseline - Aconex rev02 submitted 21-08-20...  \n",
      "4         Aconex rev01A submitted 30-07-2022 Terminated  \n",
      "...                                                 ...  \n",
      "1130                               Forcast_Schedule_004  \n",
      "1131  Visual Improvement for Jadidat Arar Port Proje...  \n",
      "1132                              Housing Baseline - B1  \n",
      "1133  2130 Power Project Arar Recovery Schedule 27-4...  \n",
      "1134                               Forcast_Schedule_004  \n",
      "\n",
      "[1135 rows x 87 columns]\n"
     ]
    }
   ],
   "source": [
    "import pandas as pd\n",
    "from sqlalchemy import create_engine\n",
    "\n",
    "def chunker(seq, size):\n",
    "    return (seq[pos:pos + size] for pos in range(0, len(seq), size))\n",
    "\n",
    "username = \"ADMPRM$PM\"\n",
    "password = \"Prima123Vera\"\n",
    "host = \"localhost\"\n",
    "port = 1521\n",
    "service_name = \"XE\"\n",
    "dsn = f\"oracle+cx_oracle://{username}:{password}@{host}:{port}/{service_name}\"\n",
    "engine = create_engine(dsn)\n",
    "\n",
    "# get unique proj_id from TASK\n",
    "with engine.begin() as connection:\n",
    "    task_proj_id = pd.read_sql(\"SELECT DISTINCT proj_id FROM TASK\", con=connection)\n",
    "\n",
    "# filter PROJECT according to the result\n",
    "proj_filter = task_proj_id['proj_id'].tolist()\n",
    "chunked_filter = list(chunker(proj_filter, 1000))\n",
    "dfs = []\n",
    "\n",
    "for chunk in chunked_filter:\n",
    "    proj_filter_string = \", \".join(map(str, chunk))\n",
    "    with engine.begin() as connection:\n",
    "        df_chunk = pd.read_sql(f\"SELECT * FROM PROJECT WHERE proj_id IN ({proj_filter_string})\", con=connection)\n",
    "    dfs.append(df_chunk)\n",
    "\n",
    "df_project = pd.concat(dfs)\n",
    "\n",
    "# get WBS_NAME with minimum WBS_ID where proj_id of the PROJWBS table matches SUM_BASE_PROJ_ID of the filtered PROJECT table\n",
    "with engine.begin() as connection:\n",
    "    df_wbs = pd.read_sql(\"SELECT proj_id, WBS_NAME FROM (SELECT proj_id, WBS_NAME, RANK() OVER (PARTITION BY proj_id ORDER BY WBS_ID ASC) rank FROM PROJWBS) WHERE rank = 1\", con=connection)\n",
    "\n",
    "# add the resulting WBS_NAME to the PROJECT table with the name \"Baseline_Project_Name\"\n",
    "df_project = df_project.merge(df_wbs, left_on='sum_base_proj_id', right_on='proj_id', how='left')\n",
    "df_project.rename(columns={'WBS_NAME': 'Baseline_Project_Name'}, inplace=True)\n",
    "\n",
    "# repeat the steps to add WBS_NAME as \"Project_Name\"\n",
    "with engine.begin() as connection:\n",
    "    df_wbs_project = pd.read_sql(\"SELECT proj_id, WBS_NAME FROM (SELECT proj_id, WBS_NAME, RANK() OVER (PARTITION BY proj_id ORDER BY WBS_ID ASC) rank FROM PROJWBS) WHERE rank = 1\", con=connection)\n",
    "\n",
    "df_project = df_project.merge(df_wbs_project, left_on='proj_id_x', right_on='proj_id', how='left')\n",
    "df_project.rename(columns={'WBS_NAME': 'Project_Name'}, inplace=True)\n",
    "\n",
    "print(df_project)"
   ],
   "metadata": {
    "collapsed": false,
    "ExecuteTime": {
     "end_time": "2024-02-14T09:45:23.441713400Z",
     "start_time": "2024-02-14T09:45:15.934599100Z"
    }
   },
   "id": "a1a9f5f7acc576f2",
   "execution_count": 1
  },
  {
   "cell_type": "code",
   "outputs": [],
   "source": [
    "df_project_list = df_project[['proj_id_x', 'proj_short_name', 'sum_base_proj_id', 'proj_id_y', 'wbs_name_x', 'proj_id', 'wbs_name_y']]"
   ],
   "metadata": {
    "collapsed": false,
    "ExecuteTime": {
     "end_time": "2024-02-14T09:53:00.226414300Z",
     "start_time": "2024-02-14T09:53:00.124218100Z"
    }
   },
   "id": "fff6a308e55fc35e",
   "execution_count": 3
  },
  {
   "cell_type": "code",
   "outputs": [
    {
     "data": {
      "text/plain": "      proj_id_x                          proj_short_name  sum_base_proj_id  \\\n0          7670                                    AR-10               NaN   \n1           730                                    B-L-H               NaN   \n2          7620                                     AR-7            7670.0   \n3          1958                                      A02               NaN   \n4          2058                                     A01A               NaN   \n...         ...                                      ...               ...   \n1130      30704                   Forcast_Schedule_004-2               NaN   \n1131      30963  1/^^f5>Dz]7N@i4nXs4GIcc)[W6VT/C9QQJ^Iw{               NaN   \n1132      31379                               RfP-7 - B2               NaN   \n1133      31382                               AR-45 - B1               NaN   \n1134      32051                   Forcast_Schedule_004-4               NaN   \n\n      proj_id_y                                         wbs_name_x  proj_id  \\\n0           NaN                                                NaN     7670   \n1           NaN                                                NaN      730   \n2        7670.0  Jadidat Arar Land Port Backup Power Supply Pro...     7620   \n3           NaN                                                NaN     1958   \n4           NaN                                                NaN     2058   \n...         ...                                                ...      ...   \n1130        NaN                                                NaN    30704   \n1131        NaN                                                NaN    30963   \n1132        NaN                                                NaN    31379   \n1133        NaN                                                NaN    31382   \n1134        NaN                                                NaN    32051   \n\n                                             wbs_name_y  \n0     Jadidat Arar Land Port Backup Power Supply Pro...  \n1                    Housing project baseline (PYSICAL)  \n2     Jadidat Arar Land Port Backup Power Supply Pro...  \n3     WTP Baseline - Aconex rev02 submitted 21-08-20...  \n4         Aconex rev01A submitted 30-07-2022 Terminated  \n...                                                 ...  \n1130                               Forcast_Schedule_004  \n1131  Visual Improvement for Jadidat Arar Port Proje...  \n1132                              Housing Baseline - B1  \n1133  2130 Power Project Arar Recovery Schedule 27-4...  \n1134                               Forcast_Schedule_004  \n\n[1135 rows x 7 columns]",
      "text/html": "<div>\n<style scoped>\n    .dataframe tbody tr th:only-of-type {\n        vertical-align: middle;\n    }\n\n    .dataframe tbody tr th {\n        vertical-align: top;\n    }\n\n    .dataframe thead th {\n        text-align: right;\n    }\n</style>\n<table border=\"1\" class=\"dataframe\">\n  <thead>\n    <tr style=\"text-align: right;\">\n      <th></th>\n      <th>proj_id_x</th>\n      <th>proj_short_name</th>\n      <th>sum_base_proj_id</th>\n      <th>proj_id_y</th>\n      <th>wbs_name_x</th>\n      <th>proj_id</th>\n      <th>wbs_name_y</th>\n    </tr>\n  </thead>\n  <tbody>\n    <tr>\n      <th>0</th>\n      <td>7670</td>\n      <td>AR-10</td>\n      <td>NaN</td>\n      <td>NaN</td>\n      <td>NaN</td>\n      <td>7670</td>\n      <td>Jadidat Arar Land Port Backup Power Supply Pro...</td>\n    </tr>\n    <tr>\n      <th>1</th>\n      <td>730</td>\n      <td>B-L-H</td>\n      <td>NaN</td>\n      <td>NaN</td>\n      <td>NaN</td>\n      <td>730</td>\n      <td>Housing project baseline (PYSICAL)</td>\n    </tr>\n    <tr>\n      <th>2</th>\n      <td>7620</td>\n      <td>AR-7</td>\n      <td>7670.0</td>\n      <td>7670.0</td>\n      <td>Jadidat Arar Land Port Backup Power Supply Pro...</td>\n      <td>7620</td>\n      <td>Jadidat Arar Land Port Backup Power Supply Pro...</td>\n    </tr>\n    <tr>\n      <th>3</th>\n      <td>1958</td>\n      <td>A02</td>\n      <td>NaN</td>\n      <td>NaN</td>\n      <td>NaN</td>\n      <td>1958</td>\n      <td>WTP Baseline - Aconex rev02 submitted 21-08-20...</td>\n    </tr>\n    <tr>\n      <th>4</th>\n      <td>2058</td>\n      <td>A01A</td>\n      <td>NaN</td>\n      <td>NaN</td>\n      <td>NaN</td>\n      <td>2058</td>\n      <td>Aconex rev01A submitted 30-07-2022 Terminated</td>\n    </tr>\n    <tr>\n      <th>...</th>\n      <td>...</td>\n      <td>...</td>\n      <td>...</td>\n      <td>...</td>\n      <td>...</td>\n      <td>...</td>\n      <td>...</td>\n    </tr>\n    <tr>\n      <th>1130</th>\n      <td>30704</td>\n      <td>Forcast_Schedule_004-2</td>\n      <td>NaN</td>\n      <td>NaN</td>\n      <td>NaN</td>\n      <td>30704</td>\n      <td>Forcast_Schedule_004</td>\n    </tr>\n    <tr>\n      <th>1131</th>\n      <td>30963</td>\n      <td>1/^^f5&gt;Dz]7N@i4nXs4GIcc)[W6VT/C9QQJ^Iw{</td>\n      <td>NaN</td>\n      <td>NaN</td>\n      <td>NaN</td>\n      <td>30963</td>\n      <td>Visual Improvement for Jadidat Arar Port Proje...</td>\n    </tr>\n    <tr>\n      <th>1132</th>\n      <td>31379</td>\n      <td>RfP-7 - B2</td>\n      <td>NaN</td>\n      <td>NaN</td>\n      <td>NaN</td>\n      <td>31379</td>\n      <td>Housing Baseline - B1</td>\n    </tr>\n    <tr>\n      <th>1133</th>\n      <td>31382</td>\n      <td>AR-45 - B1</td>\n      <td>NaN</td>\n      <td>NaN</td>\n      <td>NaN</td>\n      <td>31382</td>\n      <td>2130 Power Project Arar Recovery Schedule 27-4...</td>\n    </tr>\n    <tr>\n      <th>1134</th>\n      <td>32051</td>\n      <td>Forcast_Schedule_004-4</td>\n      <td>NaN</td>\n      <td>NaN</td>\n      <td>NaN</td>\n      <td>32051</td>\n      <td>Forcast_Schedule_004</td>\n    </tr>\n  </tbody>\n</table>\n<p>1135 rows × 7 columns</p>\n</div>"
     },
     "execution_count": 4,
     "metadata": {},
     "output_type": "execute_result"
    }
   ],
   "source": [
    "df_project_list"
   ],
   "metadata": {
    "collapsed": false,
    "ExecuteTime": {
     "end_time": "2024-02-14T09:53:06.434856100Z",
     "start_time": "2024-02-14T09:53:06.341624300Z"
    }
   },
   "id": "eb3b73d39fdc546b",
   "execution_count": 4
  },
  {
   "cell_type": "code",
   "outputs": [],
   "source": [],
   "metadata": {
    "collapsed": false
   },
   "id": "1ff0d0ed5e6ff69a"
  },
  {
   "cell_type": "code",
   "outputs": [],
   "source": [
    "import pandas as pd\n",
    "\n",
    "# File and sheet names\n",
    "filename = 'Project_List.xlsx'\n",
    "sheetname = 'Project_List'\n",
    "\n",
    "# Load the sheet into a DataFrame\n",
    "project_list_df = pd.read_excel(filename, sheet_name=sheetname)"
   ],
   "metadata": {
    "collapsed": false,
    "ExecuteTime": {
     "end_time": "2024-02-14T10:10:06.791781500Z",
     "start_time": "2024-02-14T10:10:06.683236Z"
    }
   },
   "id": "3a04a96fb6853f9c",
   "execution_count": 8
  },
  {
   "cell_type": "code",
   "outputs": [
    {
     "data": {
      "text/plain": "      PROJECT_ID  BASELINE_PROJECT_ID  \\\n0           7670                  NaN   \n1            730                  NaN   \n2           7620               7670.0   \n3           1958                  NaN   \n4           2058                  NaN   \n...          ...                  ...   \n1130       30704                  NaN   \n1131       30963                  NaN   \n1132       31379                  NaN   \n1133       31382                  NaN   \n1134       32051                  NaN   \n\n                           PROJECT_SHORT_NAME  \\\n0                                       AR-10   \n1                                       B-L-H   \n2                                        AR-7   \n3                                         A02   \n4                                        A01A   \n...                                       ...   \n1130                   Forcast_Schedule_004-2   \n1131  1/^^f5>Dz]7N@i4nXs4GIcc)[W6VT/C9QQJ^Iw{   \n1132                               RfP-7 - B2   \n1133                               AR-45 - B1   \n1134                   Forcast_Schedule_004-4   \n\n                                  BASELINE_PROJECT_NAME  \\\n0                                                   NaN   \n1                                                   NaN   \n2     Jadidat Arar Land Port Backup Power Supply Pro...   \n3                                                   NaN   \n4                                                   NaN   \n...                                                 ...   \n1130                                                NaN   \n1131                                                NaN   \n1132                                                NaN   \n1133                                                NaN   \n1134                                                NaN   \n\n                                           PROJECT_NAME  \n0     Jadidat Arar Land Port Backup Power Supply Pro...  \n1                    Housing project baseline (PYSICAL)  \n2     Jadidat Arar Land Port Backup Power Supply Pro...  \n3     WTP Baseline - Aconex rev02 submitted 21-08-20...  \n4         Aconex rev01A submitted 30-07-2022 Terminated  \n...                                                 ...  \n1130                               Forcast_Schedule_004  \n1131  Visual Improvement for Jadidat Arar Port Proje...  \n1132                              Housing Baseline - B1  \n1133  2130 Power Project Arar Recovery Schedule 27-4...  \n1134                               Forcast_Schedule_004  \n\n[1135 rows x 5 columns]",
      "text/html": "<div>\n<style scoped>\n    .dataframe tbody tr th:only-of-type {\n        vertical-align: middle;\n    }\n\n    .dataframe tbody tr th {\n        vertical-align: top;\n    }\n\n    .dataframe thead th {\n        text-align: right;\n    }\n</style>\n<table border=\"1\" class=\"dataframe\">\n  <thead>\n    <tr style=\"text-align: right;\">\n      <th></th>\n      <th>PROJECT_ID</th>\n      <th>BASELINE_PROJECT_ID</th>\n      <th>PROJECT_SHORT_NAME</th>\n      <th>BASELINE_PROJECT_NAME</th>\n      <th>PROJECT_NAME</th>\n    </tr>\n  </thead>\n  <tbody>\n    <tr>\n      <th>0</th>\n      <td>7670</td>\n      <td>NaN</td>\n      <td>AR-10</td>\n      <td>NaN</td>\n      <td>Jadidat Arar Land Port Backup Power Supply Pro...</td>\n    </tr>\n    <tr>\n      <th>1</th>\n      <td>730</td>\n      <td>NaN</td>\n      <td>B-L-H</td>\n      <td>NaN</td>\n      <td>Housing project baseline (PYSICAL)</td>\n    </tr>\n    <tr>\n      <th>2</th>\n      <td>7620</td>\n      <td>7670.0</td>\n      <td>AR-7</td>\n      <td>Jadidat Arar Land Port Backup Power Supply Pro...</td>\n      <td>Jadidat Arar Land Port Backup Power Supply Pro...</td>\n    </tr>\n    <tr>\n      <th>3</th>\n      <td>1958</td>\n      <td>NaN</td>\n      <td>A02</td>\n      <td>NaN</td>\n      <td>WTP Baseline - Aconex rev02 submitted 21-08-20...</td>\n    </tr>\n    <tr>\n      <th>4</th>\n      <td>2058</td>\n      <td>NaN</td>\n      <td>A01A</td>\n      <td>NaN</td>\n      <td>Aconex rev01A submitted 30-07-2022 Terminated</td>\n    </tr>\n    <tr>\n      <th>...</th>\n      <td>...</td>\n      <td>...</td>\n      <td>...</td>\n      <td>...</td>\n      <td>...</td>\n    </tr>\n    <tr>\n      <th>1130</th>\n      <td>30704</td>\n      <td>NaN</td>\n      <td>Forcast_Schedule_004-2</td>\n      <td>NaN</td>\n      <td>Forcast_Schedule_004</td>\n    </tr>\n    <tr>\n      <th>1131</th>\n      <td>30963</td>\n      <td>NaN</td>\n      <td>1/^^f5&gt;Dz]7N@i4nXs4GIcc)[W6VT/C9QQJ^Iw{</td>\n      <td>NaN</td>\n      <td>Visual Improvement for Jadidat Arar Port Proje...</td>\n    </tr>\n    <tr>\n      <th>1132</th>\n      <td>31379</td>\n      <td>NaN</td>\n      <td>RfP-7 - B2</td>\n      <td>NaN</td>\n      <td>Housing Baseline - B1</td>\n    </tr>\n    <tr>\n      <th>1133</th>\n      <td>31382</td>\n      <td>NaN</td>\n      <td>AR-45 - B1</td>\n      <td>NaN</td>\n      <td>2130 Power Project Arar Recovery Schedule 27-4...</td>\n    </tr>\n    <tr>\n      <th>1134</th>\n      <td>32051</td>\n      <td>NaN</td>\n      <td>Forcast_Schedule_004-4</td>\n      <td>NaN</td>\n      <td>Forcast_Schedule_004</td>\n    </tr>\n  </tbody>\n</table>\n<p>1135 rows × 5 columns</p>\n</div>"
     },
     "execution_count": 9,
     "metadata": {},
     "output_type": "execute_result"
    }
   ],
   "source": [
    "project_list_df"
   ],
   "metadata": {
    "collapsed": false,
    "ExecuteTime": {
     "end_time": "2024-02-14T10:10:12.703648900Z",
     "start_time": "2024-02-14T10:10:12.700914300Z"
    }
   },
   "id": "e598be69dea5fe4b",
   "execution_count": 9
  },
  {
   "cell_type": "code",
   "outputs": [],
   "source": [
    "import pandas as pd\n",
    "import numpy as np\n",
    "\n",
    "# Assuming df is your DataFrame\n",
    "filename = 'Project_List.xlsx'\n",
    "sheetname = 'Project_List'\n",
    "df = pd.read_excel(filename, sheet_name=sheetname)\n",
    "\n",
    "# Ensure BASELINE_PROJECT_ID has the same type as PROJECT_ID\n",
    "df['BASELINE_PROJECT_ID'] = df['BASELINE_PROJECT_ID'].fillna(-1).astype(int)\n",
    "\n",
    "# Prepare Update_df\n",
    "Update_df = df[df['BASELINE_PROJECT_ID'] != -1]\n",
    "\n",
    "# Prepare Baseline_Copy_df\n",
    "Baseline_Copy_df = df[df['PROJECT_ID'].isin(Update_df['BASELINE_PROJECT_ID'])]\n",
    "\n",
    "# Prepare Projects_df\n",
    "Projects_df = df[~df.index.isin(Update_df.index.union(Baseline_Copy_df.index))]"
   ],
   "metadata": {
    "collapsed": false,
    "ExecuteTime": {
     "end_time": "2024-02-14T11:33:12.739501800Z",
     "start_time": "2024-02-14T11:33:12.571782800Z"
    }
   },
   "id": "2a989d44f014c989",
   "execution_count": 11
  },
  {
   "cell_type": "code",
   "outputs": [
    {
     "data": {
      "text/plain": "      PROJECT_ID  BASELINE_PROJECT_ID      PROJECT_SHORT_NAME  \\\n2           7620                 7670                    AR-7   \n5           2109                 2110                   A02-1   \n7           2111                 2112                ARHAJJ-9   \n9           7671                 7721                   AR-11   \n11           423                  526                    UP-R   \n...          ...                  ...                     ...   \n1111       26411                26461  RW-04-ALPR-RVBLLLLLL-9   \n1116       27907                27957             2059RV01-22   \n1122       28528                28578     2057RV00A211223R00S   \n1123       28630                28680      19SACG00004-R2-101   \n1129       30550                30600     2057RV00A250124R00S   \n\n                                  BASELINE_PROJECT_NAME  \\\n2     Jadidat Arar Land Port Backup Power Supply Pro...   \n5     Aconex rev02 submitted 21-08-2022 Approved 24-...   \n7                                Pilgrims Baseline - B1   \n9     Jadidat Arar Land Port Backup Power Supply Pro...   \n11    HIGHWAY EXPANSION BETWEEN IRAQI and SAUDI BORD...   \n...                                                 ...   \n1111  Arar Land Port Fire Fighting Revised Schedule ...   \n1116  WTP - Revised Schedule Rev00 - Recovery 19-10-...   \n1122  2057 - ARAR HIGHWAY - REVISED Rev00 - 02-11-20...   \n1123  Revised Schedule For Housing Project Finish da...   \n1129  2057 - ARAR HIGHWAY - REVISED Rev00 - 02-11-20...   \n\n                                           PROJECT_NAME  \n2     Jadidat Arar Land Port Backup Power Supply Pro...  \n5     Aconex rev02 submitted 21-08-2022 Approved 24-...  \n7                                     Update 26-10-2022  \n9     Jadidat Arar Land Port Backup Power Supply Pro...  \n11    Highway expansion between iraqi and saudi bord...  \n...                                                 ...  \n1111  Arar Land Port & Residential Area Fire Fightin...  \n1116  WTP - Revised Schedule Rev00 -  Update 07-12-2023  \n1122  2057 - ARAR HIGHWAY - REVISED Rev00 - 02-11-20...  \n1123                 Housing project update  21-12-2023  \n1129  2057 - ARAR HIGHWAY - REVISED Rev00 - 02-11-20...  \n\n[406 rows x 5 columns]",
      "text/html": "<div>\n<style scoped>\n    .dataframe tbody tr th:only-of-type {\n        vertical-align: middle;\n    }\n\n    .dataframe tbody tr th {\n        vertical-align: top;\n    }\n\n    .dataframe thead th {\n        text-align: right;\n    }\n</style>\n<table border=\"1\" class=\"dataframe\">\n  <thead>\n    <tr style=\"text-align: right;\">\n      <th></th>\n      <th>PROJECT_ID</th>\n      <th>BASELINE_PROJECT_ID</th>\n      <th>PROJECT_SHORT_NAME</th>\n      <th>BASELINE_PROJECT_NAME</th>\n      <th>PROJECT_NAME</th>\n    </tr>\n  </thead>\n  <tbody>\n    <tr>\n      <th>2</th>\n      <td>7620</td>\n      <td>7670</td>\n      <td>AR-7</td>\n      <td>Jadidat Arar Land Port Backup Power Supply Pro...</td>\n      <td>Jadidat Arar Land Port Backup Power Supply Pro...</td>\n    </tr>\n    <tr>\n      <th>5</th>\n      <td>2109</td>\n      <td>2110</td>\n      <td>A02-1</td>\n      <td>Aconex rev02 submitted 21-08-2022 Approved 24-...</td>\n      <td>Aconex rev02 submitted 21-08-2022 Approved 24-...</td>\n    </tr>\n    <tr>\n      <th>7</th>\n      <td>2111</td>\n      <td>2112</td>\n      <td>ARHAJJ-9</td>\n      <td>Pilgrims Baseline - B1</td>\n      <td>Update 26-10-2022</td>\n    </tr>\n    <tr>\n      <th>9</th>\n      <td>7671</td>\n      <td>7721</td>\n      <td>AR-11</td>\n      <td>Jadidat Arar Land Port Backup Power Supply Pro...</td>\n      <td>Jadidat Arar Land Port Backup Power Supply Pro...</td>\n    </tr>\n    <tr>\n      <th>11</th>\n      <td>423</td>\n      <td>526</td>\n      <td>UP-R</td>\n      <td>HIGHWAY EXPANSION BETWEEN IRAQI and SAUDI BORD...</td>\n      <td>Highway expansion between iraqi and saudi bord...</td>\n    </tr>\n    <tr>\n      <th>...</th>\n      <td>...</td>\n      <td>...</td>\n      <td>...</td>\n      <td>...</td>\n      <td>...</td>\n    </tr>\n    <tr>\n      <th>1111</th>\n      <td>26411</td>\n      <td>26461</td>\n      <td>RW-04-ALPR-RVBLLLLLL-9</td>\n      <td>Arar Land Port Fire Fighting Revised Schedule ...</td>\n      <td>Arar Land Port &amp; Residential Area Fire Fightin...</td>\n    </tr>\n    <tr>\n      <th>1116</th>\n      <td>27907</td>\n      <td>27957</td>\n      <td>2059RV01-22</td>\n      <td>WTP - Revised Schedule Rev00 - Recovery 19-10-...</td>\n      <td>WTP - Revised Schedule Rev00 -  Update 07-12-2023</td>\n    </tr>\n    <tr>\n      <th>1122</th>\n      <td>28528</td>\n      <td>28578</td>\n      <td>2057RV00A211223R00S</td>\n      <td>2057 - ARAR HIGHWAY - REVISED Rev00 - 02-11-20...</td>\n      <td>2057 - ARAR HIGHWAY - REVISED Rev00 - 02-11-20...</td>\n    </tr>\n    <tr>\n      <th>1123</th>\n      <td>28630</td>\n      <td>28680</td>\n      <td>19SACG00004-R2-101</td>\n      <td>Revised Schedule For Housing Project Finish da...</td>\n      <td>Housing project update  21-12-2023</td>\n    </tr>\n    <tr>\n      <th>1129</th>\n      <td>30550</td>\n      <td>30600</td>\n      <td>2057RV00A250124R00S</td>\n      <td>2057 - ARAR HIGHWAY - REVISED Rev00 - 02-11-20...</td>\n      <td>2057 - ARAR HIGHWAY - REVISED Rev00 - 02-11-20...</td>\n    </tr>\n  </tbody>\n</table>\n<p>406 rows × 5 columns</p>\n</div>"
     },
     "execution_count": 12,
     "metadata": {},
     "output_type": "execute_result"
    }
   ],
   "source": [
    "Update_df"
   ],
   "metadata": {
    "collapsed": false,
    "ExecuteTime": {
     "end_time": "2024-02-14T11:33:28.852459Z",
     "start_time": "2024-02-14T11:33:28.843125200Z"
    }
   },
   "id": "fbe7293fedfc35b4",
   "execution_count": 12
  },
  {
   "cell_type": "code",
   "outputs": [
    {
     "data": {
      "text/plain": "      PROJECT_ID  BASELINE_PROJECT_ID      PROJECT_SHORT_NAME  \\\n0           7670                   -1                   AR-10   \n5           2109                 2110                   A02-1   \n6           2110                   -1                   A02-2   \n8           2112                   -1           ARHAJJ-9 - B1   \n10          7721                   -1                   AR-12   \n...          ...                  ...                     ...   \n1124       29776                   -1      19SACG00004-R2-108   \n1127       30287                   -1  2057RV00A021123R00S-12   \n1128       30444                   -1  Forcast_Schedule_004-1   \n1130       30704                   -1  Forcast_Schedule_004-2   \n1134       32051                   -1  Forcast_Schedule_004-4   \n\n                                  BASELINE_PROJECT_NAME  \\\n0                                                   NaN   \n5     Aconex rev02 submitted 21-08-2022 Approved 24-...   \n6                                                   NaN   \n8                                                   NaN   \n10                                                  NaN   \n...                                                 ...   \n1124                                                NaN   \n1127                                                NaN   \n1128                                                NaN   \n1130                                                NaN   \n1134                                                NaN   \n\n                                           PROJECT_NAME  \n0     Jadidat Arar Land Port Backup Power Supply Pro...  \n5     Aconex rev02 submitted 21-08-2022 Approved 24-...  \n6     Aconex rev02 submitted 21-08-2022 Approved 24-...  \n8                                Pilgrims Baseline - B1  \n10    Jadidat Arar Land Port Backup Power Supply Pro...  \n...                                                 ...  \n1124  Revised Schedule For Housing Project Finish da...  \n1127  2057 - ARAR HIGHWAY - REVISED Rev00 - 02-11-20...  \n1128                               Forcast_Schedule_004  \n1130                               Forcast_Schedule_004  \n1134                               Forcast_Schedule_004  \n\n[406 rows x 5 columns]",
      "text/html": "<div>\n<style scoped>\n    .dataframe tbody tr th:only-of-type {\n        vertical-align: middle;\n    }\n\n    .dataframe tbody tr th {\n        vertical-align: top;\n    }\n\n    .dataframe thead th {\n        text-align: right;\n    }\n</style>\n<table border=\"1\" class=\"dataframe\">\n  <thead>\n    <tr style=\"text-align: right;\">\n      <th></th>\n      <th>PROJECT_ID</th>\n      <th>BASELINE_PROJECT_ID</th>\n      <th>PROJECT_SHORT_NAME</th>\n      <th>BASELINE_PROJECT_NAME</th>\n      <th>PROJECT_NAME</th>\n    </tr>\n  </thead>\n  <tbody>\n    <tr>\n      <th>0</th>\n      <td>7670</td>\n      <td>-1</td>\n      <td>AR-10</td>\n      <td>NaN</td>\n      <td>Jadidat Arar Land Port Backup Power Supply Pro...</td>\n    </tr>\n    <tr>\n      <th>5</th>\n      <td>2109</td>\n      <td>2110</td>\n      <td>A02-1</td>\n      <td>Aconex rev02 submitted 21-08-2022 Approved 24-...</td>\n      <td>Aconex rev02 submitted 21-08-2022 Approved 24-...</td>\n    </tr>\n    <tr>\n      <th>6</th>\n      <td>2110</td>\n      <td>-1</td>\n      <td>A02-2</td>\n      <td>NaN</td>\n      <td>Aconex rev02 submitted 21-08-2022 Approved 24-...</td>\n    </tr>\n    <tr>\n      <th>8</th>\n      <td>2112</td>\n      <td>-1</td>\n      <td>ARHAJJ-9 - B1</td>\n      <td>NaN</td>\n      <td>Pilgrims Baseline - B1</td>\n    </tr>\n    <tr>\n      <th>10</th>\n      <td>7721</td>\n      <td>-1</td>\n      <td>AR-12</td>\n      <td>NaN</td>\n      <td>Jadidat Arar Land Port Backup Power Supply Pro...</td>\n    </tr>\n    <tr>\n      <th>...</th>\n      <td>...</td>\n      <td>...</td>\n      <td>...</td>\n      <td>...</td>\n      <td>...</td>\n    </tr>\n    <tr>\n      <th>1124</th>\n      <td>29776</td>\n      <td>-1</td>\n      <td>19SACG00004-R2-108</td>\n      <td>NaN</td>\n      <td>Revised Schedule For Housing Project Finish da...</td>\n    </tr>\n    <tr>\n      <th>1127</th>\n      <td>30287</td>\n      <td>-1</td>\n      <td>2057RV00A021123R00S-12</td>\n      <td>NaN</td>\n      <td>2057 - ARAR HIGHWAY - REVISED Rev00 - 02-11-20...</td>\n    </tr>\n    <tr>\n      <th>1128</th>\n      <td>30444</td>\n      <td>-1</td>\n      <td>Forcast_Schedule_004-1</td>\n      <td>NaN</td>\n      <td>Forcast_Schedule_004</td>\n    </tr>\n    <tr>\n      <th>1130</th>\n      <td>30704</td>\n      <td>-1</td>\n      <td>Forcast_Schedule_004-2</td>\n      <td>NaN</td>\n      <td>Forcast_Schedule_004</td>\n    </tr>\n    <tr>\n      <th>1134</th>\n      <td>32051</td>\n      <td>-1</td>\n      <td>Forcast_Schedule_004-4</td>\n      <td>NaN</td>\n      <td>Forcast_Schedule_004</td>\n    </tr>\n  </tbody>\n</table>\n<p>406 rows × 5 columns</p>\n</div>"
     },
     "execution_count": 13,
     "metadata": {},
     "output_type": "execute_result"
    }
   ],
   "source": [
    "Baseline_Copy_df"
   ],
   "metadata": {
    "collapsed": false,
    "ExecuteTime": {
     "end_time": "2024-02-14T11:34:15.572949100Z",
     "start_time": "2024-02-14T11:34:15.563143900Z"
    }
   },
   "id": "7172a63aa21b9978",
   "execution_count": 13
  },
  {
   "cell_type": "code",
   "outputs": [
    {
     "data": {
      "text/plain": "      PROJECT_ID  BASELINE_PROJECT_ID  \\\n1            730                   -1   \n3           1958                   -1   \n4           2058                   -1   \n12          3247                   -1   \n13           523                   -1   \n...          ...                  ...   \n1125       29878                   -1   \n1126       30082                   -1   \n1131       30963                   -1   \n1132       31379                   -1   \n1133       31382                   -1   \n\n                           PROJECT_SHORT_NAME BASELINE_PROJECT_NAME  \\\n1                                       B-L-H                   NaN   \n3                                         A02                   NaN   \n4                                        A01A                   NaN   \n12                                       test                   NaN   \n13                                      B-L-S                   NaN   \n...                                       ...                   ...   \n1125                     Forcast Schedule_002                   NaN   \n1126                     Forcast_Schedule_003                   NaN   \n1131  1/^^f5>Dz]7N@i4nXs4GIcc)[W6VT/C9QQJ^Iw{                   NaN   \n1132                               RfP-7 - B2                   NaN   \n1133                               AR-45 - B1                   NaN   \n\n                                           PROJECT_NAME  \n1                    Housing project baseline (PYSICAL)  \n3     WTP Baseline - Aconex rev02 submitted 21-08-20...  \n4         Aconex rev01A submitted 30-07-2022 Terminated  \n12                                                 test  \n13    Improvement Works and Expansion of STP & WTP a...  \n...                                                 ...  \n1125                               Forcast Schedule_002  \n1126                     Forcast_Schedule_003_11_Jan_24  \n1131  Visual Improvement for Jadidat Arar Port Proje...  \n1132                              Housing Baseline - B1  \n1133  2130 Power Project Arar Recovery Schedule 27-4...  \n\n[324 rows x 5 columns]",
      "text/html": "<div>\n<style scoped>\n    .dataframe tbody tr th:only-of-type {\n        vertical-align: middle;\n    }\n\n    .dataframe tbody tr th {\n        vertical-align: top;\n    }\n\n    .dataframe thead th {\n        text-align: right;\n    }\n</style>\n<table border=\"1\" class=\"dataframe\">\n  <thead>\n    <tr style=\"text-align: right;\">\n      <th></th>\n      <th>PROJECT_ID</th>\n      <th>BASELINE_PROJECT_ID</th>\n      <th>PROJECT_SHORT_NAME</th>\n      <th>BASELINE_PROJECT_NAME</th>\n      <th>PROJECT_NAME</th>\n    </tr>\n  </thead>\n  <tbody>\n    <tr>\n      <th>1</th>\n      <td>730</td>\n      <td>-1</td>\n      <td>B-L-H</td>\n      <td>NaN</td>\n      <td>Housing project baseline (PYSICAL)</td>\n    </tr>\n    <tr>\n      <th>3</th>\n      <td>1958</td>\n      <td>-1</td>\n      <td>A02</td>\n      <td>NaN</td>\n      <td>WTP Baseline - Aconex rev02 submitted 21-08-20...</td>\n    </tr>\n    <tr>\n      <th>4</th>\n      <td>2058</td>\n      <td>-1</td>\n      <td>A01A</td>\n      <td>NaN</td>\n      <td>Aconex rev01A submitted 30-07-2022 Terminated</td>\n    </tr>\n    <tr>\n      <th>12</th>\n      <td>3247</td>\n      <td>-1</td>\n      <td>test</td>\n      <td>NaN</td>\n      <td>test</td>\n    </tr>\n    <tr>\n      <th>13</th>\n      <td>523</td>\n      <td>-1</td>\n      <td>B-L-S</td>\n      <td>NaN</td>\n      <td>Improvement Works and Expansion of STP &amp; WTP a...</td>\n    </tr>\n    <tr>\n      <th>...</th>\n      <td>...</td>\n      <td>...</td>\n      <td>...</td>\n      <td>...</td>\n      <td>...</td>\n    </tr>\n    <tr>\n      <th>1125</th>\n      <td>29878</td>\n      <td>-1</td>\n      <td>Forcast Schedule_002</td>\n      <td>NaN</td>\n      <td>Forcast Schedule_002</td>\n    </tr>\n    <tr>\n      <th>1126</th>\n      <td>30082</td>\n      <td>-1</td>\n      <td>Forcast_Schedule_003</td>\n      <td>NaN</td>\n      <td>Forcast_Schedule_003_11_Jan_24</td>\n    </tr>\n    <tr>\n      <th>1131</th>\n      <td>30963</td>\n      <td>-1</td>\n      <td>1/^^f5&gt;Dz]7N@i4nXs4GIcc)[W6VT/C9QQJ^Iw{</td>\n      <td>NaN</td>\n      <td>Visual Improvement for Jadidat Arar Port Proje...</td>\n    </tr>\n    <tr>\n      <th>1132</th>\n      <td>31379</td>\n      <td>-1</td>\n      <td>RfP-7 - B2</td>\n      <td>NaN</td>\n      <td>Housing Baseline - B1</td>\n    </tr>\n    <tr>\n      <th>1133</th>\n      <td>31382</td>\n      <td>-1</td>\n      <td>AR-45 - B1</td>\n      <td>NaN</td>\n      <td>2130 Power Project Arar Recovery Schedule 27-4...</td>\n    </tr>\n  </tbody>\n</table>\n<p>324 rows × 5 columns</p>\n</div>"
     },
     "execution_count": 14,
     "metadata": {},
     "output_type": "execute_result"
    }
   ],
   "source": [
    "Projects_df"
   ],
   "metadata": {
    "collapsed": false,
    "ExecuteTime": {
     "end_time": "2024-02-14T11:34:41.763852300Z",
     "start_time": "2024-02-14T11:34:41.753122700Z"
    }
   },
   "id": "1ffd891898868735",
   "execution_count": 14
  },
  {
   "cell_type": "code",
   "outputs": [],
   "source": [
    "merged_df = pd.merge(Baseline_Copy_df, Projects_df[['PROJECT_ID', 'PROJECT_NAME']],\n",
    "                     on='PROJECT_NAME', suffixes=('', '_y'))\n",
    "\n",
    "# Rename the 'PROJECT_ID_y' column to 'Original_Baseline_Project_ID'\n",
    "merged_df = merged_df.rename(columns={'PROJECT_ID_y': 'Original_Baseline_Project_ID'})"
   ],
   "metadata": {
    "collapsed": false,
    "ExecuteTime": {
     "end_time": "2024-02-14T11:48:34.476678700Z",
     "start_time": "2024-02-14T11:48:34.469099900Z"
    }
   },
   "id": "fd0c4f392e25a236",
   "execution_count": 15
  },
  {
   "cell_type": "code",
   "outputs": [
    {
     "data": {
      "text/plain": "     PROJECT_ID  BASELINE_PROJECT_ID      PROJECT_SHORT_NAME  \\\n0          7670                   -1                   AR-10   \n1          7670                   -1                   AR-10   \n2          7670                   -1                   AR-10   \n3          7670                   -1                   AR-10   \n4          7670                   -1                   AR-10   \n..          ...                  ...                     ...   \n767       29776                   -1      19SACG00004-R2-108   \n768       30287                   -1  2057RV00A021123R00S-12   \n769       30444                   -1  Forcast_Schedule_004-1   \n770       30704                   -1  Forcast_Schedule_004-2   \n771       32051                   -1  Forcast_Schedule_004-4   \n\n    BASELINE_PROJECT_NAME                                       PROJECT_NAME  \\\n0                     NaN  Jadidat Arar Land Port Backup Power Supply Pro...   \n1                     NaN  Jadidat Arar Land Port Backup Power Supply Pro...   \n2                     NaN  Jadidat Arar Land Port Backup Power Supply Pro...   \n3                     NaN  Jadidat Arar Land Port Backup Power Supply Pro...   \n4                     NaN  Jadidat Arar Land Port Backup Power Supply Pro...   \n..                    ...                                                ...   \n767                   NaN  Revised Schedule For Housing Project Finish da...   \n768                   NaN  2057 - ARAR HIGHWAY - REVISED Rev00 - 02-11-20...   \n769                   NaN                               Forcast_Schedule_004   \n770                   NaN                               Forcast_Schedule_004   \n771                   NaN                               Forcast_Schedule_004   \n\n     Original_Baseline_Project_ID  \n0                            8498  \n1                            7003  \n2                            8810  \n3                           23523  \n4                            7106  \n..                            ...  \n767                         28579  \n768                         26101  \n769                         30394  \n770                         30394  \n771                         30394  \n\n[772 rows x 6 columns]",
      "text/html": "<div>\n<style scoped>\n    .dataframe tbody tr th:only-of-type {\n        vertical-align: middle;\n    }\n\n    .dataframe tbody tr th {\n        vertical-align: top;\n    }\n\n    .dataframe thead th {\n        text-align: right;\n    }\n</style>\n<table border=\"1\" class=\"dataframe\">\n  <thead>\n    <tr style=\"text-align: right;\">\n      <th></th>\n      <th>PROJECT_ID</th>\n      <th>BASELINE_PROJECT_ID</th>\n      <th>PROJECT_SHORT_NAME</th>\n      <th>BASELINE_PROJECT_NAME</th>\n      <th>PROJECT_NAME</th>\n      <th>Original_Baseline_Project_ID</th>\n    </tr>\n  </thead>\n  <tbody>\n    <tr>\n      <th>0</th>\n      <td>7670</td>\n      <td>-1</td>\n      <td>AR-10</td>\n      <td>NaN</td>\n      <td>Jadidat Arar Land Port Backup Power Supply Pro...</td>\n      <td>8498</td>\n    </tr>\n    <tr>\n      <th>1</th>\n      <td>7670</td>\n      <td>-1</td>\n      <td>AR-10</td>\n      <td>NaN</td>\n      <td>Jadidat Arar Land Port Backup Power Supply Pro...</td>\n      <td>7003</td>\n    </tr>\n    <tr>\n      <th>2</th>\n      <td>7670</td>\n      <td>-1</td>\n      <td>AR-10</td>\n      <td>NaN</td>\n      <td>Jadidat Arar Land Port Backup Power Supply Pro...</td>\n      <td>8810</td>\n    </tr>\n    <tr>\n      <th>3</th>\n      <td>7670</td>\n      <td>-1</td>\n      <td>AR-10</td>\n      <td>NaN</td>\n      <td>Jadidat Arar Land Port Backup Power Supply Pro...</td>\n      <td>23523</td>\n    </tr>\n    <tr>\n      <th>4</th>\n      <td>7670</td>\n      <td>-1</td>\n      <td>AR-10</td>\n      <td>NaN</td>\n      <td>Jadidat Arar Land Port Backup Power Supply Pro...</td>\n      <td>7106</td>\n    </tr>\n    <tr>\n      <th>...</th>\n      <td>...</td>\n      <td>...</td>\n      <td>...</td>\n      <td>...</td>\n      <td>...</td>\n      <td>...</td>\n    </tr>\n    <tr>\n      <th>767</th>\n      <td>29776</td>\n      <td>-1</td>\n      <td>19SACG00004-R2-108</td>\n      <td>NaN</td>\n      <td>Revised Schedule For Housing Project Finish da...</td>\n      <td>28579</td>\n    </tr>\n    <tr>\n      <th>768</th>\n      <td>30287</td>\n      <td>-1</td>\n      <td>2057RV00A021123R00S-12</td>\n      <td>NaN</td>\n      <td>2057 - ARAR HIGHWAY - REVISED Rev00 - 02-11-20...</td>\n      <td>26101</td>\n    </tr>\n    <tr>\n      <th>769</th>\n      <td>30444</td>\n      <td>-1</td>\n      <td>Forcast_Schedule_004-1</td>\n      <td>NaN</td>\n      <td>Forcast_Schedule_004</td>\n      <td>30394</td>\n    </tr>\n    <tr>\n      <th>770</th>\n      <td>30704</td>\n      <td>-1</td>\n      <td>Forcast_Schedule_004-2</td>\n      <td>NaN</td>\n      <td>Forcast_Schedule_004</td>\n      <td>30394</td>\n    </tr>\n    <tr>\n      <th>771</th>\n      <td>32051</td>\n      <td>-1</td>\n      <td>Forcast_Schedule_004-4</td>\n      <td>NaN</td>\n      <td>Forcast_Schedule_004</td>\n      <td>30394</td>\n    </tr>\n  </tbody>\n</table>\n<p>772 rows × 6 columns</p>\n</div>"
     },
     "execution_count": 16,
     "metadata": {},
     "output_type": "execute_result"
    }
   ],
   "source": [
    "merged_df"
   ],
   "metadata": {
    "collapsed": false,
    "ExecuteTime": {
     "end_time": "2024-02-14T11:48:41.095028400Z",
     "start_time": "2024-02-14T11:48:41.082561800Z"
    }
   },
   "id": "55e349529a4f96d1",
   "execution_count": 16
  }
 ],
 "metadata": {
  "kernelspec": {
   "display_name": "Python 3",
   "language": "python",
   "name": "python3"
  },
  "language_info": {
   "codemirror_mode": {
    "name": "ipython",
    "version": 2
   },
   "file_extension": ".py",
   "mimetype": "text/x-python",
   "name": "python",
   "nbconvert_exporter": "python",
   "pygments_lexer": "ipython2",
   "version": "2.7.6"
  }
 },
 "nbformat": 4,
 "nbformat_minor": 5
}
