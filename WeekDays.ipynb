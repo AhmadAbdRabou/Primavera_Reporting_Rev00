{
 "cells": [
  {
   "cell_type": "code",
   "id": "initial_id",
   "metadata": {
    "collapsed": true,
    "ExecuteTime": {
     "end_time": "2024-07-17T12:30:34.637353600Z",
     "start_time": "2024-07-17T12:30:18.446894400Z"
    }
   },
   "source": [
    "import pandas as pd\n",
    "pd.set_option('display.max_columns', None)\n",
    "pd.set_option('display.max_rows', None)"
   ],
   "outputs": [],
   "execution_count": 1
  },
  {
   "metadata": {
    "ExecuteTime": {
     "end_time": "2024-07-17T12:30:36.434373Z",
     "start_time": "2024-07-17T12:30:34.535924700Z"
    }
   },
   "cell_type": "code",
   "source": [
    "# Load the calendar data into a DataFrame\n",
    "calendar_df = pd.read_excel('TST00.xlsx', sheet_name='CALENDAR')\n",
    "\n",
    "# Find the column index of 'clndr_data'\n",
    "clndr_data_col = calendar_df.columns.get_loc('clndr_data')\n",
    "\n",
    "# Initialize an empty DataFrame for Cal_Data\n",
    "cal_data_columns = [\"clndr_id\", \"Data\", \"type\", \"Date\", \"Hours\", \"Key\"]\n",
    "cal_data_df = pd.DataFrame(columns=cal_data_columns)\n",
    "\n",
    "# Counter for the new rows\n",
    "c = 0\n",
    "\n",
    "# Iterate over each row in the calendar DataFrame starting from the second row\n",
    "for i in range(0, len(calendar_df)):\n",
    "    split_string = calendar_df.iloc[i, clndr_data_col]\n",
    "    split_target = split_string.split('(0||')\n",
    "    \n",
    "    # Create new rows for each split part\n",
    "    new_rows = pd.DataFrame({\n",
    "        \"clndr_id\": [calendar_df.iloc[i, 1]] * len(split_target),\n",
    "        \"Data\": split_target\n",
    "    })\n",
    "    \n",
    "    # Append new rows to the Cal_Data DataFrame\n",
    "    cal_data_df = pd.concat([cal_data_df, new_rows], ignore_index=True)\n",
    "    c += len(split_target)\n",
    "\n",
    "# Reset index if needed\n",
    "cal_data_df.reset_index(drop=True, inplace=True)"
   ],
   "id": "45f9a402ee87e999",
   "outputs": [],
   "execution_count": 2
  },
  {
   "metadata": {
    "ExecuteTime": {
     "end_time": "2024-07-17T12:30:36.439452Z",
     "start_time": "2024-07-17T12:30:36.437449100Z"
    }
   },
   "cell_type": "code",
   "source": [
    "start_index = cal_data_df[cal_data_df['Data'].str.contains('DaysOfWeek')].index[0]\n",
    "end_index = cal_data_df[cal_data_df['Data'].str.contains('VIEW')].index[0]\n",
    "\n",
    "# Create a new DataFrame by selecting rows between \"DaysOfWeek\" and \"VIEW\"\n",
    "DaysOfWeek_df = cal_data_df.loc[start_index + 1: end_index - 1]"
   ],
   "id": "48374962faa3cef8",
   "outputs": [],
   "execution_count": 3
  },
  {
   "metadata": {
    "ExecuteTime": {
     "end_time": "2024-07-17T12:30:36.559936300Z",
     "start_time": "2024-07-17T12:30:36.440443800Z"
    }
   },
   "cell_type": "code",
   "source": [
    "# Initialize a list to hold the data\n",
    "WeekDays_data = []\n",
    "\n",
    "# Iterate over rows in DaysOfWeek_df\n",
    "for i in range(len(DaysOfWeek_df['Data'])):\n",
    "\n",
    "    if DaysOfWeek_df['Data'].iloc[i][0] != '0':\n",
    "        # Add new entry and mark it as the current entry\n",
    "        current_entry = [DaysOfWeek_df['Data'].iloc[i][0], '0', '0']\n",
    "        WeekDays_data.append(current_entry)\n",
    "\n",
    "    elif 's' in DaysOfWeek_df['Data'].iloc[i] and 'f' in DaysOfWeek_df['Data'].iloc[i]:\n",
    "        # Modify 'StartingHour' and 'EndingHour' of current entry\n",
    "        start_s = DaysOfWeek_df['Data'].iloc[i].index('s') + 2\n",
    "        start_f = DaysOfWeek_df['Data'].iloc[i].index('f') + 2\n",
    "        current_entry[1] = DaysOfWeek_df['Data'].iloc[i][start_s: start_s + 5]\n",
    "        current_entry[2] = DaysOfWeek_df['Data'].iloc[i][start_f: start_f + 5]\n",
    "\n",
    "# Create DataFrame\n",
    "WeekDays = pd.DataFrame(WeekDays_data, columns=['DayNumber', 'StartingHour', 'EndingHour'])"
   ],
   "id": "9fd716f400f73dcf",
   "outputs": [],
   "execution_count": 4
  },
  {
   "metadata": {
    "ExecuteTime": {
     "end_time": "2024-07-17T12:30:36.671644Z",
     "start_time": "2024-07-17T12:30:36.560963Z"
    }
   },
   "cell_type": "code",
   "source": [
    "WeekDays"
   ],
   "id": "47e40c974ba1d0ec",
   "outputs": [
    {
     "data": {
      "text/plain": "  DayNumber StartingHour EndingHour\n0         1        07:00      17:00\n1         2        07:00      17:00\n2         3        07:00      17:00\n3         4        07:00      17:00\n4         5        07:00      17:00\n5         6            0          0\n6         7        07:00      17:00",
      "text/html": "<div>\n<style scoped>\n    .dataframe tbody tr th:only-of-type {\n        vertical-align: middle;\n    }\n\n    .dataframe tbody tr th {\n        vertical-align: top;\n    }\n\n    .dataframe thead th {\n        text-align: right;\n    }\n</style>\n<table border=\"1\" class=\"dataframe\">\n  <thead>\n    <tr style=\"text-align: right;\">\n      <th></th>\n      <th>DayNumber</th>\n      <th>StartingHour</th>\n      <th>EndingHour</th>\n    </tr>\n  </thead>\n  <tbody>\n    <tr>\n      <th>0</th>\n      <td>1</td>\n      <td>07:00</td>\n      <td>17:00</td>\n    </tr>\n    <tr>\n      <th>1</th>\n      <td>2</td>\n      <td>07:00</td>\n      <td>17:00</td>\n    </tr>\n    <tr>\n      <th>2</th>\n      <td>3</td>\n      <td>07:00</td>\n      <td>17:00</td>\n    </tr>\n    <tr>\n      <th>3</th>\n      <td>4</td>\n      <td>07:00</td>\n      <td>17:00</td>\n    </tr>\n    <tr>\n      <th>4</th>\n      <td>5</td>\n      <td>07:00</td>\n      <td>17:00</td>\n    </tr>\n    <tr>\n      <th>5</th>\n      <td>6</td>\n      <td>0</td>\n      <td>0</td>\n    </tr>\n    <tr>\n      <th>6</th>\n      <td>7</td>\n      <td>07:00</td>\n      <td>17:00</td>\n    </tr>\n  </tbody>\n</table>\n</div>"
     },
     "execution_count": 5,
     "metadata": {},
     "output_type": "execute_result"
    }
   ],
   "execution_count": 5
  },
  {
   "metadata": {
    "ExecuteTime": {
     "end_time": "2024-07-17T12:30:36.802788Z",
     "start_time": "2024-07-17T12:30:36.670648Z"
    }
   },
   "cell_type": "code",
   "source": [
    "# Get index of row containing 'Exceptions' in 'Data' column\n",
    "exceptions_index = cal_data_df[cal_data_df['Data'].str.contains('Exceptions')].index[0]\n",
    "\n",
    "# Select all rows after that index\n",
    "exceptions_df = cal_data_df.iloc[exceptions_index + 1:]"
   ],
   "id": "9041990575264c76",
   "outputs": [],
   "execution_count": 6
  },
  {
   "metadata": {
    "ExecuteTime": {
     "end_time": "2024-07-17T12:30:36.822700700Z",
     "start_time": "2024-07-17T12:30:36.715944Z"
    }
   },
   "cell_type": "code",
   "source": [
    "# Initialize a list to hold the data\n",
    "Exceptions_data = []\n",
    "\n",
    "# Iterate over rows in exceptions_df\n",
    "for i in range(len(exceptions_df['Data'])):\n",
    "\n",
    "    if 'd' in exceptions_df['Data'].iloc[i]:\n",
    "        # Add new entry and mark it as the current entry\n",
    "        idx = exceptions_df['Data'].iloc[i].index('d')\n",
    "        current_entry = [exceptions_df['Data'].iloc[i][idx + 2:idx + 7], '0', '0']\n",
    "        Exceptions_data.append(current_entry)\n",
    "\n",
    "        # If next row contains 's' and 'f', modify 'StartingHour' and 'EndingHour' of current entry\n",
    "        if i < len(exceptions_df['Data']) - 1 and 's' in exceptions_df['Data'].iloc[i + 1] and 'f' in \\\n",
    "                exceptions_df['Data'].iloc[i + 1]:\n",
    "            start_s = exceptions_df['Data'].iloc[i + 1].index('s') + 2\n",
    "            start_f = exceptions_df['Data'].iloc[i + 1].index('f') + 2\n",
    "            current_entry[1] = exceptions_df['Data'].iloc[i + 1][start_s: start_s + 5]\n",
    "            current_entry[2] = exceptions_df['Data'].iloc[i + 1][start_f: start_f + 5]\n",
    "\n",
    "# Create DataFrame\n",
    "Exceptions = pd.DataFrame(Exceptions_data, columns=['DayNumber', 'StartingHour', 'EndingHour'])"
   ],
   "id": "dd02f0c9273fccb8",
   "outputs": [],
   "execution_count": 7
  },
  {
   "metadata": {
    "ExecuteTime": {
     "end_time": "2024-07-17T12:30:36.859887300Z",
     "start_time": "2024-07-17T12:30:36.791793600Z"
    }
   },
   "cell_type": "code",
   "source": [
    "Exceptions"
   ],
   "id": "ef2e5a66be9a0329",
   "outputs": [
    {
     "data": {
      "text/plain": "   DayNumber StartingHour EndingHour\n0      44197        08:00      16:00\n1      44979            0          0\n2      45038            0          0\n3      45039            0          0\n4      45040            0          0\n5      45041            0          0\n6      45104            0          0\n7      45105            0          0\n8      45106            0          0\n9      45108            0          0\n10     45192            0          0\n11     45344            0          0\n12     45391            0          0\n13     45392            0          0\n14     45393            0          0\n15     45395            0          0\n16     45458            0          0\n17     45459            0          0\n18     45460            0          0\n19     45461            0          0\n20     45558            0          0\n21     45679            0          0\n22     45710            0          0\n23     45746            0          0\n24     45747            0          0\n25     45748            0          0\n26     45749            0          0\n27     45813            0          0\n28     45815            0          0\n29     45816            0          0\n30     45817            0          0\n31     45923            0          0\n32     46075            0          0\n33     46100            0          0\n34     46102            0          0\n35     46103            0          0\n36     46104            0          0\n37     46168            0          0\n38     46169            0          0\n39     46170            0          0\n40     46172            0          0\n41     46173            0          0\n42     46213        07:00      17:00\n43     46288            0          0\n44     46440            0          0\n45     46456            0          0\n46     46457            0          0\n47     46459            0          0\n48     46460            0          0\n49     46524            0          0\n50     46525            0          0\n51     46526            0          0\n52     46527            0          0\n53     46653            0          0",
      "text/html": "<div>\n<style scoped>\n    .dataframe tbody tr th:only-of-type {\n        vertical-align: middle;\n    }\n\n    .dataframe tbody tr th {\n        vertical-align: top;\n    }\n\n    .dataframe thead th {\n        text-align: right;\n    }\n</style>\n<table border=\"1\" class=\"dataframe\">\n  <thead>\n    <tr style=\"text-align: right;\">\n      <th></th>\n      <th>DayNumber</th>\n      <th>StartingHour</th>\n      <th>EndingHour</th>\n    </tr>\n  </thead>\n  <tbody>\n    <tr>\n      <th>0</th>\n      <td>44197</td>\n      <td>08:00</td>\n      <td>16:00</td>\n    </tr>\n    <tr>\n      <th>1</th>\n      <td>44979</td>\n      <td>0</td>\n      <td>0</td>\n    </tr>\n    <tr>\n      <th>2</th>\n      <td>45038</td>\n      <td>0</td>\n      <td>0</td>\n    </tr>\n    <tr>\n      <th>3</th>\n      <td>45039</td>\n      <td>0</td>\n      <td>0</td>\n    </tr>\n    <tr>\n      <th>4</th>\n      <td>45040</td>\n      <td>0</td>\n      <td>0</td>\n    </tr>\n    <tr>\n      <th>5</th>\n      <td>45041</td>\n      <td>0</td>\n      <td>0</td>\n    </tr>\n    <tr>\n      <th>6</th>\n      <td>45104</td>\n      <td>0</td>\n      <td>0</td>\n    </tr>\n    <tr>\n      <th>7</th>\n      <td>45105</td>\n      <td>0</td>\n      <td>0</td>\n    </tr>\n    <tr>\n      <th>8</th>\n      <td>45106</td>\n      <td>0</td>\n      <td>0</td>\n    </tr>\n    <tr>\n      <th>9</th>\n      <td>45108</td>\n      <td>0</td>\n      <td>0</td>\n    </tr>\n    <tr>\n      <th>10</th>\n      <td>45192</td>\n      <td>0</td>\n      <td>0</td>\n    </tr>\n    <tr>\n      <th>11</th>\n      <td>45344</td>\n      <td>0</td>\n      <td>0</td>\n    </tr>\n    <tr>\n      <th>12</th>\n      <td>45391</td>\n      <td>0</td>\n      <td>0</td>\n    </tr>\n    <tr>\n      <th>13</th>\n      <td>45392</td>\n      <td>0</td>\n      <td>0</td>\n    </tr>\n    <tr>\n      <th>14</th>\n      <td>45393</td>\n      <td>0</td>\n      <td>0</td>\n    </tr>\n    <tr>\n      <th>15</th>\n      <td>45395</td>\n      <td>0</td>\n      <td>0</td>\n    </tr>\n    <tr>\n      <th>16</th>\n      <td>45458</td>\n      <td>0</td>\n      <td>0</td>\n    </tr>\n    <tr>\n      <th>17</th>\n      <td>45459</td>\n      <td>0</td>\n      <td>0</td>\n    </tr>\n    <tr>\n      <th>18</th>\n      <td>45460</td>\n      <td>0</td>\n      <td>0</td>\n    </tr>\n    <tr>\n      <th>19</th>\n      <td>45461</td>\n      <td>0</td>\n      <td>0</td>\n    </tr>\n    <tr>\n      <th>20</th>\n      <td>45558</td>\n      <td>0</td>\n      <td>0</td>\n    </tr>\n    <tr>\n      <th>21</th>\n      <td>45679</td>\n      <td>0</td>\n      <td>0</td>\n    </tr>\n    <tr>\n      <th>22</th>\n      <td>45710</td>\n      <td>0</td>\n      <td>0</td>\n    </tr>\n    <tr>\n      <th>23</th>\n      <td>45746</td>\n      <td>0</td>\n      <td>0</td>\n    </tr>\n    <tr>\n      <th>24</th>\n      <td>45747</td>\n      <td>0</td>\n      <td>0</td>\n    </tr>\n    <tr>\n      <th>25</th>\n      <td>45748</td>\n      <td>0</td>\n      <td>0</td>\n    </tr>\n    <tr>\n      <th>26</th>\n      <td>45749</td>\n      <td>0</td>\n      <td>0</td>\n    </tr>\n    <tr>\n      <th>27</th>\n      <td>45813</td>\n      <td>0</td>\n      <td>0</td>\n    </tr>\n    <tr>\n      <th>28</th>\n      <td>45815</td>\n      <td>0</td>\n      <td>0</td>\n    </tr>\n    <tr>\n      <th>29</th>\n      <td>45816</td>\n      <td>0</td>\n      <td>0</td>\n    </tr>\n    <tr>\n      <th>30</th>\n      <td>45817</td>\n      <td>0</td>\n      <td>0</td>\n    </tr>\n    <tr>\n      <th>31</th>\n      <td>45923</td>\n      <td>0</td>\n      <td>0</td>\n    </tr>\n    <tr>\n      <th>32</th>\n      <td>46075</td>\n      <td>0</td>\n      <td>0</td>\n    </tr>\n    <tr>\n      <th>33</th>\n      <td>46100</td>\n      <td>0</td>\n      <td>0</td>\n    </tr>\n    <tr>\n      <th>34</th>\n      <td>46102</td>\n      <td>0</td>\n      <td>0</td>\n    </tr>\n    <tr>\n      <th>35</th>\n      <td>46103</td>\n      <td>0</td>\n      <td>0</td>\n    </tr>\n    <tr>\n      <th>36</th>\n      <td>46104</td>\n      <td>0</td>\n      <td>0</td>\n    </tr>\n    <tr>\n      <th>37</th>\n      <td>46168</td>\n      <td>0</td>\n      <td>0</td>\n    </tr>\n    <tr>\n      <th>38</th>\n      <td>46169</td>\n      <td>0</td>\n      <td>0</td>\n    </tr>\n    <tr>\n      <th>39</th>\n      <td>46170</td>\n      <td>0</td>\n      <td>0</td>\n    </tr>\n    <tr>\n      <th>40</th>\n      <td>46172</td>\n      <td>0</td>\n      <td>0</td>\n    </tr>\n    <tr>\n      <th>41</th>\n      <td>46173</td>\n      <td>0</td>\n      <td>0</td>\n    </tr>\n    <tr>\n      <th>42</th>\n      <td>46213</td>\n      <td>07:00</td>\n      <td>17:00</td>\n    </tr>\n    <tr>\n      <th>43</th>\n      <td>46288</td>\n      <td>0</td>\n      <td>0</td>\n    </tr>\n    <tr>\n      <th>44</th>\n      <td>46440</td>\n      <td>0</td>\n      <td>0</td>\n    </tr>\n    <tr>\n      <th>45</th>\n      <td>46456</td>\n      <td>0</td>\n      <td>0</td>\n    </tr>\n    <tr>\n      <th>46</th>\n      <td>46457</td>\n      <td>0</td>\n      <td>0</td>\n    </tr>\n    <tr>\n      <th>47</th>\n      <td>46459</td>\n      <td>0</td>\n      <td>0</td>\n    </tr>\n    <tr>\n      <th>48</th>\n      <td>46460</td>\n      <td>0</td>\n      <td>0</td>\n    </tr>\n    <tr>\n      <th>49</th>\n      <td>46524</td>\n      <td>0</td>\n      <td>0</td>\n    </tr>\n    <tr>\n      <th>50</th>\n      <td>46525</td>\n      <td>0</td>\n      <td>0</td>\n    </tr>\n    <tr>\n      <th>51</th>\n      <td>46526</td>\n      <td>0</td>\n      <td>0</td>\n    </tr>\n    <tr>\n      <th>52</th>\n      <td>46527</td>\n      <td>0</td>\n      <td>0</td>\n    </tr>\n    <tr>\n      <th>53</th>\n      <td>46653</td>\n      <td>0</td>\n      <td>0</td>\n    </tr>\n  </tbody>\n</table>\n</div>"
     },
     "execution_count": 8,
     "metadata": {},
     "output_type": "execute_result"
    }
   ],
   "execution_count": 8
  }
 ],
 "metadata": {
  "kernelspec": {
   "display_name": "Python 3",
   "language": "python",
   "name": "python3"
  },
  "language_info": {
   "codemirror_mode": {
    "name": "ipython",
    "version": 2
   },
   "file_extension": ".py",
   "mimetype": "text/x-python",
   "name": "python",
   "nbconvert_exporter": "python",
   "pygments_lexer": "ipython2",
   "version": "2.7.6"
  }
 },
 "nbformat": 4,
 "nbformat_minor": 5
}
